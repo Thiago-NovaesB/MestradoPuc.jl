{
 "cells": [
  {
   "cell_type": "markdown",
   "metadata": {},
   "source": [
    "## Preparando Ambiente"
   ]
  },
  {
   "cell_type": "code",
   "execution_count": null,
   "metadata": {},
   "outputs": [],
   "source": [
    "using Pkg\n",
    "Pkg.activate(\"..\\\\..\");\n",
    "using JuMP;\n",
    "using Plots;\n",
    "using GLPK;\n",
    "using CSV;\n",
    "using DataFrames;"
   ]
  },
  {
   "cell_type": "markdown",
   "metadata": {},
   "source": [
    "## Analise exploratoria"
   ]
  },
  {
   "cell_type": "code",
   "execution_count": null,
   "metadata": {},
   "outputs": [],
   "source": [
    "df = CSV.read(\"eolica.csv\", DataFrame);\n",
    "data = df[:,2];"
   ]
  },
  {
   "cell_type": "code",
   "execution_count": null,
   "metadata": {},
   "outputs": [],
   "source": [
    "function L(data::Vector{Float64}, k::Int = 0)\n",
    "    x = data[1:end-k]\n",
    "    y = data[k+1:end]\n",
    "\n",
    "    return x, y\n",
    "end\n",
    "\n",
    "function plot_shift(data::Vector{Float64}, k::Int = 0)\n",
    "    x, y = L(data, k)\n",
    "    p = plot(x, y, seriestype = :scatter, title = \"k = $k\")\n",
    "\n",
    "    return p\n",
    "end"
   ]
  },
  {
   "cell_type": "code",
   "execution_count": null,
   "metadata": {},
   "outputs": [],
   "source": [
    "plot(\n",
    "    plot_shift(data, 1),\n",
    "    plot_shift(data, 2),\n",
    "    plot_shift(data, 3),\n",
    "    plot_shift(data, 4),\n",
    "    layout = (2, 2), legend = false)"
   ]
  },
  {
   "cell_type": "code",
   "execution_count": null,
   "metadata": {},
   "outputs": [],
   "source": [
    "plot(\n",
    "    plot_shift(data, 21),\n",
    "    plot_shift(data, 22),\n",
    "    plot_shift(data, 23),\n",
    "    plot_shift(data, 24),\n",
    "    layout = (2, 2), legend = false)"
   ]
  },
  {
   "cell_type": "code",
   "execution_count": null,
   "metadata": {},
   "outputs": [],
   "source": [
    "plot(\n",
    "    plot_shift(data, 11),\n",
    "    plot_shift(data, 12),\n",
    "    plot_shift(data, 13),\n",
    "    plot_shift(data, 14),\n",
    "    layout = (2, 2), legend = false)"
   ]
  },
  {
   "cell_type": "markdown",
   "metadata": {},
   "source": [
    "## Modelo Autoregressivo sem sazonalidade"
   ]
  },
  {
   "cell_type": "code",
   "execution_count": null,
   "metadata": {},
   "outputs": [],
   "source": [
    "function auto_regression_model(data::Vector{Float64}, K::Vector{Int} = [1])\n",
    "\n",
    "    n = length(K)\n",
    "    N = length(data)\n",
    "    k_max = maximum(K)\n",
    "\n",
    "    model = Model(GLPK.Optimizer)\n",
    "    @variable(model, beta[1:n+1])\n",
    "    @variable(model, error[1:N-k_max])\n",
    "\n",
    "    @expression(model, AR[i = 1:N-k_max], \n",
    "        beta[1] + \n",
    "        sum(beta[j+1]*data[i + k_max - K[j]] for j = 1:n))\n",
    "\n",
    "    @constraint(model, [i = 1:N-k_max], error[i] >= + data[i + k_max] - AR[i] )\n",
    "    @constraint(model, [i = 1:N-k_max], error[i] >= - data[i + k_max] + AR[i] )\n",
    "\n",
    "    @objective(model, Min, sum(error))\n",
    "\n",
    "    optimize!(model)\n",
    "    \n",
    "    return model\n",
    "end"
   ]
  },
  {
   "cell_type": "code",
   "execution_count": null,
   "metadata": {},
   "outputs": [],
   "source": [
    "model = auto_regression_model(data,[1])\n",
    "AR = value.(model[:AR])\n",
    "r_square(data[2:end], AR)\n",
    "plot([data[2:end], AR], label=[\"original\" \"Estimado\"])"
   ]
  },
  {
   "cell_type": "code",
   "execution_count": null,
   "metadata": {},
   "outputs": [],
   "source": [
    "model = auto_regression_model(data,[1, 24])\n",
    "AR = value.(model[:AR])\n",
    "r_square(data[25:end], AR)\n",
    "plot([data[25:end], AR], label=[\"original\" \"Estimado\"])"
   ]
  },
  {
   "cell_type": "code",
   "execution_count": null,
   "metadata": {},
   "outputs": [],
   "source": [
    "model = auto_regression_model(data,[1, 2, 23, 24])\n",
    "AR = value.(model[:AR])\n",
    "r_square(data[25:end], AR)\n",
    "plot([data[25:end], AR], label=[\"original\" \"Estimado\"])\n",
    "plot([data[25:end], AR], label=[\"original\" \"Estimado\"])"
   ]
  },
  {
   "cell_type": "code",
   "execution_count": null,
   "metadata": {},
   "outputs": [],
   "source": [
    "model = auto_regression_model(data,[1, 12, 24])\n",
    "AR = value.(model[:AR])\n",
    "r_square(data[25:end], AR)\n",
    "plot([data[25:end], AR], label=[\"original\" \"Estimado\"])"
   ]
  },
  {
   "cell_type": "markdown",
   "metadata": {},
   "source": [
    "## Modelo com sazonalidade"
   ]
  },
  {
   "cell_type": "code",
   "execution_count": null,
   "metadata": {},
   "outputs": [],
   "source": [
    "function agregate(data::Vector{Float64}, s::Int)\n",
    "    agregated = Float64[]\n",
    "    location = 1\n",
    "    size = length(data)\n",
    "\n",
    "    while true\n",
    "        if location+s-1 <= size\n",
    "            interval = data[location:location+s-1]\n",
    "            value =  sum(interval) / s\n",
    "            push!(agregated, value)\n",
    "            location = location+s\n",
    "        else\n",
    "            break\n",
    "        end\n",
    "    end\n",
    "\n",
    "    return agregated\n",
    "end"
   ]
  },
  {
   "cell_type": "code",
   "execution_count": null,
   "metadata": {},
   "outputs": [],
   "source": [
    "y = agregate(data,720)\n",
    "plot(y, title = \"Agregação mensal\")"
   ]
  },
  {
   "cell_type": "code",
   "execution_count": null,
   "metadata": {},
   "outputs": [],
   "source": [
    "function season_model(data::Vector{Float64}, S::Vector{Int} = [8760], M::Vector{Int} = [1])\n",
    "\n",
    "    N = length(data)\n",
    "    m = length(S)\n",
    "\n",
    "    model = Model(GLPK.Optimizer)\n",
    "    @variable(model, error[1:N])\n",
    "    @variable(model, theta[1:sum(M)])\n",
    "    @variable(model, phi[1:sum(M)])\n",
    "    @variable(model, level)\n",
    "        \n",
    "    @expression(model, ST[i = 1:N], level + sum(sum(\n",
    "        theta[(j != 1 ? sum(M[l] for l = 1:j-1) : 0) + k]*cos(2*pi*k*i/S[j]) + \n",
    "        phi[(j != 1 ? sum(M[l] for l = 1:j-1) : 0) + k]*sin(2*pi*k*i/S[j]) \n",
    "        for k in 1:M[j]) for j = 1:m))\n",
    "\n",
    "    @constraint(model, [i = 1:N], error[i] >= + data[i] - ST[i])\n",
    "    @constraint(model, [i = 1:N], error[i] >= - data[i] + ST[i])\n",
    "\n",
    "    @objective(model, Min, sum(error))\n",
    "\n",
    "    optimize!(model)\n",
    "\n",
    "    write_to_file(model, \"teste.lp\")\n",
    "    \n",
    "    return model\n",
    "end"
   ]
  },
  {
   "cell_type": "code",
   "execution_count": null,
   "metadata": {},
   "outputs": [],
   "source": [
    "model = season_model(data,[24,8760],[5,5])\n",
    "ST = value.(model[:ST])\n",
    "plot([data, ST],label=[\"Original\" \"Estimado\"])\n",
    "r_square(data, ST)"
   ]
  },
  {
   "cell_type": "code",
   "execution_count": null,
   "metadata": {},
   "outputs": [],
   "source": [
    "model = season_model(data,[24,8760],[3,3])\n",
    "ST = value.(model[:ST])\n",
    "plot([data, ST],label=[\"Original\" \"Estimado\"])\n",
    "r_square(data, ST)"
   ]
  },
  {
   "cell_type": "code",
   "execution_count": null,
   "metadata": {},
   "outputs": [],
   "source": [
    "model = season_model(data,[24,8760],[1,1])\n",
    "ST = value.(model[:ST])\n",
    "plot([data, ST],label=[\"Original\" \"Estimado\"])\n",
    "r_square(data, ST)"
   ]
  },
  {
   "cell_type": "markdown",
   "metadata": {},
   "source": [
    "## Modelo Completo"
   ]
  },
  {
   "cell_type": "code",
   "execution_count": null,
   "metadata": {},
   "outputs": [],
   "source": [
    "function complete_model(data::Vector{Float64}, K::Vector{Int} = [1], S::Vector{Int} = [8760], M::Vector{Int} = [1])\n",
    "\n",
    "    n = length(K)\n",
    "    N = length(data)\n",
    "    k_max = maximum(K)\n",
    "    m = length(S)\n",
    "\n",
    "    model = Model(GLPK.Optimizer)\n",
    "    @variable(model, beta[1:n+1])\n",
    "    @variable(model, error[1:N-k_max])\n",
    "    @variable(model, theta[1:sum(M)])\n",
    "    @variable(model, phi[1:sum(M)])\n",
    "\n",
    "    @expression(model, AR[i = 1:N-k_max], \n",
    "        beta[1] + \n",
    "        sum(beta[j+1]*data[i + k_max - K[j]] for j = 1:n))\n",
    "        \n",
    "    @expression(model, ST[i = 1:N-k_max], sum(sum(\n",
    "        theta[(j != 1 ? sum(M[l] for l = 1:j-1) : 0) + k]*cos(2*pi*k*i/S[j]) + \n",
    "        phi[(j != 1 ? sum(M[l] for l = 1:j-1) : 0) + k]*sin(2*pi*k*i/S[j]) \n",
    "        for k in 1:M[j]) for j = 1:m))\n",
    "\n",
    "    @expression(model, estimate[i = 1:N-k_max], AR[i] + ST[i])\n",
    "\n",
    "    @constraint(model, [i = 1:N-k_max], error[i] >= + data[i + k_max] - estimate[i])\n",
    "    @constraint(model, [i = 1:N-k_max], error[i] >= - data[i + k_max] + estimate[i])\n",
    "\n",
    "    @objective(model, Min, sum(error))\n",
    "\n",
    "    optimize!(model)\n",
    "    \n",
    "    return model\n",
    "end"
   ]
  },
  {
   "cell_type": "markdown",
   "metadata": {},
   "source": [
    "## Métricas"
   ]
  },
  {
   "cell_type": "code",
   "execution_count": null,
   "metadata": {},
   "outputs": [],
   "source": [
    "function r_square(data::Vector{Float64}, estimative::Vector{Float64})\n",
    "    output = 1.0\n",
    "    n = length(data)\n",
    "    average = sum(data) / n\n",
    "    \n",
    "    output = 1.0 - sum((data[i] - estimative[i])^2 for i in 1:n) / sum((data[i] - average)^2 for i in 1:n) \n",
    "\n",
    "    return output\n",
    "end\n",
    "\n",
    "function mae(data::Vector{Float64}, estimative::Vector{Float64}, T::Int)\n",
    "    output = 0.0\n",
    "\n",
    "    K = length(data) - T\n",
    "      \n",
    "    for i in (T+1):(T+K)\n",
    "        output += abs(data[i] - estimative[i]) / K\n",
    "    end\n",
    "    \n",
    "    return output\n",
    "end"
   ]
  },
  {
   "cell_type": "code",
   "execution_count": null,
   "metadata": {},
   "outputs": [],
   "source": [
    "function forecast(data::Vector{Float64}, K::Vector{Int} = [1], S::Vector{Int} = [8760], M::Vector{Int} = [1], T::Int = 0)\n",
    "    model = complete_model(data[1:T], K, S, M)\n",
    "\n",
    "    beta = value.(model[:beta])\n",
    "    theta = value.(model[:theta])\n",
    "    phi = value.(model[:phi])\n",
    "\n",
    "    n_forecast = length(data) - T\n",
    "\n",
    "    output = copy(data)\n",
    "    n = length(beta) - 1\n",
    "    m = length(S)\n",
    "\n",
    "    for i in 1:n_forecast #T+1:length(data)\n",
    "        AR = beta[1] + sum(beta[j+1]*output[T + i - K[j]] for j = 1:n)\n",
    "        ST = sum(sum(theta[(j != 1 ? sum(M[l] for l = 1:j-1) : 0) + k]*cos(2*pi*k*(T+i)/S[j]) + \n",
    "            phi[(j != 1 ? sum(M[l] for l = 1:j-1) : 0) + k]*sin(2*pi*k*(T+i)/S[j]) \n",
    "            for k in 1:M[j]) for j = 1:m)\n",
    "        output[T+i] = AR + ST\n",
    "    end\n",
    "\n",
    "    return data, output, model\n",
    "end\n",
    "    \n",
    "    "
   ]
  },
  {
   "cell_type": "code",
   "execution_count": null,
   "metadata": {},
   "outputs": [],
   "source": [
    "x, y, model = forecast(data,[1,24],[24, 8760],[1,1],8735 )\n",
    "@show mae(x, y, 8735)\n",
    "plot([x[8736:end], y[8736:end]], label=[\"Original\" \"Estimativa\"])"
   ]
  },
  {
   "cell_type": "code",
   "execution_count": null,
   "metadata": {},
   "outputs": [],
   "source": [
    "x, y, model = forecast(data,[1,24],[24, 8760],[3,3],8735 )\n",
    "@show mae(x, y, 8735)\n",
    "plot([x[8736:end], y[8736:end]], label=[\"Original\" \"Estimativa\"])"
   ]
  },
  {
   "cell_type": "code",
   "execution_count": null,
   "metadata": {},
   "outputs": [],
   "source": [
    "x, y, model = forecast(data,[1,24],[24, 8760],[5,5],8735 )\n",
    "@show mae(x, y, 8735)\n",
    "plot([x[8736:end], y[8736:end]], label=[\"Original\" \"Estimativa\"])"
   ]
  },
  {
   "cell_type": "code",
   "execution_count": null,
   "metadata": {},
   "outputs": [],
   "source": [
    "x, y, model = forecast(data,[1,2,23,24],[24, 8760],[1,1],8735 )\n",
    "@show mae(x, y, 8735)\n",
    "plot([x[8736:end], y[8736:end]], label=[\"Original\" \"Estimativa\"])\n"
   ]
  },
  {
   "cell_type": "code",
   "execution_count": null,
   "metadata": {},
   "outputs": [],
   "source": [
    "x, y, model = forecast(data,[1,2,23,24],[24, 8760],[3,3],8735 )\n",
    "@show mae(x, y, 8735)\n",
    "plot([x[8736:end], y[8736:end]], label=[\"Original\" \"Estimativa\"])"
   ]
  },
  {
   "cell_type": "code",
   "execution_count": null,
   "metadata": {},
   "outputs": [],
   "source": [
    "x, y, model = forecast(data,[1,2,23,24],[24, 8760],[5,5],8735 )\n",
    "@show mae(x, y, 8735)\n",
    "plot([x[8736:end], y[8736:end]], label=[\"Original\" \"Estimativa\"])"
   ]
  },
  {
   "cell_type": "code",
   "execution_count": null,
   "metadata": {},
   "outputs": [],
   "source": [
    "x, y, model = forecast(data,[1,12,24],[24, 8760],[1,1],8735 )\n",
    "@show mae(x, y, 8735)\n",
    "plot([x[8736:end], y[8736:end]], label=[\"Original\" \"Estimativa\"])"
   ]
  },
  {
   "cell_type": "code",
   "execution_count": null,
   "metadata": {},
   "outputs": [],
   "source": [
    "x, y, model = forecast(data,[1,12,24],[24, 8760],[3,3],8735 )\n",
    "@show mae(x, y, 8735)\n",
    "plot([x[8736:end], y[8736:end]], label=[\"Original\" \"Estimativa\"])"
   ]
  },
  {
   "cell_type": "code",
   "execution_count": null,
   "metadata": {},
   "outputs": [],
   "source": [
    "x, y, model = forecast(data,[1,12,24],[24, 8760],[5,5],8735 )\n",
    "@show mae(x, y, 8735)\n",
    "plot([x[8736:end], y[8736:end]], label=[\"Original\" \"Estimativa\"])"
   ]
  },
  {
   "cell_type": "code",
   "execution_count": null,
   "metadata": {},
   "outputs": [],
   "source": [
    "x, y, model = forecast(data,[1],[24, 8760],[1,1],8735 )\n",
    "@show mae(x, y, 8735)\n",
    "plot([x[8736:end], y[8736:end]], label=[\"Original\" \"Estimativa\"])"
   ]
  },
  {
   "cell_type": "code",
   "execution_count": null,
   "metadata": {},
   "outputs": [],
   "source": [
    "x, y, model = forecast(data,[1],[24, 8760],[3,3],8735 )\n",
    "@show mae(x, y, 8735)\n",
    "plot([x[8736:end], y[8736:end]], label=[\"Original\" \"Estimativa\"])"
   ]
  },
  {
   "cell_type": "code",
   "execution_count": null,
   "metadata": {},
   "outputs": [],
   "source": [
    "x, y, model = forecast(data,[1],[24, 8760],[5,5],8735 )\n",
    "@show mae(x, y, 8735)\n",
    "plot([x[8736:end], y[8736:end]], label=[\"Original\" \"Estimativa\"])"
   ]
  }
 ],
 "metadata": {
  "kernelspec": {
   "display_name": "Julia 1.7.2",
   "language": "julia",
   "name": "julia-1.7"
  },
  "language_info": {
   "file_extension": ".jl",
   "mimetype": "application/julia",
   "name": "julia",
   "version": "1.7.2"
  },
  "orig_nbformat": 4
 },
 "nbformat": 4,
 "nbformat_minor": 2
}
