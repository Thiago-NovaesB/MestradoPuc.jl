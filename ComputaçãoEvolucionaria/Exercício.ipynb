{
  "nbformat": 4,
  "nbformat_minor": 0,
  "metadata": {
    "colab": {
      "provenance": [],
      "collapsed_sections": [
        "4FzLl4Awi9pX",
        "GGTl3jr4pJxU"
      ],
      "include_colab_link": true
    },
    "kernelspec": {
      "name": "python3",
      "display_name": "Python 3"
    },
    "language_info": {
      "name": "python"
    }
  },
  "cells": [
    {
      "cell_type": "markdown",
      "metadata": {
        "id": "view-in-github",
        "colab_type": "text"
      },
      "source": [
        "<a href=\"https://colab.research.google.com/github/Thiago-NovaesB/MestradoPuc.jl/blob/main/Computa%C3%A7%C3%A3oEvolucionaria/Exerc%C3%ADcio.ipynb\" target=\"_parent\"><img src=\"https://colab.research.google.com/assets/colab-badge.svg\" alt=\"Open In Colab\"/></a>"
      ]
    },
    {
      "cell_type": "markdown",
      "source": [
        "# Lista 4"
      ],
      "metadata": {
        "id": "Umy9b6HDcX8A"
      }
    },
    {
      "cell_type": "code",
      "source": [
        "# https://deap.readthedocs.io/en/master/\n",
        "# instalar pacote deap\n",
        "!pip install deap\n",
        "import numpy as np\n",
        "import random\n",
        "import matplotlib.pyplot as plt\n",
        "from deap import creator, tools, base, algorithms"
      ],
      "metadata": {
        "colab": {
          "base_uri": "https://localhost:8080/"
        },
        "id": "dgbglP2rjCcO",
        "outputId": "1aadacbb-cbf1-4b33-a635-eb7212073dff"
      },
      "execution_count": 11,
      "outputs": [
        {
          "output_type": "stream",
          "name": "stdout",
          "text": [
            "Looking in indexes: https://pypi.org/simple, https://us-python.pkg.dev/colab-wheels/public/simple/\n",
            "Requirement already satisfied: deap in /usr/local/lib/python3.9/dist-packages (1.3.3)\n",
            "Requirement already satisfied: numpy in /usr/local/lib/python3.9/dist-packages (from deap) (1.22.4)\n"
          ]
        }
      ]
    },
    {
      "cell_type": "markdown",
      "source": [
        "## Questão 1"
      ],
      "metadata": {
        "id": "4FzLl4Awi9pX"
      }
    },
    {
      "cell_type": "code",
      "source": [
        "# dados de entrada\n",
        "x = np.array([-1.0, -0.7, -0.4, -0.1, 0.2, 0.5, 0.8, 1.0])\n",
        "y = np.array([36.547, 17.264, 8.155, 3.852, 1.820, 0.860, 0.406, 0.246])"
      ],
      "metadata": {
        "id": "txCinwfyjV1V"
      },
      "execution_count": 36,
      "outputs": []
    },
    {
      "cell_type": "code",
      "source": [
        "# função objetivo\n",
        "def objective_function(individual):\n",
        "  a = individual[0]\n",
        "  b = individual[1]\n",
        "  z = a*np.e**(b*x)\n",
        "  return np.linalg.norm(z-y),"
      ],
      "metadata": {
        "id": "CUBUxV7hecvj"
      },
      "execution_count": 37,
      "outputs": []
    },
    {
      "cell_type": "code",
      "source": [
        "# Tipos da fitness e indivíduos\n",
        "creator.create('FitnessMin', base.Fitness, weights=(-1.0,))\n",
        "creator.create('Individual', list, fitness=creator.FitnessMin)"
      ],
      "metadata": {
        "id": "a9WG6mIog_eb",
        "colab": {
          "base_uri": "https://localhost:8080/"
        },
        "outputId": "ca80991d-8b6e-493e-dd23-71bef445af37"
      },
      "execution_count": 38,
      "outputs": [
        {
          "output_type": "stream",
          "name": "stderr",
          "text": [
            "/usr/local/lib/python3.9/dist-packages/deap/creator.py:138: RuntimeWarning: A class named 'FitnessMin' has already been created and it will be overwritten. Consider deleting previous creation of that class or rename it.\n",
            "  warnings.warn(\"A class named '{0}' has already been created and it \"\n",
            "/usr/local/lib/python3.9/dist-packages/deap/creator.py:138: RuntimeWarning: A class named 'Individual' has already been created and it will be overwritten. Consider deleting previous creation of that class or rename it.\n",
            "  warnings.warn(\"A class named '{0}' has already been created and it \"\n"
          ]
        }
      ]
    },
    {
      "cell_type": "code",
      "source": [
        "toolbox = base.Toolbox()\n",
        "\n",
        "# gerador da variável de decisão\n",
        "toolbox.register('attr_real', random.gauss, 0, 10)\n",
        "\n",
        "# Inicializar individuo e população\n",
        "# initRepeat(container, func, n)\n",
        "toolbox.register('individual', tools.initRepeat, creator.Individual, toolbox.attr_real, 2)  \n",
        "\n",
        "# População\n",
        "toolbox.register('population', tools.initRepeat, list, toolbox.individual)"
      ],
      "metadata": {
        "id": "B6LWnQ8xiomP"
      },
      "execution_count": 39,
      "outputs": []
    },
    {
      "cell_type": "code",
      "source": [
        "# Operadores\n",
        "toolbox.register('evaluate', objective_function)\n",
        "toolbox.register('mate', tools.cxSimulatedBinaryBounded, eta=0, low=-10, up=10)  # eta, low, up\n",
        "toolbox.register('mutate', tools.mutGaussian, mu=0, sigma=1, indpb=0.05)\n",
        "toolbox.register('select', tools.selTournament, tournsize=3)"
      ],
      "metadata": {
        "id": "WJ25o671lgR2"
      },
      "execution_count": 40,
      "outputs": []
    },
    {
      "cell_type": "code",
      "source": [
        "pop = toolbox.population(n=100)\n",
        "hof = tools.HallOfFame(1)  # melhor de todo o processo\n",
        "stats = tools.Statistics(lambda ind:ind.fitness.values)\n",
        "stats.register('avg', np.mean)\n",
        "stats.register('std', np.std)\n",
        "stats.register('min', np.min)\n",
        "stats.register('max', np.max)"
      ],
      "metadata": {
        "id": "Gx-4OfsPpBd0"
      },
      "execution_count": 43,
      "outputs": []
    },
    {
      "cell_type": "code",
      "source": [
        "pop, log = algorithms.eaSimple(pop, toolbox, cxpb=0.5, mutpb=0.1, ngen=50, \n",
        "                                stats=stats, halloffame=hof, verbose=True)"
      ],
      "metadata": {
        "colab": {
          "base_uri": "https://localhost:8080/"
        },
        "id": "K2ZAmqtzrppp",
        "outputId": "1e42f43a-d14f-4907-909d-f507181a0e33"
      },
      "execution_count": 44,
      "outputs": [
        {
          "output_type": "stream",
          "name": "stdout",
          "text": [
            "gen\tnevals\tavg        \tstd        \tmin    \tmax        \n",
            "0  \t100   \t5.98601e+11\t5.84077e+12\t5.53379\t5.87077e+13\n",
            "1  \t52    \t258676     \t2.48917e+06\t7.20849\t2.50224e+07\n",
            "2  \t53    \t322.327    \t1787.28    \t6.6244 \t15013.8    \n",
            "3  \t62    \t45.4996    \t60.4307    \t11.6857\t603.061    \n",
            "4  \t57    \t42.7041    \t88.2603    \t4.37951\t724.693    \n",
            "5  \t51    \t20.0707    \t11.5912    \t2.03496\t101.623    \n",
            "6  \t39    \t15.8101    \t10.3806    \t2.03496\t64.887     \n",
            "7  \t53    \t15.3606    \t34.0062    \t2.03496\t347.56     \n",
            "8  \t62    \t12.028     \t16.307     \t2.03496\t155.335    \n",
            "9  \t52    \t32.6507    \t245.271    \t1.8233 \t2470.43    \n",
            "10 \t59    \t8.17704    \t22.3971    \t1.8233 \t196.94     \n",
            "11 \t52    \t2.73446    \t2.79208    \t0.626551\t18.8       \n",
            "12 \t57    \t2.51511    \t4.18611    \t0.626551\t43.1367    \n",
            "13 \t54    \t3.03588    \t6.4821     \t0.376813\t50.9339    \n",
            "14 \t56    \t1.80984    \t0.519592   \t0.376813\t2.36967    \n",
            "15 \t56    \t1.63576    \t0.926848   \t0.326278\t8.22314    \n",
            "16 \t58    \t1.00459    \t0.656044   \t0.307293\t2.28351    \n",
            "17 \t57    \t1.13589    \t5.35488    \t0.307293\t54.3071    \n",
            "18 \t49    \t0.426858   \t0.0989857  \t0.307293\t0.668548   \n",
            "19 \t50    \t0.857764   \t3.45587    \t0.307293\t29.9799    \n",
            "20 \t62    \t0.395793   \t0.629519   \t0.307275\t6.61372    \n",
            "21 \t55    \t0.631576   \t3.19972    \t0.307275\t32.4684    \n",
            "22 \t51    \t0.30763    \t0.00103107 \t0.307275\t0.312701   \n",
            "23 \t45    \t0.377564   \t0.699218   \t0.307267\t7.33469    \n",
            "24 \t58    \t0.307545   \t0.00181606 \t0.307215\t0.3203     \n",
            "25 \t51    \t0.412397   \t1.04596    \t0.307215\t10.8196    \n",
            "26 \t45    \t0.307254   \t2.43204e-05\t0.307215\t0.307307   \n",
            "27 \t57    \t0.307237   \t3.14604e-05\t0.307215\t0.307457   \n",
            "28 \t64    \t2.47895    \t21.6081    \t0.307215\t217.477    \n",
            "29 \t54    \t0.524141   \t1.56055    \t0.307215\t13.6985    \n",
            "30 \t48    \t0.367088   \t0.595728   \t0.307215\t6.29451    \n",
            "31 \t45    \t0.485129   \t1.24874    \t0.307215\t9.84832    \n",
            "32 \t65    \t0.527846   \t1.56105    \t0.307215\t12.9459    \n",
            "33 \t58    \t0.343471   \t0.360749   \t0.307215\t3.93288    \n",
            "34 \t65    \t0.631732   \t3.22891    \t0.307215\t32.7589    \n",
            "35 \t54    \t0.307215   \t6.05479e-11\t0.307215\t0.307215   \n",
            "36 \t59    \t0.510154   \t2.01922    \t0.307215\t20.6012    \n",
            "37 \t49    \t0.307215   \t2.55015e-12\t0.307215\t0.307215   \n",
            "38 \t55    \t0.811411   \t3.10663    \t0.307215\t23.7934    \n",
            "39 \t58    \t0.404369   \t0.966673   \t0.307215\t10.0226    \n",
            "40 \t61    \t0.746953   \t4.37534    \t0.307215\t44.281     \n",
            "41 \t65    \t0.307215   \t1.59034e-14\t0.307215\t0.307215   \n",
            "42 \t57    \t0.307215   \t3.33137e-13\t0.307215\t0.307215   \n",
            "43 \t54    \t0.307215   \t2.31793e-15\t0.307215\t0.307215   \n",
            "44 \t56    \t0.393918   \t0.862687   \t0.307215\t8.97755    \n",
            "45 \t61    \t0.307215   \t9.78824e-16\t0.307215\t0.307215   \n",
            "46 \t65    \t0.49216    \t1.84019    \t0.307215\t18.8018    \n",
            "47 \t47    \t0.566043   \t2.28117    \t0.307215\t23.0744    \n",
            "48 \t53    \t0.420585   \t1.12802    \t0.307215\t11.6442    \n",
            "49 \t52    \t2.9043     \t20.3654    \t0.307215\t200.726    \n",
            "50 \t60    \t0.4444     \t1.36498    \t0.307215\t14.0258    \n"
          ]
        }
      ]
    },
    {
      "cell_type": "code",
      "source": [
        "# Melhor solução\n",
        "print('Melhor indivíduo:', hof[0])"
      ],
      "metadata": {
        "colab": {
          "base_uri": "https://localhost:8080/"
        },
        "id": "3tCwT9gjtSzc",
        "outputId": "a91e7e15-33a9-49a6-e27d-cc94f91213c8"
      },
      "execution_count": 9,
      "outputs": [
        {
          "output_type": "stream",
          "name": "stdout",
          "text": [
            "Melhor indivíduo: [3.0088853563593303, -2.4967553494691472]\n"
          ]
        }
      ]
    },
    {
      "cell_type": "code",
      "source": [
        "# Resultado da fo do mlehor indivíduo:\n",
        "print('Melhor F.O.:', objective_function(hof[0]))"
      ],
      "metadata": {
        "colab": {
          "base_uri": "https://localhost:8080/"
        },
        "id": "iXIbSm9WukOu",
        "outputId": "6ba976cb-8e56-4b15-91d0-a20c7d0c5d6f"
      },
      "execution_count": 10,
      "outputs": [
        {
          "output_type": "stream",
          "name": "stdout",
          "text": [
            "Melhor F.O.: (0.024052028159822197,)\n"
          ]
        }
      ]
    },
    {
      "cell_type": "code",
      "source": [
        "X = np.linspace(-1,1,100)\n",
        "plt.figure(figsize=(5,2))\n",
        "plt.plot(X, hof[0][0]*np.e**(hof[0][1]*X))\n",
        "plt.scatter(x, y, color='red')  # melhor\n",
        "plt.xlabel('x')\n",
        "plt.ylabel('y')\n",
        "plt.show()"
      ],
      "metadata": {
        "colab": {
          "base_uri": "https://localhost:8080/",
          "height": 234
        },
        "id": "30OnTARwz0hh",
        "outputId": "8a394973-cc9d-48ca-ed18-cbfb74031024"
      },
      "execution_count": 13,
      "outputs": [
        {
          "output_type": "display_data",
          "data": {
            "text/plain": [
              "<Figure size 500x200 with 1 Axes>"
            ],
            "image/png": "[encoded data removed]"
          },
          "metadata": {}
        }
      ]
    },
    {
      "cell_type": "markdown",
      "source": [
        "## Questão 2"
      ],
      "metadata": {
        "id": "GGTl3jr4pJxU"
      }
    },
    {
      "cell_type": "code",
      "source": [
        "# função objetivo\n",
        "def objective_function(individual):\n",
        "  return 3*individual[0]+5*individual[1],\n",
        "\n",
        "def feasible(individual):\n",
        "  if (individual[0]+5)**2 + (individual[1]+5)**2 >= 25:\n",
        "    return False\n",
        "  if individual[0] > 4:\n",
        "    return False\n",
        "  if individual[1] > 6:\n",
        "    return False\n",
        "  if individual[0] < 0:\n",
        "    return False\n",
        "  if individual[1] < 0:\n",
        "    return False\n",
        "  if 3*individual[0] + 2*individual[1] > 18:\n",
        "    return False\n",
        "  return True"
      ],
      "metadata": {
        "id": "lM6GQfM0pJxZ"
      },
      "execution_count": 18,
      "outputs": []
    },
    {
      "cell_type": "code",
      "source": [
        "# Tipos da fitness e indivíduos\n",
        "creator.create('FitnessMax', base.Fitness, weights=(1.0,))\n",
        "creator.create('Individual', list, fitness=creator.FitnessMax)"
      ],
      "metadata": {
        "colab": {
          "base_uri": "https://localhost:8080/"
        },
        "id": "sGaYLmAKpJxa",
        "outputId": "38da0a6d-b6b3-4d2d-daa9-1eebf71d665f"
      },
      "execution_count": 19,
      "outputs": [
        {
          "output_type": "stream",
          "name": "stderr",
          "text": [
            "/usr/local/lib/python3.9/dist-packages/deap/creator.py:138: RuntimeWarning: A class named 'FitnessMax' has already been created and it will be overwritten. Consider deleting previous creation of that class or rename it.\n",
            "  warnings.warn(\"A class named '{0}' has already been created and it \"\n",
            "/usr/local/lib/python3.9/dist-packages/deap/creator.py:138: RuntimeWarning: A class named 'Individual' has already been created and it will be overwritten. Consider deleting previous creation of that class or rename it.\n",
            "  warnings.warn(\"A class named '{0}' has already been created and it \"\n"
          ]
        }
      ]
    },
    {
      "cell_type": "code",
      "source": [
        "toolbox = base.Toolbox()\n",
        "\n",
        "# gerador da variável de decisão\n",
        "toolbox.register('attr_real1', random.uniform, 0, 4)\n",
        "toolbox.register('attr_real2', random.uniform, 0, 6)\n",
        "\n",
        "# Inicializar individuo e população\n",
        "toolbox.register('individual', tools.initCycle, creator.Individual, (toolbox.attr_real1, toolbox.attr_real2), 1)  \n",
        "\n",
        "# População\n",
        "toolbox.register('population', tools.initRepeat, list, toolbox.individual)"
      ],
      "metadata": {
        "id": "yolN4SInpJxa"
      },
      "execution_count": 21,
      "outputs": []
    },
    {
      "cell_type": "code",
      "source": [
        "# Operadores\n",
        "toolbox.register('evaluate', objective_function)\n",
        "toolbox.register('mate', tools.cxSimulatedBinaryBounded, eta=0, low=0, up=6)  # eta, low, up\n",
        "toolbox.register('mutate', tools.mutGaussian, mu=0, sigma=1, indpb=0.05)\n",
        "toolbox.register('select', tools.selTournament, tournsize=3)"
      ],
      "metadata": {
        "id": "rTTGjeDgpJxa"
      },
      "execution_count": 31,
      "outputs": []
    },
    {
      "cell_type": "code",
      "source": [
        "pop = toolbox.population(n=100)\n",
        "hof = tools.HallOfFame(1)  # melhor de todo o processo\n",
        "stats = tools.Statistics(lambda ind:ind.fitness.values)\n",
        "stats.register('avg', np.mean)\n",
        "stats.register('std', np.std)\n",
        "stats.register('min', np.min)\n",
        "stats.register('max', np.max)"
      ],
      "metadata": {
        "id": "oZqy9wZipJxa"
      },
      "execution_count": 32,
      "outputs": []
    },
    {
      "cell_type": "code",
      "source": [
        "pop, log = algorithms.eaSimple(pop, toolbox, cxpb=0.5, mutpb=0.1, ngen=50, \n",
        "                                stats=stats, halloffame=hof, verbose=True)"
      ],
      "metadata": {
        "colab": {
          "base_uri": "https://localhost:8080/"
        },
        "outputId": "1c0a0829-c8ec-4dbd-f226-e069d5d7a392",
        "id": "dtEXnF8YpJxa"
      },
      "execution_count": 33,
      "outputs": [
        {
          "output_type": "stream",
          "name": "stdout",
          "text": [
            "gen\tnevals\tavg    \tstd    \tmin     \tmax    \n",
            "0  \t100   \t20.0612\t10.0785\t0.593964\t41.4878\n",
            "1  \t41    \t28.5126\t7.58421\t9.40538 \t41.4878\n",
            "2  \t49    \t34.2156\t4.55249\t23.8164 \t47.3703\n",
            "3  \t53    \t37.8853\t3.12091\t26.9178 \t43.5577\n",
            "4  \t51    \t40.8059\t1.75419\t35.3834 \t43.6181\n",
            "5  \t58    \t41.8417\t2.46002\t23.193  \t46.8049\n",
            "6  \t61    \t43.234 \t1.5928 \t37.9824 \t50.6083\n",
            "7  \t47    \t44.1343\t1.96154\t32.3037 \t50.6083\n",
            "8  \t52    \t45.336 \t1.61858\t40.0542 \t50.6083\n",
            "9  \t53    \t46.2262\t1.71316\t38.6024 \t53.0472\n",
            "10 \t60    \t47.2438\t1.40662\t42.731  \t53.0472\n",
            "11 \t41    \t47.7108\t2.87934\t27.7199 \t53.0472\n",
            "12 \t52    \t48.476 \t3.03401\t37.6189 \t54.266 \n",
            "13 \t61    \t49.9077\t3.01676\t37.9539 \t54.266 \n",
            "14 \t57    \t51.5923\t4.09522\t15.9627 \t54.266 \n",
            "15 \t56    \t52.8377\t1.34818\t44.1956 \t54.3846\n",
            "16 \t57    \t53.524 \t0.551452\t52.0198 \t54.3846\n",
            "17 \t45    \t53.9433\t0.585221\t49.6806 \t54.3846\n",
            "18 \t44    \t54.2769\t0.301267\t53.6189 \t56.9961\n",
            "19 \t63    \t54.3572\t0.686248\t51.7589 \t59.8985\n",
            "20 \t52    \t54.3705\t1.1638  \t47.8646 \t59.8985\n",
            "21 \t46    \t54.3773\t1.95146 \t47.8646 \t59.8985\n",
            "22 \t54    \t54.5715\t3.27514 \t33.0777 \t59.8985\n",
            "23 \t68    \t55.6841\t2.09904 \t47.8646 \t60.034 \n",
            "24 \t44    \t56.0099\t4.01286 \t40.012  \t60.034 \n",
            "25 \t63    \t57.1584\t3.95349 \t42.5    \t60.034 \n",
            "26 \t58    \t58.2925\t3.579   \t47.8646 \t60.034 \n",
            "27 \t60    \t59.9797\t0.203709\t58.0563 \t60.034 \n",
            "28 \t49    \t60.029 \t0.0192665\t59.8988 \t60.034 \n",
            "29 \t55    \t60.0822\t0.497146 \t59.8681 \t65.026 \n",
            "30 \t39    \t59.6421\t2.47957  \t48      \t65.026 \n",
            "31 \t58    \t60.1427\t2.1515   \t48      \t65.026 \n",
            "32 \t61    \t58.9496\t4.69991  \t48      \t65.026 \n",
            "33 \t70    \t58.8722\t7.21321  \t18      \t65.026 \n",
            "34 \t52    \t60.9948\t5.70033  \t48      \t65.026 \n",
            "35 \t56    \t64.6893\t1.28372  \t60.034  \t66.6806\n",
            "36 \t59    \t65.0077\t0.563939 \t61.1147 \t66.6806\n",
            "37 \t60    \t65.1372\t0.501792 \t62.9017 \t66.6806\n",
            "38 \t56    \t65.224 \t0.769042 \t61.4791 \t66.6806\n",
            "39 \t57    \t65.5364\t0.855171 \t62.1316 \t66.6806\n",
            "40 \t57    \t66.0301\t0.896213 \t62.1781 \t66.6806\n",
            "41 \t55    \t66.6682\t0.86175  \t65.026  \t74.1969\n",
            "42 \t54    \t66.3786\t2.40152  \t49.6546 \t67.845 \n",
            "43 \t43    \t66.7174\t0.367084 \t65.026  \t67.845 \n",
            "44 \t68    \t66.6122\t0.744764 \t62.0533 \t67.845 \n",
            "45 \t58    \t66.7052\t0.8252   \t65.026  \t67.845 \n",
            "46 \t49    \t66.7759\t2.44942  \t47.026  \t67.845 \n",
            "47 \t47    \t67.6067\t0.658353 \t65.026  \t68.9215\n",
            "48 \t55    \t67.4291\t2.49764  \t49.6546 \t68.9215\n",
            "49 \t65    \t67.8773\t0.238709 \t67.845  \t70     \n",
            "50 \t54    \t67.8292\t0.701211 \t65.026  \t70     \n"
          ]
        }
      ]
    },
    {
      "cell_type": "code",
      "source": [
        "# Melhor solução\n",
        "print('Melhor indivíduo:', hof[0])"
      ],
      "metadata": {
        "colab": {
          "base_uri": "https://localhost:8080/"
        },
        "outputId": "220acb1d-532d-454d-e3ff-ae6601e67b37",
        "id": "EjAJeVFrpJxa"
      },
      "execution_count": 34,
      "outputs": [
        {
          "output_type": "stream",
          "name": "stdout",
          "text": [
            "Melhor indivíduo: [6.55153086897465, 10.908470547233053]\n"
          ]
        }
      ]
    },
    {
      "cell_type": "code",
      "source": [
        "# Resultado da fo do mlehor indivíduo:\n",
        "print('Melhor F.O.:', objective_function(hof[0]))"
      ],
      "metadata": {
        "colab": {
          "base_uri": "https://localhost:8080/"
        },
        "outputId": "2d717b12-b38b-47bc-a0c1-f8c21cc31c70",
        "id": "aw9CcLe_pJxa"
      },
      "execution_count": 35,
      "outputs": [
        {
          "output_type": "stream",
          "name": "stdout",
          "text": [
            "Melhor F.O.: (74.19694534308921,)\n"
          ]
        }
      ]
    },
    {
      "cell_type": "markdown",
      "source": [
        "## Questão 3"
      ],
      "metadata": {
        "id": "co4mDopdsH1H"
      }
    },
    {
      "cell_type": "code",
      "source": [
        "# dados de entrada\n",
        "x = np.array([-5.0, 2, 10])\n",
        "y = np.array([10, 1, 5])"
      ],
      "metadata": {
        "id": "L9Zxbea8sPMr"
      },
      "execution_count": 45,
      "outputs": []
    },
    {
      "cell_type": "code",
      "source": [
        "# função objetivo\n",
        "def objective_function(individual):\n",
        "  obj = 0\n",
        "  for i in range(len(x)):\n",
        "    obj += np.sqrt((x[i]-individual[0])**2 + (y[i]-individual[1])**2)\n",
        "  return obj,\n",
        "\n",
        "def feasible(individual):\n",
        "  for i in range(len(x)):\n",
        "    if np.sqrt((x[i]-individual[0])**2 + (y[i]-individual[1])**2) > 10:\n",
        "      return False\n",
        "  return True"
      ],
      "metadata": {
        "id": "Uqtj8SsDsH1M"
      },
      "execution_count": 46,
      "outputs": []
    },
    {
      "cell_type": "code",
      "source": [
        "# Tipos da fitness e indivíduos\n",
        "creator.create('FitnessMin', base.Fitness, weights=(-1.0,))\n",
        "creator.create('Individual', list, fitness=creator.FitnessMin)"
      ],
      "metadata": {
        "colab": {
          "base_uri": "https://localhost:8080/"
        },
        "outputId": "1b7a42bd-f75c-40ef-980a-d5c2209982c5",
        "id": "ix0s6yMEsH1M"
      },
      "execution_count": 47,
      "outputs": [
        {
          "output_type": "stream",
          "name": "stderr",
          "text": [
            "/usr/local/lib/python3.9/dist-packages/deap/creator.py:138: RuntimeWarning: A class named 'FitnessMin' has already been created and it will be overwritten. Consider deleting previous creation of that class or rename it.\n",
            "  warnings.warn(\"A class named '{0}' has already been created and it \"\n",
            "/usr/local/lib/python3.9/dist-packages/deap/creator.py:138: RuntimeWarning: A class named 'Individual' has already been created and it will be overwritten. Consider deleting previous creation of that class or rename it.\n",
            "  warnings.warn(\"A class named '{0}' has already been created and it \"\n"
          ]
        }
      ]
    },
    {
      "cell_type": "code",
      "source": [
        "toolbox = base.Toolbox()\n",
        "\n",
        "# gerador da variável de decisão\n",
        "toolbox.register('attr_real1', random.uniform, -5, 10)\n",
        "toolbox.register('attr_real2', random.uniform, 1, 10)\n",
        "\n",
        "# Inicializar individuo e população\n",
        "toolbox.register('individual', tools.initCycle, creator.Individual, (toolbox.attr_real1, toolbox.attr_real2), 1)  \n",
        "\n",
        "# População\n",
        "toolbox.register('population', tools.initRepeat, list, toolbox.individual)"
      ],
      "metadata": {
        "id": "n-Rh9-HzsH1N"
      },
      "execution_count": 48,
      "outputs": []
    },
    {
      "cell_type": "code",
      "source": [
        "# Operadores\n",
        "toolbox.register('evaluate', objective_function)\n",
        "toolbox.register('mate', tools.cxSimulatedBinaryBounded, eta=0.1, low=-5, up=10)  # eta, low, up\n",
        "toolbox.register('mutate', tools.mutGaussian, mu=0, sigma=1, indpb=0.05)\n",
        "toolbox.register('select', tools.selTournament, tournsize=3)"
      ],
      "metadata": {
        "id": "FLYHBTXJsH1N"
      },
      "execution_count": 68,
      "outputs": []
    },
    {
      "cell_type": "code",
      "source": [
        "pop = toolbox.population(n=100)\n",
        "hof = tools.HallOfFame(1)  # melhor de todo o processo\n",
        "stats = tools.Statistics(lambda ind:ind.fitness.values)\n",
        "stats.register('avg', np.mean)\n",
        "stats.register('std', np.std)\n",
        "stats.register('min', np.min)\n",
        "stats.register('max', np.max)"
      ],
      "metadata": {
        "id": "EBIB4ssxsH1N"
      },
      "execution_count": 69,
      "outputs": []
    },
    {
      "cell_type": "code",
      "source": [
        "pop, log = algorithms.eaSimple(pop, toolbox, cxpb=0.5, mutpb=0.1, ngen=50, \n",
        "                                stats=stats, halloffame=hof, verbose=True)"
      ],
      "metadata": {
        "colab": {
          "base_uri": "https://localhost:8080/"
        },
        "outputId": "9d37f608-c868-4177-81ac-786bde24b2b2",
        "id": "rqlGRZB1sH1N"
      },
      "execution_count": 70,
      "outputs": [
        {
          "output_type": "stream",
          "name": "stdout",
          "text": [
            "gen\tnevals\tavg    \tstd   \tmin    \tmax    \n",
            "0  \t100   \t23.6764\t2.2808\t20.0986\t29.3419\n",
            "1  \t60    \t21.7901\t1.50132\t20.0986\t26.4315\n",
            "2  \t62    \t20.6587\t0.723528\t20.094 \t23.7185\n",
            "3  \t52    \t20.2582\t0.250805\t20.0804\t21.3531\n",
            "4  \t62    \t20.1159\t0.0529128\t20.08  \t20.4004\n",
            "5  \t65    \t20.1217\t0.199496 \t20.08  \t21.9583\n",
            "6  \t49    \t20.0924\t0.0130776\t20.08  \t20.1911\n",
            "7  \t59    \t20.0878\t0.0227984\t20.08  \t20.2981\n",
            "8  \t66    \t20.0812\t0.00215732\t20.08  \t20.0918\n",
            "9  \t69    \t20.0811\t0.0069723 \t20.08  \t20.147 \n",
            "10 \t56    \t20.0802\t0.000818101\t20.08  \t20.0861\n",
            "11 \t67    \t20.08  \t8.18101e-05\t20.08  \t20.0805\n",
            "12 \t48    \t20.0828\t0.0225427  \t20.08  \t20.2995\n",
            "13 \t46    \t20.08  \t9.23962e-06\t20.08  \t20.08  \n",
            "14 \t57    \t20.08  \t1.45095e-05\t20.08  \t20.0801\n",
            "15 \t49    \t20.0801\t0.00166213 \t20.08  \t20.0967\n",
            "16 \t56    \t20.0816\t0.0161694  \t20.08  \t20.2425\n",
            "17 \t64    \t20.0838\t0.0375706  \t20.08  \t20.4576\n",
            "18 \t50    \t20.0862\t0.0465604  \t20.08  \t20.5253\n",
            "19 \t53    \t20.0801\t0.000959136\t20.08  \t20.0896\n",
            "20 \t62    \t20.08  \t1.97349e-08\t20.08  \t20.08  \n",
            "21 \t50    \t20.0847\t0.039368   \t20.08  \t20.4724\n",
            "22 \t50    \t20.0963\t0.162835   \t20.08  \t21.7165\n",
            "23 \t56    \t20.08  \t0.000256985\t20.08  \t20.0826\n",
            "24 \t59    \t20.0913\t0.112495   \t20.08  \t21.2106\n",
            "25 \t50    \t20.08  \t0.000129088\t20.08  \t20.0813\n",
            "26 \t48    \t20.0802\t0.00173635 \t20.08  \t20.0964\n",
            "27 \t52    \t20.08  \t1.3278e-07 \t20.08  \t20.08  \n",
            "28 \t51    \t20.08  \t7.18935e-10\t20.08  \t20.08  \n",
            "29 \t32    \t20.0811\t0.0117063  \t20.08  \t20.1976\n",
            "30 \t58    \t20.08  \t1.61033e-09\t20.08  \t20.08  \n",
            "31 \t66    \t20.08  \t2.22634e-10\t20.08  \t20.08  \n",
            "32 \t41    \t20.08  \t5.44741e-11\t20.08  \t20.08  \n",
            "33 \t45    \t20.08  \t1.0527e-11 \t20.08  \t20.08  \n",
            "34 \t68    \t20.08  \t3.57378e-10\t20.08  \t20.08  \n",
            "35 \t54    \t20.08  \t5.45917e-11\t20.08  \t20.08  \n",
            "36 \t68    \t20.08  \t9.07929e-12\t20.08  \t20.08  \n",
            "37 \t49    \t20.08  \t4.2634e-11 \t20.08  \t20.08  \n",
            "38 \t58    \t20.0814\t0.0145108  \t20.08  \t20.2258\n",
            "39 \t47    \t20.08  \t5.95968e-12\t20.08  \t20.08  \n",
            "40 \t54    \t20.0808\t0.00805537 \t20.08  \t20.1609\n",
            "41 \t55    \t20.084 \t0.0366255  \t20.08  \t20.4468\n",
            "42 \t65    \t20.0814\t0.0117032  \t20.08  \t20.1938\n",
            "43 \t62    \t20.0822\t0.0220367  \t20.08  \t20.3014\n",
            "44 \t42    \t20.08  \t1.37565e-13\t20.08  \t20.08  \n",
            "45 \t44    \t20.0809\t0.0095093  \t20.08  \t20.1755\n",
            "46 \t58    \t20.08  \t4.04417e-14\t20.08  \t20.08  \n",
            "47 \t64    \t20.08  \t2.95709e-14\t20.08  \t20.08  \n",
            "48 \t48    \t20.1047\t0.246161   \t20.08  \t22.554 \n",
            "49 \t58    \t20.08  \t3.49902e-15\t20.08  \t20.08  \n",
            "50 \t46    \t20.08  \t3.72612e-15\t20.08  \t20.08  \n"
          ]
        }
      ]
    },
    {
      "cell_type": "code",
      "source": [
        "# Melhor solução\n",
        "print('Melhor indivíduo:', hof[0])"
      ],
      "metadata": {
        "colab": {
          "base_uri": "https://localhost:8080/"
        },
        "outputId": "b483f61f-39ce-4580-e34b-d35c63142a4a",
        "id": "CF1Su6YOsH1N"
      },
      "execution_count": 71,
      "outputs": [
        {
          "output_type": "stream",
          "name": "stdout",
          "text": [
            "Melhor indivíduo: [2.4520404237353954, 2.824059558322993]\n"
          ]
        }
      ]
    },
    {
      "cell_type": "code",
      "source": [
        "# Resultado da fo do mlehor indivíduo:\n",
        "print('Melhor F.O.:', objective_function(hof[0]))"
      ],
      "metadata": {
        "colab": {
          "base_uri": "https://localhost:8080/"
        },
        "outputId": "ccc6b952-d18e-4829-81a8-1b5b96b0d8f3",
        "id": "iqqpcMAHsH1N"
      },
      "execution_count": 72,
      "outputs": [
        {
          "output_type": "stream",
          "name": "stdout",
          "text": [
            "Melhor F.O.: (20.07996715029404,)\n"
          ]
        }
      ]
    },
    {
      "cell_type": "code",
      "source": [
        "theta = np.linspace( 0 , 2 * np.pi , 150 )\n",
        " \n",
        "radius = 10\n",
        " \n",
        "a = radius * np.cos( theta ) + hof[0][0]\n",
        "b = radius * np.sin( theta ) + hof[0][1]\n",
        "\n",
        "plt.figure(figsize=(5,5))\n",
        "plt.plot(a, b, color='blue')\n",
        "plt.scatter(x, y, color='red')\n",
        "plt.xlabel('x')\n",
        "plt.ylabel('y')\n",
        "plt.show()"
      ],
      "metadata": {
        "colab": {
          "base_uri": "https://localhost:8080/",
          "height": 465
        },
        "id": "Z_CyWpwIuXg1",
        "outputId": "e63f9311-5059-43f8-a65b-5f4a2e2e753f"
      },
      "execution_count": 73,
      "outputs": [
        {
          "output_type": "display_data",
          "data": {
            "text/plain": [
              "<Figure size 500x500 with 1 Axes>"
            ],
            "image/png": "[encoded data removed]"
          },
          "metadata": {}
        }
      ]
    }
  ]
}