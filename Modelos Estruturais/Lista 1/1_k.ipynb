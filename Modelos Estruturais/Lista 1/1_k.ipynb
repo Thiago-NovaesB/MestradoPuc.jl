{
 "cells": [
  {
   "cell_type": "markdown",
   "metadata": {},
   "source": [
    "a)\n",
    "$$y_t = \\mu_t + \\epsilon_t$$\n",
    "$$\\mu_{t+1} = \\mu_t + \\eta_t$$\n",
    "$$\\begin{bmatrix} \\epsilon_t \\\\ \\eta_t \\\\ \\mu_1  \\end{bmatrix} \\sim N \\begin{bmatrix} \\begin{bmatrix} 0 \\\\ 0 \\\\ a_1 \\end{bmatrix}, \\begin{bmatrix} \\sigma^2_\\epsilon & 0 & 0 \\\\ 0 & \\sigma^2_\\eta & 0 \\\\ 0 & 0 & p_1 \\end{bmatrix} \\end{bmatrix}$$\n"
   ]
  },
  {
   "cell_type": "markdown",
   "metadata": {},
   "source": [
    "I) Obtenha a forma em EE, identificando M e o vetor de estado. Caso seja possível, interprete os componentes do vetor de estado."
   ]
  },
  {
   "cell_type": "markdown",
   "metadata": {},
   "source": [
    "$$\\alpha_t = \\mu_t$$\n",
    "$$M_t = (1, 0, 1, 0, 1, \\sigma^2_\\epsilon, \\sigma^2_\\eta)$$"
   ]
  },
  {
   "cell_type": "markdown",
   "metadata": {},
   "source": [
    "II) Obtenha gráficos no tempo das simulações de 5 séries temporais utilizando          valores dos parâmetros fixos e condições iniciais judiciosamente\n",
    "          escolhidas."
   ]
  },
  {
   "cell_type": "markdown",
   "metadata": {},
   "source": [
    "III) Verifique, teoricamente, se o modelo satisfaz a condição de\n",
    "          estacionariedade de 2ª ordem. "
   ]
  },
  {
   "cell_type": "markdown",
   "metadata": {},
   "source": [
    "IV) Verifique se o modelo satisfaz a condição de observabilidade. Caso \n",
    "          contrário, qual a consequência desta não observância, e o que deverá ser \tfeito para remediá-la?"
   ]
  },
  {
   "cell_type": "markdown",
   "metadata": {},
   "source": [
    "V) Se o modelo para yt for não estacionário obtenha a sua forma reduzida, ou seja o modelo ARIMA(p,d,q) equivalente."
   ]
  },
  {
   "cell_type": "code",
   "execution_count": null,
   "metadata": {},
   "outputs": [],
   "source": []
  }
 ],
 "metadata": {
  "kernelspec": {
   "display_name": "Julia 1.7.2",
   "language": "julia",
   "name": "julia-1.7"
  },
  "language_info": {
   "file_extension": ".jl",
   "mimetype": "application/julia",
   "name": "julia",
   "version": "1.7.2"
  },
  "orig_nbformat": 4
 },
 "nbformat": 4,
 "nbformat_minor": 2
}
