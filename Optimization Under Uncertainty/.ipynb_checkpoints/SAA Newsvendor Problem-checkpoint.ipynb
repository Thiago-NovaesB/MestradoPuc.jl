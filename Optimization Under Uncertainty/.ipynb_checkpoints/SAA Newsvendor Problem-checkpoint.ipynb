{
 "cells": [
  {
   "cell_type": "code",
   "execution_count": 1,
   "id": "fce64ae6",
   "metadata": {},
   "outputs": [],
   "source": [
    "using JuMP;\n",
    "using HiGHS;\n",
    "using Plots;\n",
    "using Distributions;\n",
    "Random.seed!(123)"
   ]
  },
  {
   "cell_type": "markdown",
   "id": "6787327f",
   "metadata": {},
   "source": [
    "Every morning, the newsboy goes to the editor of the newspaper and buys a quantity of $x$ of newspapers at a cost of $c$ per unit. This $x$ amount is limited upwards by a $u$ value, as the newsboy has finite purchasing power. The decision is made under uncertainty since the demand  $d$  newspapers of the day is unknown. The number of $y$ newspapers is sold at a price of $q$ per unit. The newsboy also has an agreement with the newspaper editor: the number of unsold newspapers $w$ can be returned to the editor, who pays a $r$ price for him.\n",
    "\n",
    "Consider the two-stage formulation:\n",
    "\n",
    "$$\\min_{0 \\leq x \\leq u} cx + \\mathbb{E}_d[Q(x,d)]$$\n",
    "\n",
    "where, \n",
    "\n",
    "$$Q(x,d) = \\min_{y, z} \\left\\{ -qy -rz | y \\leq d; y + z \\leq x; y, z \\geq 0 \\right\\}$$ \n",
    "\n",
    "Let $c=10$, $r=5$, $q=25$ e $u=150$. Also, assume that the demand follows a (continuous) uniform probability distribution over the range $[50,150]$."
   ]
  },
  {
   "cell_type": "markdown",
   "id": "6465ba63",
   "metadata": {},
   "source": [
    "## 1) Using Sample Average Approximations, compute and plot the confidence interval for the lower bound for a fixed number of replications $M=10$ and a varying number of in-sample scenarios $N \\in \\{50,100, \\ldots,1000\\}$\n"
   ]
  },
  {
   "cell_type": "code",
   "execution_count": 9,
   "id": "5b1885bb",
   "metadata": {},
   "outputs": [
    {
     "data": {
      "text/plain": [
       "NewsboyData(150.0, 10.0, 25.0, 5.0, Uniform{Float64}(a=50.0, b=150.0))"
      ]
     },
     "execution_count": 9,
     "metadata": {},
     "output_type": "execute_result"
    }
   ],
   "source": [
    "struct NewsboyData\n",
    "    u::Float64\n",
    "    c::Float64\n",
    "    q::Float64\n",
    "    r::Float64\n",
    "    D::Uniform{Float64}\n",
    "end\n",
    "\n",
    "function get_newsboy_data(data::NewsboyData)\n",
    "    u = data.u\n",
    "    c = data.c\n",
    "    q = data.q\n",
    "    r = data.r\n",
    "    D = data.D\n",
    "    return u, c, q, r, D\n",
    "end\n",
    "\n",
    "function newsboy_optimal(data::NewsboyData, N::Int = 0, M::Int = 0, K::Int = 0)\n",
    "    \n",
    "    u, c, q, r, D = get_newsboy_data(data)\n",
    "    p = 1/N\n",
    "    d = rand(D, N)\n",
    "    model = Model(HiGHS.Optimizer)\n",
    "    MOI.set(model, JuMP.MOI.Silent(), true)\n",
    "    @variable(model, 0<=x<=u)\n",
    "    @variable(model, 0<=y[n=1:N]<=d[n])\n",
    "    @variable(model, 0<=z[1:N])\n",
    "\n",
    "    @constraint(model,[n = 1:N], y[n] + z[n] <= x)\n",
    "\n",
    "    @objective(model, Min,c*x - sum(q*y[n]*p+r*z[n]*p for n = 1:N))\n",
    "\n",
    "    optimize!(model)\n",
    "    return objective_value(model), value(model[:x])\n",
    "end\n",
    "\n",
    "data = NewsboyData(150,10,25,5,Uniform(50,150))"
   ]
  },
  {
   "cell_type": "code",
   "execution_count": 10,
   "id": "3297b499",
   "metadata": {},
   "outputs": [
    {
     "data": {
      "text/plain": [
       "(-1282.4002303784373, 125.73789266524706)"
      ]
     },
     "execution_count": 10,
     "metadata": {},
     "output_type": "execute_result"
    }
   ],
   "source": [
    "obj1, x = newsboy_optimal(data, 500)"
   ]
  },
  {
   "cell_type": "markdown",
   "id": "e9b301f9",
   "metadata": {},
   "source": [
    "## 2) Assuming $N=1000$ scenarios for each problem and $M=10$ replications (solution candidates), compute the confidence interval for the upper bound for the number of out-of-sample scenarios $K = 1000$. Choose a candidate solution and justify your choice.\n"
   ]
  },
  {
   "cell_type": "markdown",
   "id": "7dadce26",
   "metadata": {},
   "source": [
    "## 3) Now, for the chosen solution, compute and plot the confidence interval for the UB for differing $K \\in \\{100, 200, ..., 1000\\}$.\n"
   ]
  },
  {
   "cell_type": "markdown",
   "id": "b8ff7f87",
   "metadata": {},
   "source": [
    "## 4) Assuming $N=1000$ scenarios for each problem and $M=10$ replications (solution candidates), compute a probabilistic  gap. Choose a candidate solution, justify your choice and compare with the previously chosen candidate."
   ]
  },
  {
   "cell_type": "code",
   "execution_count": null,
   "id": "c804ee0f",
   "metadata": {},
   "outputs": [],
   "source": []
  }
 ],
 "metadata": {
  "kernelspec": {
   "display_name": "Julia 1.7.2",
   "language": "julia",
   "name": "julia-1.7"
  },
  "language_info": {
   "file_extension": ".jl",
   "mimetype": "application/julia",
   "name": "julia",
   "version": "1.7.2"
  }
 },
 "nbformat": 4,
 "nbformat_minor": 5
}
