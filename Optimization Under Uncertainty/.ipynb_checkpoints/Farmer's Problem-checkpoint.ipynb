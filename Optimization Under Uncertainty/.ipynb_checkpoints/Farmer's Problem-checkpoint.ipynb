{
 "cells": [
  {
   "cell_type": "markdown",
   "id": "53991e2c",
   "metadata": {},
   "source": [
    "## Load Packages"
   ]
  },
  {
   "cell_type": "code",
   "execution_count": 4,
   "id": "dfff9da5",
   "metadata": {},
   "outputs": [],
   "source": [
    "using JuMP;\n",
    "using HiGHS;"
   ]
  },
  {
   "cell_type": "markdown",
   "id": "6787327f",
   "metadata": {},
   "source": [
    "João is a farmer from a small town who specializes in growing wheat, corn and sugar beet. He owns $500 km^2$ of land and must decide the amount of land to be allocated to each of the crops. João faces several restrictions regarding his planting. First, he must have at least $200 T$ of wheat and $240 T$ of corn to feed his cattle. Such quantities can be obtained through own plantation or by buying from the city's cooperative. The purchase prices per ton of wheat are $238 R\\$/T$ and per ton of corn $210 R\\$/T$. On the other hand, any excess produced in relation to the minimum can be sold at the cooperative, however with a $40\\%$ discount on the purchase price ($170 R\\$/T$ for wheat and $150 R\\$/T$ for corn) per the cooperative's margin account. Another important restriction concerns the sale of sugar beet. By law, the sale price of a ton of beet at the cooperative is fixed at $36 R\\$/T$ for the first $6000 T$ sold. After this amount, the sale price becomes $10 R\\$/T$. In addition, the cooperative where João trades his products does not have sugar beet for purchase.\n",
    "\n",
    "Let's assume that the planting cost of each crop is: $150 R\\$/km^2$ for wheat, $230 R\\$/km^2$ for corn, and $260 R\\$/km^2$ for sugar beet. The uncertainty of the problem lies in the productivity of the land. João does not know a priori how much each $km^2$ of land will yield in tons of culture. Now assume that three scenarios of equal probabilities of occurrence were sampled: \"good\", \"average\" and \"poor\". In each of the states, the yield of each crop is given by:\n",
    "\"Bad\" state: Wheat = $2 T/km^2$; Corn = $2.4 T/km^2$; Beetroot = $16 T/km^2$;\n",
    "\"Average\" state: Wheat = $2.5 T/km^2$; Corn = $3.0 T/km^2$; Beetroot = $20 T/km^2$;\n",
    "\"Good\" state: Wheat = $3 T/km^2$; Corn = $3.6 T/km^2$; Beetroot = $24 T/km^2$;"
   ]
  },
  {
   "cell_type": "markdown",
   "id": "6d74f8b7",
   "metadata": {},
   "source": [
    "## 1) Formulate the first and second stage problem. Additionally, considering the probability distribution defined above, formulate and solve the deterministic equivalent problem.\n",
    "## Compute the value of the stochastic solution.\n",
    "## Compute the expected value of perfect information."
   ]
  },
  {
   "cell_type": "markdown",
   "id": "cc157818",
   "metadata": {},
   "source": [
    "$$\n",
    "\\begin{aligned}\n",
    "    &\\min && 150a_1 + 230a_2 + 260a_3 - \\mathbb{E}_s[Q(a,s)]  \\\\\n",
    "    & st && a_1+a_2+a_3 = 500\\\\\n",
    "        &&& 0 \\leq a_1, a_2, a_3 \\\\\n",
    "\\end{aligned}\n",
    "$$\n",
    "\n",
    "$$\n",
    "\\begin{aligned}\n",
    "   Q(a,s) = &\\min && 238c_1 + 210c_2 - 170v_1 - 150v_2 + l_3   \\\\\n",
    "    & st && p_1 + c_1 - v_1 \\geq 200\\\\\n",
    "        &&& p_2 + c_2 - v_2 \\geq 240\\\\\n",
    "        &&& l_3 \\leq 36p_3\\\\\n",
    "        &&& l_3 \\leq 10(p_3-6000) + 36*6000\\\\\n",
    "        &&& p_1 = a_1s_1\\\\\n",
    "        &&& p_2 = a_2s_2\\\\\n",
    "        &&& p_3 = a_3s_3\\\\\n",
    "        &&& 0 \\leq p_1, p_2, p_3\\\\\n",
    "        &&& 0 \\leq c_1, c_2, v_1, v_2\\\\\n",
    "        &&& 0 \\leq l_3\n",
    "\\end{aligned}\n",
    "$$"
   ]
  },
  {
   "cell_type": "markdown",
   "id": "24c6087f",
   "metadata": {},
   "source": [
    "$$\n",
    "\\begin{aligned}\n",
    "    &\\min && 150a_1 + 230a_2 + 260a_3 - \\Sigma_{i=1}^3 (238c^i_1 + 210c^i_2 - 170v^i_1 - 150v^i_2 + l^i_3)\\\\\n",
    "    & st && a_1+a_2+a_3 = 500\\\\\n",
    "        &&& p^i_1 + c^i_1 - v^i_1 \\geq 200 & i=1,2,3 \\\\\n",
    "        &&& p^i_2 + c^i_2 - v^i_2 \\geq 240 & i=1,2,3 \\\\\n",
    "        &&& l^i_3 \\leq 36p^i_3 & i=1,2,3 \\\\\n",
    "        &&& l^i_3 \\leq 10(p^i_3-6000) + 36*6000 & i=1,2,3 \\\\\n",
    "        &&& p^i_1 = a_1s^i_1 & i=1,2,3 \\\\\n",
    "        &&& p^i_2 = a_2s^i_2 & i=1,2,3 \\\\\n",
    "        &&& p^i_3 = a_3s^i_3 & i=1,2,3 \\\\\n",
    "        &&& 0 \\leq p^i_1, p^i_2, p^i_3 & i=1,2,3 \\\\\n",
    "        &&& 0 \\leq c^i_1, c^i_2, v^i_1, v^i_2 & i=1,2,3 \\\\\n",
    "        &&& 0 \\leq l^i_3 & i=1,2,3 \\\\\n",
    "        &&& 0 \\leq a_1, a_2, a_3 \\\\\n",
    "\\end{aligned}\n",
    "$$"
   ]
  },
  {
   "cell_type": "code",
   "execution_count": 14,
   "id": "8df38ca9",
   "metadata": {},
   "outputs": [
    {
     "data": {
      "text/plain": [
       "farmer_optimal (generic function with 1 method)"
      ]
     },
     "execution_count": 14,
     "metadata": {},
     "output_type": "execute_result"
    }
   ],
   "source": [
    "function farmer_optimal()\n",
    "    \n",
    "    model = Model(HiGHS.Optimizer)\n",
    "    MOI.set(model, JuMP.MOI.Silent(), true)\n",
    "    \n",
    "    @variable(model, 0<=a[1:3])\n",
    "    @variable(model, 0<=p[1:3,1:3])\n",
    "    @variable(model, 0<=c[1:2,1:3])\n",
    "    @variable(model, 0<=v[1:2,1:3])\n",
    "#     @variable(model, 0<=l[1:3])\n",
    "\n",
    "    @constraint(model, sum(a) <= 500)\n",
    "    @constraint(model, [i=1:3], p[1,i] + c[1,i] - v[1,i] >= 200 )\n",
    "    @constraint(model, [i=1:3], p[2,i] + c[2,i] - v[2,i] >= 240 )\n",
    "    \n",
    "#     @constraint(model, [i=1:3], l[i] <= 36*p[3,i] )\n",
    "#     @constraint(model, [i=1:3], l[i] <= 10*(p[3,i]-6000) + 36*6000)\n",
    "    \n",
    "    @constraint(model, p[1,1] == a[1]*2)\n",
    "    @constraint(model, p[1,2] == a[1]*2.5)\n",
    "    @constraint(model, p[1,3] == a[1]*3)\n",
    "    @constraint(model, p[2,1] == a[2]*2.4)\n",
    "    @constraint(model, p[2,2] == a[2]*3)\n",
    "    @constraint(model, p[2,3] == a[2]*3.6)\n",
    "    @constraint(model, p[3,1] == a[3]*16)\n",
    "    @constraint(model, p[3,2] == a[3]*20)\n",
    "    @constraint(model, p[3,3] == a[3]*24)\n",
    "    \n",
    "    @objective(model, Min, 150a[1] + 230a[2] + 260a[3] - (1/3)*sum(238*c[1,:]) - (1/3)*sum(210*c[2,:]) + (1/3)*sum(170*v[1,:]) + (1/3)*sum(150*v[2,:]) - (1/3)*sum(l))\n",
    "\n",
    "    optimize!(model)\n",
    "    return model\n",
    "end"
   ]
  },
  {
   "cell_type": "code",
   "execution_count": 15,
   "id": "08b6edec",
   "metadata": {},
   "outputs": [
    {
     "data": {
      "text/plain": [
       "A JuMP Model\n",
       "Minimization problem with:\n",
       "Variables: 27\n",
       "Objective function type: AffExpr\n",
       "`AffExpr`-in-`MathOptInterface.EqualTo{Float64}`: 9 constraints\n",
       "`AffExpr`-in-`MathOptInterface.GreaterThan{Float64}`: 6 constraints\n",
       "`AffExpr`-in-`MathOptInterface.LessThan{Float64}`: 4 constraints\n",
       "`VariableRef`-in-`MathOptInterface.GreaterThan{Float64}`: 27 constraints\n",
       "Model mode: AUTOMATIC\n",
       "CachingOptimizer state: ATTACHED_OPTIMIZER\n",
       "Solver name: HiGHS\n",
       "Names registered in the model: a, c, l, p, v"
      ]
     },
     "execution_count": 15,
     "metadata": {},
     "output_type": "execute_result"
    }
   ],
   "source": [
    "model = farmer_optimal()"
   ]
  },
  {
   "cell_type": "code",
   "execution_count": 16,
   "id": "f238dda9",
   "metadata": {},
   "outputs": [
    {
     "data": {
      "text/plain": [
       "DUAL_INFEASIBLE::TerminationStatusCode = 3"
      ]
     },
     "execution_count": 16,
     "metadata": {},
     "output_type": "execute_result"
    }
   ],
   "source": [
    "termination_status(model)"
   ]
  },
  {
   "cell_type": "code",
   "execution_count": 30,
   "id": "324444d6",
   "metadata": {},
   "outputs": [
    {
     "name": "stdout",
     "output_type": "stream",
     "text": [
      "x = 128.0\n",
      "Optimal Solution = -1404.3956043956048\n",
      "Wait and See Solution = -1574.9999999999998\n",
      "Average demand Solution = -1347.5274725274721\n",
      "VSS = 170.604395604395\n",
      "EPVI = 56.86813186813265\n"
     ]
    }
   ],
   "source": [
    "data = NewsboyData(150,10,25,5,LinRange(60,150,91),ones(91)./91)\n",
    "obj1, x = newsboy_optimal(data)\n",
    "obj2 = newsboy_crystal_ball(data)\n",
    "obj3 = newsboy_average(data)\n",
    "println(\"x = $(x)\")\n",
    "println(\"Optimal Solution = $(obj1)\")\n",
    "println(\"Wait and See Solution = $(obj2)\")\n",
    "println(\"Average demand Solution = $(obj3)\")\n",
    "println(\"VSS = $(obj1-obj2)\")\n",
    "println(\"EPVI = $(obj3-obj1)\")"
   ]
  },
  {
   "cell_type": "code",
   "execution_count": null,
   "id": "b16572ed",
   "metadata": {},
   "outputs": [],
   "source": []
  }
 ],
 "metadata": {
  "kernelspec": {
   "display_name": "Julia 1.7.2",
   "language": "julia",
   "name": "julia-1.7"
  },
  "language_info": {
   "file_extension": ".jl",
   "mimetype": "application/julia",
   "name": "julia",
   "version": "1.7.2"
  }
 },
 "nbformat": 4,
 "nbformat_minor": 5
}
