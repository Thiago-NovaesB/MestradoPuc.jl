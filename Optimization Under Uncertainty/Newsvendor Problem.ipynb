{
 "cells": [
  {
   "cell_type": "markdown",
   "id": "53991e2c",
   "metadata": {},
   "source": [
    "## Load Packages"
   ]
  },
  {
   "cell_type": "code",
   "execution_count": 2,
   "id": "dfff9da5",
   "metadata": {},
   "outputs": [],
   "source": [
    "using JuMP;\n",
    "using HiGHS;\n"
   ]
  },
  {
   "cell_type": "markdown",
   "id": "6787327f",
   "metadata": {},
   "source": [
    "Every morning, the newsboy goes to the editor of the newspaper and buys a quantity of $x$ of newspapers at a cost of $c$ per unit. This $x$ amount is limited upwards by a $u$ value, as the newsboy has finite purchasing power. The decision is made under uncertainty since the demand  $d$  newspapers of the day is unknown. The number of $y$ newspapers is sold at a price of $q$ per unit. The newsboy also has an agreement with the newspaper editor: the number of unsold newspapers $w$ can be returned to the editor, who pays a $r$ price for him.\n",
    "\n",
    "Consider the two-stage formulation:\n",
    "\n",
    "$$\\min_{0 \\leq x \\leq u} cx + \\mathbb{E}_d[Q(x,d)]$$\n",
    "\n",
    "where, \n",
    "\n",
    "$$Q(x,d) = \\min_{y, z} \\left\\{ -qy -rz | y \\leq d; y + z \\leq x; y, z \\geq 0 \\right\\}$$ \n",
    "\n",
    "Let $c=10$, $r=5$, $q=25$ e $u=150$. Also, assume that the demand follows a (continuous) uniform probability distribution over the range $[50,150]$."
   ]
  },
  {
   "cell_type": "markdown",
   "id": "6465ba63",
   "metadata": {},
   "source": [
    "## 1) Find the optimal solution."
   ]
  },
  {
   "cell_type": "markdown",
   "id": "de987358",
   "metadata": {},
   "source": [
    "For this item, we will use the bilevel formulation of the newsboy problem:\n",
    "\n",
    "$$\n",
    "\\begin{aligned}\n",
    "    &\\min && cx + \\mathbb{E}_d[Q(x,d)] \\\\\n",
    "    & st && 0 \\leq x \\leq u \\\\\n",
    "        &&& Q(x,d) =\n",
    "     \\begin{aligned}[t]\n",
    "        &\\min && -qy-rz \\\\\n",
    "            & st && y \\leq d \\\\\n",
    "            &&& y+z \\leq x\\\\\n",
    "            &&& y, z \\geq 0\\\\\n",
    "     \\end{aligned}\\\\\n",
    "\\end{aligned}\n",
    "$$\n",
    "\n",
    "We then begin by solving the second stage problem. The solution is trivial, he must sell as many newspapers as possible and return the rest, that is:\n",
    "\n",
    "$$y^* = min(d,x)$$\n",
    "$$z^* = max(x-d,0)$$\n",
    "\n",
    "So:\n",
    "\n",
    "$$\\mathbb{E}_d[Q(x,d)] = \\mathbb{E}[-q min(d,x) + -r max(x-d,0)]$$\n",
    "\n",
    "Using $f(t)$ like the probability distribution funcion of $d$, by the definition of expectation:\n",
    "\n",
    "$$\\mathbb{E}_d[Q(x,d)] = -\\int_{-\\infty}^x (qt + r(x-t))f(t)dt - \\int^{\\infty}_x qtf(t)dt$$ \n",
    "\n",
    "Using $F(t)$ like the cumulative probability distribution function of $d$, by the relationship between $f(t)$ and $F(t)$:\n",
    "\n",
    "$$\\mathbb{E}_d[Q(x,d)] = -(q-r)\\int_{-\\infty}^x tf(t)dt - rxF(x) - qx(1-F(x))$$\n",
    "\n",
    "Integrating by parts:\n",
    "\n",
    "$$\\mathbb{E}_d[Q(x,d)] =  -qx + (q-r)\\int_{-\\infty}^x (t)dt $$\n",
    "\n",
    "Differentiating:\n",
    "\n",
    "$$(\\mathbb{E}_d[Q(x,d)])' = -q + (q-r)F(x) $$\n",
    "\n",
    "Then the derivative of the total cost:\n",
    "\n",
    "$$(\\mathbb{E}_d[cx+Q(x,d)])' = c-q + (q-r)F(x) $$\n",
    "\n",
    "The optimal value (ignoring the bounds of x) must respect:\n",
    "\n",
    "$$(c-q) + (q-r)F(x^*) = 0 $$\n",
    "\n",
    "Finally, the solution:\n",
    "\n",
    "$$\\frac{q-c}{q-r} < F(0) \\Rightarrow x^* = 0 $$\n",
    "$$\\frac{q-c}{q-r} > F(u) \\Rightarrow x^* = u$$ \n",
    "$$F(0) \\leq \\frac{q-c}{q-r} \\leq F(u) \\Rightarrow x^* = F^{-1}(\\frac{q-c}{q-r})$$\n",
    "\n",
    "Using the data from the assignment:\n",
    "$$\\frac{q-c}{q-r} = \\frac{25-10}{25-5} = 0.75 $$\n",
    "$$x^* = F^{-1}(0.75) = 125$$"
   ]
  },
  {
   "cell_type": "markdown",
   "id": "6d74f8b7",
   "metadata": {},
   "source": [
    "## 2) Formulate the first and second stage problem. Additionally, considering the probability distribution defined above, formulate and solve the deterministic equivalent problem."
   ]
  },
  {
   "cell_type": "markdown",
   "id": "cc157818",
   "metadata": {},
   "source": [
    "$$\n",
    "\\begin{aligned}\n",
    "    &\\min && cx + \\Sigma_s p_s(-qy_s-rz_s)  \\\\\n",
    "    & st && 0 \\leq x \\leq u \\\\\n",
    "        &&& y_s \\leq d_s \\\\\n",
    "        &&& y_s+z_s \\leq x\\\\\n",
    "        &&& y_s, z_s \\geq 0\\\\\n",
    "\\end{aligned}\n",
    "$$"
   ]
  },
  {
   "cell_type": "code",
   "execution_count": 31,
   "id": "8df38ca9",
   "metadata": {},
   "outputs": [
    {
     "data": {
      "text/plain": [
       "newsboy_average (generic function with 1 method)"
      ]
     },
     "execution_count": 31,
     "metadata": {},
     "output_type": "execute_result"
    }
   ],
   "source": [
    "struct NewsboyData\n",
    "    u::Float64\n",
    "    c::Float64\n",
    "    q::Float64\n",
    "    r::Float64\n",
    "    d::Vector{Float64}\n",
    "    p::Vector{Float64}\n",
    "end\n",
    "\n",
    "function get_newsboy_data(data::NewsboyData)\n",
    "    u = data.u\n",
    "    c = data.c\n",
    "    q = data.q\n",
    "    r = data.r\n",
    "    d = data.d\n",
    "    p = data.p\n",
    "    return u, c, q, r, d, p\n",
    "end\n",
    "\n",
    "function newsboy_optimal(data::NewsboyData)\n",
    "    \n",
    "    u, c, q, r, d, p = get_newsboy_data(data)\n",
    "    S = length(d)\n",
    "    \n",
    "    model = Model(HiGHS.Optimizer)\n",
    "    MOI.set(model, JuMP.MOI.Silent(), true)\n",
    "    @variable(model, 0<=x<=u)\n",
    "    @variable(model, 0<=y[s=1:S]<=d[s])\n",
    "    @variable(model, 0<=z[1:S])\n",
    "\n",
    "    @constraint(model,[s = 1:S], y[s] + z[s] <= x)\n",
    "\n",
    "    @objective(model, Min,c*x - sum(q*y[s]*p[s]+r*z[s]*p[s] for s = 1:S))\n",
    "\n",
    "    optimize!(model)\n",
    "    return objective_value(model), value(model[:x])\n",
    "end\n",
    "\n",
    "function newsboy_crystql_ball(data::NewsboyData)\n",
    "    \n",
    "    u, c, q, r, d, p = get_newsboy_data(data)\n",
    "    S = length(d)\n",
    "    \n",
    "    model = Model(HiGHS.Optimizer)\n",
    "    MOI.set(model, JuMP.MOI.Silent(), true)\n",
    "    @variable(model, 0<=x[s=1:S]<=u)\n",
    "    @variable(model, 0<=y[s=1:S]<=d[s])\n",
    "    @variable(model, 0<=z[1:S])\n",
    "\n",
    "    @constraint(model,[s = 1:S], y[s] + z[s] <= x[s])\n",
    "\n",
    "    @objective(model, Min, sum(c*x[s] - q*y[s]*p[s]-r*z[s]*p[s] for s = 1:S))\n",
    "\n",
    "    optimize!(model)\n",
    "    return objective_value(model)\n",
    "end\n",
    "\n",
    "function newsboy_average(data::NewsboyData)\n",
    "    \n",
    "    u, c, q, r, d, p = get_newsboy_data(data)\n",
    "    d = sum(d.*p)\n",
    "    \n",
    "    model = Model(HiGHS.Optimizer)\n",
    "    MOI.set(model, JuMP.MOI.Silent(), true)\n",
    "    @variable(model, 0<=x<=u)\n",
    "    @variable(model, 0<=y<=d)\n",
    "    @variable(model, 0<=z)\n",
    "\n",
    "    @constraint(model, y + z <= x)\n",
    "\n",
    "    @objective(model, Min, c*x - q*y - r*z )\n",
    "\n",
    "    optimize!(model)\n",
    "    return objective_value(model), value(model[:x])\n",
    "end"
   ]
  },
  {
   "cell_type": "code",
   "execution_count": 32,
   "id": "324444d6",
   "metadata": {},
   "outputs": [
    {
     "data": {
      "text/plain": [
       "128.0"
      ]
     },
     "execution_count": 32,
     "metadata": {},
     "output_type": "execute_result"
    }
   ],
   "source": [
    "data = NewsboyData(150,10,25,5,LinRange(60,150,91),ones(91)./91)\n",
    "model = newsboy(data)\n",
    "objective_value(model)\n",
    "value(model[:x])"
   ]
  },
  {
   "cell_type": "code",
   "execution_count": null,
   "id": "3c157368",
   "metadata": {},
   "outputs": [],
   "source": []
  }
 ],
 "metadata": {
  "kernelspec": {
   "display_name": "Julia 1.7.2",
   "language": "julia",
   "name": "julia-1.7"
  },
  "language_info": {
   "file_extension": ".jl",
   "mimetype": "application/julia",
   "name": "julia",
   "version": "1.7.2"
  }
 },
 "nbformat": 4,
 "nbformat_minor": 5
}
