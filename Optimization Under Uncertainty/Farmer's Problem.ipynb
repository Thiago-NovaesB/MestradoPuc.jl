{
 "cells": [
  {
   "cell_type": "markdown",
   "id": "53991e2c",
   "metadata": {},
   "source": [
    "## Load Packages"
   ]
  },
  {
   "cell_type": "code",
   "execution_count": 2,
   "id": "dfff9da5",
   "metadata": {},
   "outputs": [],
   "source": [
    "using JuMP;\n",
    "using HiGHS;"
   ]
  },
  {
   "cell_type": "markdown",
   "id": "6787327f",
   "metadata": {},
   "source": [
    "João is a farmer from a small town who specializes in growing wheat, corn and sugar beet. He owns $500 km^2$ of land and must decide the amount of land to be allocated to each of the crops. João faces several restrictions regarding his planting. First, he must have at least $200 T$ of wheat and $240 T$ of corn to feed his cattle. Such quantities can be obtained through own plantation or by buying from the city's cooperative. The purchase prices per ton of wheat are $238 R\\$/T$ and per ton of corn $210 R\\$/T$. On the other hand, any excess produced in relation to the minimum can be sold at the cooperative, however with a $40\\%$ discount on the purchase price ($170 R\\$/T$ for wheat and $150 R\\$/T$ for corn) per the cooperative's margin account. Another important restriction concerns the sale of sugar beet. By law, the sale price of a ton of beet at the cooperative is fixed at $36 R\\$/T$ for the first $6000 T$ sold. After this amount, the sale price becomes $10 R\\$/T$. In addition, the cooperative where João trades his products does not have sugar beet for purchase.\n",
    "\n",
    "Let's assume that the planting cost of each crop is: $150 R\\$/km^2$ for wheat, $230 R\\$/km^2$ for corn, and $260 R\\$/km^2$ for sugar beet. The uncertainty of the problem lies in the productivity of the land. João does not know a priori how much each $km^2$ of land will yield in tons of culture. Now assume that three scenarios of equal probabilities of occurrence were sampled: \"good\", \"average\" and \"poor\". In each of the states, the yield of each crop is given by:\n",
    "\"Bad\" state: Wheat = $2 T/km^2$; Corn = $2.4 T/km^2$; Beetroot = $16 T/km^2$;\n",
    "\"Average\" state: Wheat = $2.5 T/km^2$; Corn = $3.0 T/km^2$; Beetroot = $20 T/km^2$;\n",
    "\"Good\" state: Wheat = $3 T/km^2$; Corn = $3.6 T/km^2$; Beetroot = $24 T/km^2$;"
   ]
  },
  {
   "cell_type": "markdown",
   "id": "6d74f8b7",
   "metadata": {},
   "source": [
    "## 1) Formulate the first and second stage problem. Additionally, considering the probability distribution defined above, formulate and solve the deterministic equivalent problem.\n",
    "## Compute the value of the stochastic solution.\n",
    "## Compute the expected value of perfect information."
   ]
  },
  {
   "cell_type": "markdown",
   "id": "cc157818",
   "metadata": {},
   "source": [
    "$$\n",
    "\\begin{aligned}\n",
    "    &\\min && cx + \\Sigma_s p_s(-qy_s-rz_s)  \\\\\n",
    "    & st && 0 \\leq x \\leq u \\\\\n",
    "        &&& y_s \\leq d_s \\\\\n",
    "        &&& y_s+z_s \\leq x\\\\\n",
    "        &&& y_s, z_s \\geq 0\\\\\n",
    "\\end{aligned}\n",
    "$$"
   ]
  },
  {
   "cell_type": "code",
   "execution_count": 24,
   "id": "8df38ca9",
   "metadata": {},
   "outputs": [
    {
     "data": {
      "text/plain": [
       "newsboy_average (generic function with 1 method)"
      ]
     },
     "execution_count": 24,
     "metadata": {},
     "output_type": "execute_result"
    }
   ],
   "source": [
    "struct NewsboyData\n",
    "    u::Float64\n",
    "    c::Float64\n",
    "    q::Float64\n",
    "    r::Float64\n",
    "    d::Vector{Float64}\n",
    "    p::Vector{Float64}\n",
    "end\n",
    "\n",
    "function get_newsboy_data(data::NewsboyData)\n",
    "    u = data.u\n",
    "    c = data.c\n",
    "    q = data.q\n",
    "    r = data.r\n",
    "    d = data.d\n",
    "    p = data.p\n",
    "    return u, c, q, r, d, p\n",
    "end\n",
    "\n",
    "function newsboy_optimal(data::NewsboyData)\n",
    "    \n",
    "    u, c, q, r, d, p = get_newsboy_data(data)\n",
    "    S = length(d)\n",
    "    \n",
    "    model = Model(HiGHS.Optimizer)\n",
    "    MOI.set(model, JuMP.MOI.Silent(), true)\n",
    "    @variable(model, 0<=x<=u)\n",
    "    @variable(model, 0<=y[s=1:S]<=d[s])\n",
    "    @variable(model, 0<=z[1:S])\n",
    "\n",
    "    @constraint(model,[s = 1:S], y[s] + z[s] <= x)\n",
    "\n",
    "    @objective(model, Min,c*x - sum(q*y[s]*p[s]+r*z[s]*p[s] for s = 1:S))\n",
    "\n",
    "    optimize!(model)\n",
    "    return objective_value(model), value(model[:x])\n",
    "end\n",
    "\n",
    "function newsboy_crystal_ball(data::NewsboyData)\n",
    "    \n",
    "    u, c, q, r, d, p = get_newsboy_data(data)\n",
    "    S = length(d)\n",
    "    \n",
    "    model = Model(HiGHS.Optimizer)\n",
    "    MOI.set(model, JuMP.MOI.Silent(), true)\n",
    "    @variable(model, 0<=x[s=1:S]<=u)\n",
    "    @variable(model, 0<=y[s=1:S]<=d[s])\n",
    "    @variable(model, 0<=z[1:S])\n",
    "\n",
    "    @constraint(model,[s = 1:S], y[s] + z[s] <= x[s])\n",
    "\n",
    "    @objective(model, Min, sum(c*x[s]*p[s] - q*y[s]*p[s]-r*z[s]*p[s] for s = 1:S))\n",
    "\n",
    "    optimize!(model)\n",
    "    return objective_value(model)\n",
    "end\n",
    "\n",
    "function newsboy_average(data::NewsboyData)\n",
    "    \n",
    "    u, c, q, r, d, p = get_newsboy_data(data)\n",
    "    S = length(d)\n",
    "    x = min(u,sum(p.*d))\n",
    "      \n",
    "    model = Model(HiGHS.Optimizer)\n",
    "    MOI.set(model, JuMP.MOI.Silent(), true)\n",
    "    @variable(model, 0<=y[s=1:S]<=d[s])\n",
    "    @variable(model, 0<=z[1:S])\n",
    "\n",
    "    @constraint(model,[s = 1:S], y[s] + z[s] <= x)\n",
    "\n",
    "    @objective(model, Min, c*x - sum(q*y[s]*p[s]+r*z[s]*p[s] for s = 1:S))\n",
    "\n",
    "    optimize!(model)\n",
    "    return objective_value(model)\n",
    "end"
   ]
  },
  {
   "cell_type": "code",
   "execution_count": 30,
   "id": "324444d6",
   "metadata": {},
   "outputs": [
    {
     "name": "stdout",
     "output_type": "stream",
     "text": [
      "x = 128.0\n",
      "Optimal Solution = -1404.3956043956048\n",
      "Wait and See Solution = -1574.9999999999998\n",
      "Average demand Solution = -1347.5274725274721\n",
      "VSS = 170.604395604395\n",
      "EPVI = 56.86813186813265\n"
     ]
    }
   ],
   "source": [
    "data = NewsboyData(150,10,25,5,LinRange(60,150,91),ones(91)./91)\n",
    "obj1, x = newsboy_optimal(data)\n",
    "obj2 = newsboy_crystal_ball(data)\n",
    "obj3 = newsboy_average(data)\n",
    "println(\"x = $(x)\")\n",
    "println(\"Optimal Solution = $(obj1)\")\n",
    "println(\"Wait and See Solution = $(obj2)\")\n",
    "println(\"Average demand Solution = $(obj3)\")\n",
    "println(\"VSS = $(obj1-obj2)\")\n",
    "println(\"EPVI = $(obj3-obj1)\")"
   ]
  },
  {
   "cell_type": "code",
   "execution_count": null,
   "id": "b16572ed",
   "metadata": {},
   "outputs": [],
   "source": []
  }
 ],
 "metadata": {
  "kernelspec": {
   "display_name": "Julia 1.7.2",
   "language": "julia",
   "name": "julia-1.7"
  },
  "language_info": {
   "file_extension": ".jl",
   "mimetype": "application/julia",
   "name": "julia",
   "version": "1.7.2"
  }
 },
 "nbformat": 4,
 "nbformat_minor": 5
}
