{
  "nbformat": 4,
  "nbformat_minor": 0,
  "metadata": {
    "colab": {
      "provenance": [],
      "collapsed_sections": [
        "Umy9b6HDcX8A",
        "4FzLl4Awi9pX",
        "GGTl3jr4pJxU",
        "co4mDopdsH1H"
      ],
      "include_colab_link": true
    },
    "kernelspec": {
      "name": "python3",
      "display_name": "Python 3"
    },
    "language_info": {
      "name": "python"
    }
  },
  "cells": [
    {
      "cell_type": "markdown",
      "metadata": {
        "id": "view-in-github",
        "colab_type": "text"
      },
      "source": [
        "<a href=\"https://colab.research.google.com/github/Thiago-NovaesB/MestradoPuc.jl/blob/main/Computa%C3%A7%C3%A3oEvolucionaria%5CExerc%C3%ADcio.ipynb\" target=\"_parent\"><img src=\"https://colab.research.google.com/assets/colab-badge.svg\" alt=\"Open In Colab\"/></a>"
      ]
    },
    {
      "cell_type": "markdown",
      "source": [
        "# Lista 4"
      ],
      "metadata": {
        "id": "Umy9b6HDcX8A"
      }
    },
    {
      "cell_type": "code",
      "source": [
        "# https://deap.readthedocs.io/en/master/\n",
        "# instalar pacote deap\n",
        "!pip install deap\n",
        "import numpy as np\n",
        "import random\n",
        "import sys\n",
        "import matplotlib.pyplot as plt\n",
        "from deap import creator, tools, base, algorithms"
      ],
      "metadata": {
        "colab": {
          "base_uri": "https://localhost:8080/"
        },
        "id": "dgbglP2rjCcO",
        "outputId": "6c9a25cb-b6fc-466c-c7dc-75849ade7830"
      },
      "execution_count": 1,
      "outputs": [
        {
          "output_type": "stream",
          "name": "stdout",
          "text": [
            "Looking in indexes: https://pypi.org/simple, https://us-python.pkg.dev/colab-wheels/public/simple/\n",
            "Requirement already satisfied: deap in /usr/local/lib/python3.9/dist-packages (1.3.3)\n",
            "Requirement already satisfied: numpy in /usr/local/lib/python3.9/dist-packages (from deap) (1.22.4)\n"
          ]
        }
      ]
    },
    {
      "cell_type": "markdown",
      "source": [
        "## Questão 1"
      ],
      "metadata": {
        "id": "4FzLl4Awi9pX"
      }
    },
    {
      "cell_type": "code",
      "source": [
        "# dados de entrada\n",
        "x = np.array([-1.0, -0.7, -0.4, -0.1, 0.2, 0.5, 0.8, 1.0])\n",
        "y = np.array([36.547, 17.264, 8.155, 3.852, 1.820, 0.860, 0.406, 0.246])"
      ],
      "metadata": {
        "id": "txCinwfyjV1V"
      },
      "execution_count": 2,
      "outputs": []
    },
    {
      "cell_type": "code",
      "source": [
        "# função objetivo\n",
        "def objective_function(individual):\n",
        "  a = individual[0]\n",
        "  b = individual[1]\n",
        "  z = a*np.e**(b*x)\n",
        "  return np.linalg.norm(z-y),"
      ],
      "metadata": {
        "id": "CUBUxV7hecvj"
      },
      "execution_count": 3,
      "outputs": []
    },
    {
      "cell_type": "code",
      "source": [
        "# Tipos da fitness e indivíduos\n",
        "creator.create('FitnessMin', base.Fitness, weights=(-1.0,))\n",
        "creator.create('Individual', list, fitness=creator.FitnessMin)"
      ],
      "metadata": {
        "id": "a9WG6mIog_eb"
      },
      "execution_count": 4,
      "outputs": []
    },
    {
      "cell_type": "code",
      "source": [
        "toolbox = base.Toolbox()\n",
        "\n",
        "# gerador da variável de decisão\n",
        "toolbox.register('attr_real', random.gauss, 0, 10)\n",
        "\n",
        "# Inicializar individuo e população\n",
        "# initRepeat(container, func, n)\n",
        "toolbox.register('individual', tools.initRepeat, creator.Individual, toolbox.attr_real, 2)  \n",
        "\n",
        "# População\n",
        "toolbox.register('population', tools.initRepeat, list, toolbox.individual)"
      ],
      "metadata": {
        "id": "B6LWnQ8xiomP"
      },
      "execution_count": 5,
      "outputs": []
    },
    {
      "cell_type": "code",
      "source": [
        "# Operadores\n",
        "toolbox.register('evaluate', objective_function)\n",
        "toolbox.register('mate', tools.cxSimulatedBinaryBounded, eta=0, low=-10, up=10)  # eta, low, up\n",
        "toolbox.register('mutate', tools.mutGaussian, mu=0, sigma=1, indpb=0.05)\n",
        "toolbox.register('select', tools.selTournament, tournsize=3)"
      ],
      "metadata": {
        "id": "WJ25o671lgR2"
      },
      "execution_count": 6,
      "outputs": []
    },
    {
      "cell_type": "code",
      "source": [
        "pop = toolbox.population(n=100)\n",
        "hof = tools.HallOfFame(1)  # melhor de todo o processo\n",
        "stats = tools.Statistics(lambda ind:ind.fitness.values)\n",
        "stats.register('avg', np.mean)\n",
        "stats.register('std', np.std)\n",
        "stats.register('min', np.min)\n",
        "stats.register('max', np.max)"
      ],
      "metadata": {
        "id": "Gx-4OfsPpBd0"
      },
      "execution_count": 7,
      "outputs": []
    },
    {
      "cell_type": "code",
      "source": [
        "pop, log = algorithms.eaSimple(pop, toolbox, cxpb=0.5, mutpb=0.1, ngen=50, \n",
        "                                stats=stats, halloffame=hof, verbose=True)"
      ],
      "metadata": {
        "colab": {
          "base_uri": "https://localhost:8080/"
        },
        "id": "K2ZAmqtzrppp",
        "outputId": "299857f9-b9f6-49fb-f07d-5dd81ab00004"
      },
      "execution_count": 8,
      "outputs": [
        {
          "output_type": "stream",
          "name": "stdout",
          "text": [
            "gen\tnevals\tavg        \tstd        \tmin    \tmax        \n",
            "0  \t100   \t1.96523e+11\t1.79942e+12\t12.8553\t1.80543e+13\n",
            "1  \t57    \t962527     \t9.40628e+06\t8.2398 \t9.45501e+07\n",
            "2  \t62    \t54.172     \t51.4381    \t6.11725\t284.485    \n",
            "3  \t56    \t35.4536    \t54.2952    \t7.52204\t514.859    \n",
            "4  \t70    \t19.7803    \t18.4921    \t6.84664\t135.484    \n",
            "5  \t55    \t11.1907    \t4.44636    \t6.42325\t27.268     \n",
            "6  \t50    \t12.3568    \t25.7863    \t4.6737 \t263.188    \n",
            "7  \t58    \t7.2045     \t1.96482    \t4.37268\t15.8309    \n",
            "8  \t65    \t9.14122    \t21.823     \t4.37268\t220.566    \n",
            "9  \t51    \t7.23794    \t8.6882     \t3.13919\t71.7522    \n",
            "10 \t66    \t4.79442    \t0.5934     \t3.13919\t7.14539    \n",
            "11 \t56    \t4.73947    \t1.1455     \t3.13919\t10.5773    \n",
            "12 \t54    \t5.38177    \t3.7347     \t3.13919\t32.2174    \n",
            "13 \t40    \t4.3585     \t2.7219     \t3.13919\t26.1101    \n",
            "14 \t37    \t3.61203    \t0.492427   \t3.13919\t5.36623    \n",
            "15 \t51    \t3.42653    \t1.3171     \t3.06855\t16.1693    \n",
            "16 \t58    \t3.76928    \t3.28508    \t3.06586\t31.5541    \n",
            "17 \t57    \t3.17095    \t0.356682   \t3.06586\t6.70665    \n",
            "18 \t55    \t3.13988    \t0.29304    \t3.06586\t6.03642    \n",
            "19 \t59    \t3.09119    \t0.058518   \t3.06586\t3.56536    \n",
            "20 \t45    \t3.13334    \t0.640652   \t3.06586\t9.5073     \n",
            "21 \t55    \t3.06634    \t0.00324243 \t3.06586\t3.09711    \n",
            "22 \t51    \t3.33521    \t2.68001    \t3.06586\t30.001     \n",
            "23 \t58    \t3.33518    \t1.54594    \t3.06586\t13.5998    \n",
            "24 \t60    \t3.08942    \t0.234419   \t3.06585\t5.42185    \n",
            "25 \t53    \t3.06586    \t2.21939e-06\t3.06584\t3.06587    \n",
            "26 \t45    \t3.06586    \t3.03312e-06\t3.06584\t3.06586    \n",
            "27 \t52    \t3.47014    \t4.02261    \t3.06583\t43.4946    \n",
            "28 \t52    \t3.14483    \t0.785838   \t3.06583\t10.9638    \n",
            "29 \t61    \t3.08572    \t0.197739   \t3.06583\t5.0532     \n",
            "30 \t51    \t3.55758    \t4.89278    \t3.06582\t52.2401    \n",
            "31 \t59    \t3.06612    \t0.00284416 \t3.06582\t3.09442    \n",
            "32 \t45    \t3.30379    \t2.36772    \t3.06582\t26.8624    \n",
            "33 \t66    \t3.78813    \t7.18681    \t3.06582\t75.296     \n",
            "34 \t64    \t3.09379    \t0.278226   \t3.06581\t5.8621     \n",
            "35 \t50    \t3.29544    \t2.28469    \t3.06581\t26.0279    \n",
            "36 \t70    \t3.06585    \t0.00024276 \t3.06581\t3.06756    \n",
            "37 \t54    \t3.1289     \t0.627656   \t3.06581\t9.374      \n",
            "38 \t63    \t3.06581    \t7.94729e-07\t3.06581\t3.06582    \n",
            "39 \t66    \t3.06581    \t6.33445e-07\t3.06581\t3.06581    \n",
            "40 \t57    \t3.39973    \t3.08942    \t3.06581\t34.0462    \n",
            "41 \t55    \t3.06713    \t0.0130951  \t3.06581\t3.19742    \n",
            "42 \t58    \t3.1059     \t0.398906   \t3.06581\t7.07497    \n",
            "43 \t50    \t3.15728    \t0.910086   \t3.06581\t12.2125    \n",
            "44 \t59    \t3.066      \t0.00181628 \t3.06581\t3.08407    \n",
            "45 \t55    \t3.07564    \t0.0977584  \t3.06581\t4.04832    \n",
            "46 \t55    \t3.5945     \t5.26036    \t3.06581\t55.9344    \n",
            "47 \t58    \t3.10316    \t0.371574   \t3.06581\t6.80027    \n",
            "48 \t62    \t3.06581    \t4.87001e-12\t3.06581\t3.06581    \n",
            "49 \t50    \t3.06581    \t1.79328e-13\t3.06581\t3.06581    \n",
            "50 \t48    \t3.06581    \t7.61574e-14\t3.06581\t3.06581    \n"
          ]
        }
      ]
    },
    {
      "cell_type": "code",
      "source": [
        "# Melhor solução\n",
        "print('Melhor indivíduo:', hof[0])"
      ],
      "metadata": {
        "colab": {
          "base_uri": "https://localhost:8080/"
        },
        "id": "3tCwT9gjtSzc",
        "outputId": "6a31de3b-6531-4bdf-baba-dca12ddb4043"
      },
      "execution_count": 9,
      "outputs": [
        {
          "output_type": "stream",
          "name": "stdout",
          "text": [
            "Melhor indivíduo: [4.213117117333512, -2.1394191010188175]\n"
          ]
        }
      ]
    },
    {
      "cell_type": "code",
      "source": [
        "# Resultado da fo do mlehor indivíduo:\n",
        "print('Melhor F.O.:', objective_function(hof[0]))"
      ],
      "metadata": {
        "colab": {
          "base_uri": "https://localhost:8080/"
        },
        "id": "iXIbSm9WukOu",
        "outputId": "601ae9a4-8b4d-43bb-a722-1b6d4e51eb5c"
      },
      "execution_count": 10,
      "outputs": [
        {
          "output_type": "stream",
          "name": "stdout",
          "text": [
            "Melhor F.O.: (3.0658130413832767,)\n"
          ]
        }
      ]
    },
    {
      "cell_type": "code",
      "source": [
        "X = np.linspace(-1,1,100)\n",
        "plt.figure(figsize=(5,2))\n",
        "plt.plot(X, hof[0][0]*np.e**(hof[0][1]*X))\n",
        "plt.scatter(x, y, color='red')  # melhor\n",
        "plt.xlabel('x')\n",
        "plt.ylabel('y')\n",
        "plt.show()"
      ],
      "metadata": {
        "colab": {
          "base_uri": "https://localhost:8080/",
          "height": 234
        },
        "id": "30OnTARwz0hh",
        "outputId": "8db410b0-7646-4587-fac3-8aaa2d3812ab"
      },
      "execution_count": 11,
      "outputs": [
        {
          "output_type": "display_data",
          "data": {
            "text/plain": [
              "<Figure size 500x200 with 1 Axes>"
            ],
            "image/png": "[encoded data removed]"
          },
          "metadata": {}
        }
      ]
    },
    {
      "cell_type": "markdown",
      "source": [
        "## Questão 2"
      ],
      "metadata": {
        "id": "GGTl3jr4pJxU"
      }
    },
    {
      "cell_type": "code",
      "source": [
        "# função objetivo\n",
        "def objective_function(individual):\n",
        "  return 3*individual[0]+5*individual[1],\n",
        "\n",
        "def feasible(individual):\n",
        "  if (individual[0]+5)**2 + (individual[1]+5)**2 >= 25:\n",
        "    return False\n",
        "  if individual[0] > 4:\n",
        "    return False\n",
        "  if individual[1] > 6:\n",
        "    return False\n",
        "  if individual[0] < 0:\n",
        "    return False\n",
        "  if individual[1] < 0:\n",
        "    return False\n",
        "  if 3*individual[0] + 2*individual[1] > 18:\n",
        "    return False\n",
        "  return True"
      ],
      "metadata": {
        "id": "lM6GQfM0pJxZ"
      },
      "execution_count": 12,
      "outputs": []
    },
    {
      "cell_type": "code",
      "source": [
        "# Tipos da fitness e indivíduos\n",
        "creator.create('FitnessMax', base.Fitness, weights=(1.0,))\n",
        "creator.create('Individual', list, fitness=creator.FitnessMax)"
      ],
      "metadata": {
        "colab": {
          "base_uri": "https://localhost:8080/"
        },
        "id": "sGaYLmAKpJxa",
        "outputId": "1ef449a5-71a3-4f85-beb9-7776b1f58d7c"
      },
      "execution_count": 13,
      "outputs": [
        {
          "output_type": "stream",
          "name": "stderr",
          "text": [
            "/usr/local/lib/python3.9/dist-packages/deap/creator.py:138: RuntimeWarning: A class named 'Individual' has already been created and it will be overwritten. Consider deleting previous creation of that class or rename it.\n",
            "  warnings.warn(\"A class named '{0}' has already been created and it \"\n"
          ]
        }
      ]
    },
    {
      "cell_type": "code",
      "source": [
        "toolbox = base.Toolbox()\n",
        "\n",
        "# gerador da variável de decisão\n",
        "toolbox.register('attr_real1', random.uniform, 0, 4)\n",
        "toolbox.register('attr_real2', random.uniform, 0, 6)\n",
        "\n",
        "# Inicializar individuo e população\n",
        "toolbox.register('individual', tools.initCycle, creator.Individual, (toolbox.attr_real1, toolbox.attr_real2), 1)  \n",
        "\n",
        "# População\n",
        "toolbox.register('population', tools.initRepeat, list, toolbox.individual)"
      ],
      "metadata": {
        "id": "yolN4SInpJxa"
      },
      "execution_count": 14,
      "outputs": []
    },
    {
      "cell_type": "code",
      "source": [
        "# Operadores\n",
        "toolbox.register('evaluate', objective_function)\n",
        "toolbox.decorate(\"evaluate\", tools.DeltaPenalty(feasible, sys.maxsize))\n",
        "toolbox.register('mate', tools.cxSimulatedBinaryBounded, eta=0, low=0, up=6)  # eta, low, up\n",
        "toolbox.register('mutate', tools.mutGaussian, mu=0, sigma=1, indpb=0.05)\n",
        "toolbox.register('select', tools.selTournament, tournsize=3)"
      ],
      "metadata": {
        "id": "rTTGjeDgpJxa"
      },
      "execution_count": 15,
      "outputs": []
    },
    {
      "cell_type": "code",
      "source": [
        "pop = toolbox.population(n=100)\n",
        "hof = tools.HallOfFame(1)  # melhor de todo o processo\n",
        "stats = tools.Statistics(lambda ind:ind.fitness.values)\n",
        "stats.register('avg', np.mean)\n",
        "stats.register('std', np.std)\n",
        "stats.register('min', np.min)\n",
        "stats.register('max', np.max)"
      ],
      "metadata": {
        "id": "oZqy9wZipJxa"
      },
      "execution_count": 16,
      "outputs": []
    },
    {
      "cell_type": "code",
      "source": [
        "pop, log = algorithms.eaSimple(pop, toolbox, cxpb=0.5, mutpb=0.1, ngen=50, \n",
        "                                stats=stats, halloffame=hof, verbose=True)"
      ],
      "metadata": {
        "colab": {
          "base_uri": "https://localhost:8080/"
        },
        "outputId": "d4d0f8d5-f513-46bf-a8e5-a62a91a79e81",
        "id": "dtEXnF8YpJxa"
      },
      "execution_count": 17,
      "outputs": [
        {
          "output_type": "stream",
          "name": "stdout",
          "text": [
            "gen\tnevals\tavg        \tstd\tmin        \tmax        \n",
            "0  \t100   \t9.22337e+18\t0  \t9.22337e+18\t9.22337e+18\n",
            "1  \t52    \t9.22337e+18\t0  \t9.22337e+18\t9.22337e+18\n",
            "2  \t60    \t9.22337e+18\t0  \t9.22337e+18\t9.22337e+18\n",
            "3  \t50    \t9.22337e+18\t0  \t9.22337e+18\t9.22337e+18\n",
            "4  \t64    \t9.22337e+18\t0  \t9.22337e+18\t9.22337e+18\n",
            "5  \t57    \t9.22337e+18\t0  \t9.22337e+18\t9.22337e+18\n",
            "6  \t57    \t9.22337e+18\t0  \t9.22337e+18\t9.22337e+18\n",
            "7  \t68    \t9.22337e+18\t0  \t9.22337e+18\t9.22337e+18\n",
            "8  \t54    \t9.22337e+18\t0  \t9.22337e+18\t9.22337e+18\n",
            "9  \t51    \t9.22337e+18\t0  \t9.22337e+18\t9.22337e+18\n",
            "10 \t42    \t9.22337e+18\t0  \t9.22337e+18\t9.22337e+18\n",
            "11 \t55    \t9.22337e+18\t0  \t9.22337e+18\t9.22337e+18\n",
            "12 \t66    \t9.22337e+18\t0  \t9.22337e+18\t9.22337e+18\n",
            "13 \t57    \t9.22337e+18\t0  \t9.22337e+18\t9.22337e+18\n",
            "14 \t59    \t9.22337e+18\t0  \t9.22337e+18\t9.22337e+18\n",
            "15 \t57    \t9.22337e+18\t0  \t9.22337e+18\t9.22337e+18\n",
            "16 \t42    \t9.22337e+18\t0  \t9.22337e+18\t9.22337e+18\n",
            "17 \t48    \t9.22337e+18\t0  \t9.22337e+18\t9.22337e+18\n",
            "18 \t56    \t9.22337e+18\t0  \t9.22337e+18\t9.22337e+18\n",
            "19 \t52    \t9.22337e+18\t0  \t9.22337e+18\t9.22337e+18\n",
            "20 \t56    \t9.22337e+18\t0  \t9.22337e+18\t9.22337e+18\n",
            "21 \t53    \t9.22337e+18\t0  \t9.22337e+18\t9.22337e+18\n",
            "22 \t62    \t9.22337e+18\t0  \t9.22337e+18\t9.22337e+18\n",
            "23 \t62    \t9.22337e+18\t0  \t9.22337e+18\t9.22337e+18\n",
            "24 \t51    \t9.22337e+18\t0  \t9.22337e+18\t9.22337e+18\n",
            "25 \t57    \t9.22337e+18\t0  \t9.22337e+18\t9.22337e+18\n",
            "26 \t55    \t9.22337e+18\t0  \t9.22337e+18\t9.22337e+18\n",
            "27 \t56    \t9.22337e+18\t0  \t9.22337e+18\t9.22337e+18\n",
            "28 \t57    \t9.22337e+18\t0  \t9.22337e+18\t9.22337e+18\n",
            "29 \t46    \t9.22337e+18\t0  \t9.22337e+18\t9.22337e+18\n",
            "30 \t50    \t9.22337e+18\t0  \t9.22337e+18\t9.22337e+18\n",
            "31 \t54    \t9.22337e+18\t0  \t9.22337e+18\t9.22337e+18\n",
            "32 \t54    \t9.22337e+18\t0  \t9.22337e+18\t9.22337e+18\n",
            "33 \t56    \t9.22337e+18\t0  \t9.22337e+18\t9.22337e+18\n",
            "34 \t49    \t9.22337e+18\t0  \t9.22337e+18\t9.22337e+18\n",
            "35 \t47    \t9.22337e+18\t0  \t9.22337e+18\t9.22337e+18\n",
            "36 \t59    \t9.22337e+18\t0  \t9.22337e+18\t9.22337e+18\n",
            "37 \t56    \t9.22337e+18\t0  \t9.22337e+18\t9.22337e+18\n",
            "38 \t56    \t9.22337e+18\t0  \t9.22337e+18\t9.22337e+18\n",
            "39 \t47    \t9.22337e+18\t0  \t9.22337e+18\t9.22337e+18\n",
            "40 \t61    \t9.22337e+18\t0  \t9.22337e+18\t9.22337e+18\n",
            "41 \t58    \t9.22337e+18\t0  \t9.22337e+18\t9.22337e+18\n",
            "42 \t65    \t9.22337e+18\t0  \t9.22337e+18\t9.22337e+18\n",
            "43 \t49    \t9.22337e+18\t0  \t9.22337e+18\t9.22337e+18\n",
            "44 \t53    \t9.22337e+18\t0  \t9.22337e+18\t9.22337e+18\n",
            "45 \t57    \t9.22337e+18\t0  \t9.22337e+18\t9.22337e+18\n",
            "46 \t67    \t9.22337e+18\t0  \t9.22337e+18\t9.22337e+18\n",
            "47 \t57    \t9.22337e+18\t0  \t9.22337e+18\t9.22337e+18\n",
            "48 \t60    \t9.22337e+18\t0  \t9.22337e+18\t9.22337e+18\n",
            "49 \t53    \t9.22337e+18\t0  \t9.22337e+18\t9.22337e+18\n",
            "50 \t58    \t9.22337e+18\t0  \t9.22337e+18\t9.22337e+18\n"
          ]
        }
      ]
    },
    {
      "cell_type": "code",
      "source": [
        "# Melhor solução\n",
        "print('Melhor indivíduo:', hof[0])"
      ],
      "metadata": {
        "colab": {
          "base_uri": "https://localhost:8080/"
        },
        "outputId": "d52c8c7f-3758-409d-cb32-dd48ec9d24eb",
        "id": "EjAJeVFrpJxa"
      },
      "execution_count": 18,
      "outputs": [
        {
          "output_type": "stream",
          "name": "stdout",
          "text": [
            "Melhor indivíduo: [0.9497380917623932, 1.1881561043114657]\n"
          ]
        }
      ]
    },
    {
      "cell_type": "code",
      "source": [
        "# Resultado da fo do mlehor indivíduo:\n",
        "print('Melhor F.O.:', objective_function(hof[0]))"
      ],
      "metadata": {
        "colab": {
          "base_uri": "https://localhost:8080/"
        },
        "outputId": "6e958809-e12f-4546-e9d4-5ac3dc9fa175",
        "id": "aw9CcLe_pJxa"
      },
      "execution_count": 19,
      "outputs": [
        {
          "output_type": "stream",
          "name": "stdout",
          "text": [
            "Melhor F.O.: (8.789994796844507,)\n"
          ]
        }
      ]
    },
    {
      "cell_type": "markdown",
      "source": [
        "## Questão 3"
      ],
      "metadata": {
        "id": "co4mDopdsH1H"
      }
    },
    {
      "cell_type": "code",
      "source": [
        "# dados de entrada\n",
        "x = np.array([-5.0, 2, 10])\n",
        "y = np.array([10, 1, 5])"
      ],
      "metadata": {
        "id": "L9Zxbea8sPMr"
      },
      "execution_count": 20,
      "outputs": []
    },
    {
      "cell_type": "code",
      "source": [
        "# função objetivo\n",
        "def objective_function(individual):\n",
        "  obj = 0\n",
        "  for i in range(len(x)):\n",
        "    obj += np.sqrt((x[i]-individual[0])**2 + (y[i]-individual[1])**2)\n",
        "  return obj,\n",
        "\n",
        "def feasible(individual):\n",
        "  for i in range(len(x)):\n",
        "    if (x[i]-individual[0])**2 + (y[i]-individual[1])**2 > 100:\n",
        "      return False\n",
        "  return True"
      ],
      "metadata": {
        "id": "Uqtj8SsDsH1M"
      },
      "execution_count": 21,
      "outputs": []
    },
    {
      "cell_type": "code",
      "source": [
        "# Tipos da fitness e indivíduos\n",
        "creator.create('FitnessMin', base.Fitness, weights=(-1.0,))\n",
        "creator.create('Individual', list, fitness=creator.FitnessMin)"
      ],
      "metadata": {
        "colab": {
          "base_uri": "https://localhost:8080/"
        },
        "outputId": "f4950768-e7a4-45ac-800e-eee21dcf55bb",
        "id": "ix0s6yMEsH1M"
      },
      "execution_count": 22,
      "outputs": [
        {
          "output_type": "stream",
          "name": "stderr",
          "text": [
            "/usr/local/lib/python3.9/dist-packages/deap/creator.py:138: RuntimeWarning: A class named 'FitnessMin' has already been created and it will be overwritten. Consider deleting previous creation of that class or rename it.\n",
            "  warnings.warn(\"A class named '{0}' has already been created and it \"\n"
          ]
        }
      ]
    },
    {
      "cell_type": "code",
      "source": [
        "toolbox = base.Toolbox()\n",
        "\n",
        "# gerador da variável de decisão\n",
        "toolbox.register('attr_real1', random.uniform, -5, 10)\n",
        "toolbox.register('attr_real2', random.uniform, 1, 10)\n",
        "\n",
        "# Inicializar individuo e população\n",
        "toolbox.register('individual', tools.initCycle, creator.Individual, (toolbox.attr_real1, toolbox.attr_real2), 1)  \n",
        "\n",
        "# População\n",
        "toolbox.register('population', tools.initRepeat, list, toolbox.individual)"
      ],
      "metadata": {
        "id": "n-Rh9-HzsH1N"
      },
      "execution_count": 23,
      "outputs": []
    },
    {
      "cell_type": "code",
      "source": [
        "# Operadores\n",
        "toolbox.register('evaluate', objective_function)\n",
        "toolbox.decorate(\"evaluate\", tools.DeltaPenalty(feasible, sys.maxsize))\n",
        "toolbox.register('mate', tools.cxSimulatedBinaryBounded, eta=0.1, low=-5, up=10)  # eta, low, up\n",
        "toolbox.register('mutate', tools.mutGaussian, mu=0, sigma=1, indpb=0.05)\n",
        "toolbox.register('select', tools.selTournament, tournsize=3)"
      ],
      "metadata": {
        "id": "FLYHBTXJsH1N"
      },
      "execution_count": 24,
      "outputs": []
    },
    {
      "cell_type": "code",
      "source": [
        "pop = toolbox.population(n=100)\n",
        "hof = tools.HallOfFame(1)  # melhor de todo o processo\n",
        "stats = tools.Statistics(lambda ind:ind.fitness.values)\n",
        "stats.register('avg', np.mean)\n",
        "stats.register('std', np.std)\n",
        "stats.register('min', np.min)\n",
        "stats.register('max', np.max)"
      ],
      "metadata": {
        "id": "EBIB4ssxsH1N"
      },
      "execution_count": 25,
      "outputs": []
    },
    {
      "cell_type": "code",
      "source": [
        "pop, log = algorithms.eaSimple(pop, toolbox, cxpb=0.5, mutpb=0.1, ngen=50, \n",
        "                                stats=stats, halloffame=hof, verbose=True)"
      ],
      "metadata": {
        "colab": {
          "base_uri": "https://localhost:8080/"
        },
        "outputId": "ead8b9b1-2107-43f3-b4c1-61d6bbb9f598",
        "id": "rqlGRZB1sH1N"
      },
      "execution_count": 26,
      "outputs": [
        {
          "output_type": "stream",
          "name": "stdout",
          "text": [
            "gen\tnevals\tavg        \tstd        \tmin    \tmax        \n",
            "0  \t100   \t6.36413e+18\t4.26575e+18\t20.2124\t9.22337e+18\n",
            "1  \t41    \t3.22818e+18\t4.39927e+18\t20.2034\t9.22337e+18\n",
            "2  \t53    \t1.29127e+18\t3.20039e+18\t20.1881\t9.22337e+18\n",
            "3  \t51    \t7.3787e+17 \t2.50224e+18\t20.179 \t9.22337e+18\n",
            "4  \t54    \t2.76701e+17\t1.57339e+18\t20.139 \t9.22337e+18\n",
            "5  \t65    \t3.68935e+17\t1.8074e+18 \t20.139 \t9.22337e+18\n",
            "6  \t60    \t9.22337e+16\t9.17714e+17\t20.1445\t9.22337e+18\n",
            "7  \t54    \t2.76701e+17\t1.57339e+18\t20.1445\t9.22337e+18\n",
            "8  \t51    \t9.22337e+16\t9.17714e+17\t20.1321\t9.22337e+18\n",
            "9  \t62    \t20.1602    \t0.0227859  \t20.1365\t20.359     \n",
            "10 \t55    \t20.1498    \t0.00631712 \t20.1361\t20.1701    \n",
            "11 \t64    \t3.68935e+17\t1.8074e+18 \t20.1361\t9.22337e+18\n",
            "12 \t46    \t20.1409    \t0.00513147 \t20.1361\t20.1774    \n",
            "13 \t57    \t1.84467e+17\t1.29127e+18\t20.1326\t9.22337e+18\n",
            "14 \t49    \t20.1366    \t0.00263067 \t20.1207\t20.1504    \n",
            "15 \t61    \t1.84467e+17\t1.29127e+18\t20.1203\t9.22337e+18\n",
            "16 \t44    \t2.76701e+17\t1.57339e+18\t20.1132\t9.22337e+18\n",
            "17 \t60    \t20.1277    \t0.0060318  \t20.1132\t20.1384    \n",
            "18 \t50    \t6.45636e+17\t2.35332e+18\t20.1132\t9.22337e+18\n",
            "19 \t54    \t5.53402e+17\t2.19043e+18\t20.1127\t9.22337e+18\n",
            "20 \t52    \t2.76701e+17\t1.57339e+18\t20.1127\t9.22337e+18\n",
            "21 \t61    \t5.53402e+17\t2.19043e+18\t20.1126\t9.22337e+18\n",
            "22 \t55    \t9.22337e+16\t9.17714e+17\t20.1126\t9.22337e+18\n",
            "23 \t64    \t5.53402e+17\t2.19043e+18\t20.1124\t9.22337e+18\n",
            "24 \t56    \t5.53402e+17\t2.19043e+18\t20.1123\t9.22337e+18\n",
            "25 \t59    \t4.61169e+17\t2.01019e+18\t20.1123\t9.22337e+18\n",
            "26 \t56    \t2.76701e+17\t1.57339e+18\t20.111 \t9.22337e+18\n",
            "27 \t59    \t1.84467e+17\t1.29127e+18\t20.111 \t9.22337e+18\n",
            "28 \t54    \t5.53402e+17\t2.19043e+18\t20.1109\t9.22337e+18\n",
            "29 \t47    \t4.61169e+17\t2.01019e+18\t20.1109\t9.22337e+18\n",
            "30 \t51    \t5.53402e+17\t2.19043e+18\t20.1109\t9.22337e+18\n",
            "31 \t57    \t6.45636e+17\t2.35332e+18\t20.1108\t9.22337e+18\n",
            "32 \t49    \t4.61169e+17\t2.01019e+18\t20.1109\t9.22337e+18\n",
            "33 \t49    \t1.84467e+17\t1.29127e+18\t20.1109\t9.22337e+18\n",
            "34 \t55    \t4.61169e+17\t2.01019e+18\t20.1109\t9.22337e+18\n",
            "35 \t62    \t4.61169e+17\t2.01019e+18\t20.1108\t9.22337e+18\n",
            "36 \t56    \t7.3787e+17 \t2.50224e+18\t20.1108\t9.22337e+18\n",
            "37 \t51    \t4.61169e+17\t2.01019e+18\t20.1108\t9.22337e+18\n",
            "38 \t63    \t7.3787e+17 \t2.50224e+18\t20.1108\t9.22337e+18\n",
            "39 \t68    \t1.1068e+18 \t2.99724e+18\t20.1108\t9.22337e+18\n",
            "40 \t56    \t4.61169e+17\t2.01019e+18\t20.1108\t9.22337e+18\n",
            "41 \t48    \t1.84467e+17\t1.29127e+18\t20.1107\t9.22337e+18\n",
            "42 \t61    \t20.1144    \t0.036346   \t20.1107\t20.4761    \n",
            "43 \t62    \t9.22337e+16\t9.17714e+17\t20.1107\t9.22337e+18\n",
            "44 \t63    \t9.22337e+16\t9.17714e+17\t20.1107\t9.22337e+18\n",
            "45 \t56    \t3.68935e+17\t1.8074e+18 \t20.1107\t9.22337e+18\n",
            "46 \t47    \t2.76701e+17\t1.57339e+18\t20.1107\t9.22337e+18\n",
            "47 \t51    \t2.76701e+17\t1.57339e+18\t20.1107\t9.22337e+18\n",
            "48 \t44    \t20.1146    \t0.0390042  \t20.1107\t20.5027    \n",
            "49 \t59    \t5.53402e+17\t2.19043e+18\t20.1107\t9.22337e+18\n",
            "50 \t58    \t6.45636e+17\t2.35332e+18\t20.1107\t9.22337e+18\n"
          ]
        }
      ]
    },
    {
      "cell_type": "code",
      "source": [
        "# Melhor solução\n",
        "print('Melhor indivíduo:', hof[0])"
      ],
      "metadata": {
        "colab": {
          "base_uri": "https://localhost:8080/"
        },
        "outputId": "d259f388-3745-4b42-8f35-8bffddab0b31",
        "id": "CF1Su6YOsH1N"
      },
      "execution_count": 27,
      "outputs": [
        {
          "output_type": "stream",
          "name": "stdout",
          "text": [
            "Melhor indivíduo: [2.513864665135032, 3.401469392889641]\n"
          ]
        }
      ]
    },
    {
      "cell_type": "code",
      "source": [
        "# Resultado da fo do mlehor indivíduo:\n",
        "print('Melhor F.O.:', objective_function(hof[0]))"
      ],
      "metadata": {
        "colab": {
          "base_uri": "https://localhost:8080/"
        },
        "outputId": "2ba4b866-87bc-4761-c24d-f529de062a1d",
        "id": "iqqpcMAHsH1N"
      },
      "execution_count": 28,
      "outputs": [
        {
          "output_type": "stream",
          "name": "stdout",
          "text": [
            "Melhor F.O.: (20.110672540245794,)\n"
          ]
        }
      ]
    },
    {
      "cell_type": "code",
      "source": [
        "theta = np.linspace( 0 , 2 * np.pi , 150 )\n",
        " \n",
        "radius = 10\n",
        " \n",
        "a = radius * np.cos( theta ) + hof[0][0]\n",
        "b = radius * np.sin( theta ) + hof[0][1]\n",
        "\n",
        "plt.figure(figsize=(5,5))\n",
        "plt.plot(a, b, color='blue')\n",
        "plt.scatter(x, y, color='red')\n",
        "plt.xlabel('x')\n",
        "plt.ylabel('y')\n",
        "plt.show()"
      ],
      "metadata": {
        "colab": {
          "base_uri": "https://localhost:8080/",
          "height": 0
        },
        "id": "Z_CyWpwIuXg1",
        "outputId": "80e04e9d-8f26-4ee0-a751-8088e1fe98ad"
      },
      "execution_count": 29,
      "outputs": [
        {
          "output_type": "display_data",
          "data": {
            "text/plain": [
              "<Figure size 500x500 with 1 Axes>"
            ],
            "image/png": "[encoded data removed]"
          },
          "metadata": {}
        }
      ]
    }
  ]
}