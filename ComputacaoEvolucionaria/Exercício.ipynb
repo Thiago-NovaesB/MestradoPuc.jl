{
  "nbformat": 4,
  "nbformat_minor": 0,
  "metadata": {
    "colab": {
      "provenance": [],
      "include_colab_link": true
    },
    "kernelspec": {
      "name": "python3",
      "display_name": "Python 3"
    },
    "language_info": {
      "name": "python"
    }
  },
  "cells": [
    {
      "cell_type": "markdown",
      "metadata": {
        "id": "view-in-github",
        "colab_type": "text"
      },
      "source": [
        "<a href=\"https://colab.research.google.com/github/Thiago-NovaesB/MestradoPuc.jl/blob/main/ComputacaoEvolucionaria/Exerc%C3%ADcio.ipynb\" target=\"_parent\"><img src=\"https://colab.research.google.com/assets/colab-badge.svg\" alt=\"Open In Colab\"/></a>"
      ]
    },
    {
      "cell_type": "markdown",
      "source": [
        "# Lista 4"
      ],
      "metadata": {
        "id": "Umy9b6HDcX8A"
      }
    },
    {
      "cell_type": "code",
      "source": [
        "# https://deap.readthedocs.io/en/master/\n",
        "# instalar pacote deap\n",
        "!pip install deap\n",
        "import numpy as np\n",
        "import random\n",
        "import sys\n",
        "import matplotlib.pyplot as plt\n",
        "from deap import creator, tools, base, algorithms"
      ],
      "metadata": {
        "colab": {
          "base_uri": "https://localhost:8080/"
        },
        "id": "dgbglP2rjCcO",
        "outputId": "40fe4dc6-b8c2-4d33-c25d-b5a4eaeeafce"
      },
      "execution_count": null,
      "outputs": [
        {
          "output_type": "stream",
          "name": "stdout",
          "text": [
            "Looking in indexes: https://pypi.org/simple, https://us-python.pkg.dev/colab-wheels/public/simple/\n",
            "Collecting deap\n",
            "  Downloading deap-1.3.3-cp39-cp39-manylinux_2_5_x86_64.manylinux1_x86_64.manylinux_2_17_x86_64.manylinux2014_x86_64.whl (139 kB)\n",
            "\u001b[2K     \u001b[90m━━━━━━━━━━━━━━━━━━━━━━━━━━━━━━━━━━━━━━━\u001b[0m \u001b[32m139.8/139.8 kB\u001b[0m \u001b[31m3.3 MB/s\u001b[0m eta \u001b[36m0:00:00\u001b[0m\n",
            "\u001b[?25hRequirement already satisfied: numpy in /usr/local/lib/python3.9/dist-packages (from deap) (1.22.4)\n",
            "Installing collected packages: deap\n",
            "Successfully installed deap-1.3.3\n"
          ]
        }
      ]
    },
    {
      "cell_type": "markdown",
      "source": [
        "## Questão 1"
      ],
      "metadata": {
        "id": "4FzLl4Awi9pX"
      }
    },
    {
      "cell_type": "code",
      "source": [
        "# dados de entrada\n",
        "x = np.array([-1.0, -0.7, -0.4, -0.1, 0.2, 0.5, 0.8, 1.0])\n",
        "y = np.array([36.547, 17.264, 8.155, 3.852, 1.820, 0.860, 0.406, 0.246])"
      ],
      "metadata": {
        "id": "txCinwfyjV1V"
      },
      "execution_count": null,
      "outputs": []
    },
    {
      "cell_type": "code",
      "source": [
        "# função objetivo\n",
        "def objective_function(individual):\n",
        "  a = individual[0]\n",
        "  b = individual[1]\n",
        "  z = a*np.e**(b*x)\n",
        "  return np.linalg.norm(z-y),"
      ],
      "metadata": {
        "id": "CUBUxV7hecvj"
      },
      "execution_count": null,
      "outputs": []
    },
    {
      "cell_type": "code",
      "source": [
        "# Tipos da fitness e indivíduos\n",
        "creator.create('FitnessMin', base.Fitness, weights=(-1.0,))\n",
        "creator.create('Individual', list, fitness=creator.FitnessMin)"
      ],
      "metadata": {
        "id": "a9WG6mIog_eb"
      },
      "execution_count": null,
      "outputs": []
    },
    {
      "cell_type": "code",
      "source": [
        "toolbox = base.Toolbox()\n",
        "\n",
        "# gerador da variável de decisão\n",
        "toolbox.register('attr_real', random.gauss, 0, 10)\n",
        "\n",
        "# Inicializar individuo e população\n",
        "# initRepeat(container, func, n)\n",
        "toolbox.register('individual', tools.initRepeat, creator.Individual, toolbox.attr_real, 2)  \n",
        "\n",
        "# População\n",
        "toolbox.register('population', tools.initRepeat, list, toolbox.individual)"
      ],
      "metadata": {
        "id": "B6LWnQ8xiomP"
      },
      "execution_count": null,
      "outputs": []
    },
    {
      "cell_type": "code",
      "source": [
        "# Operadores\n",
        "toolbox.register('evaluate', objective_function)\n",
        "toolbox.register('mate', tools.cxBlend, alpha=0)\n",
        "toolbox.register('mutate', tools.mutGaussian, mu=0, sigma=1, indpb=0.05)\n",
        "toolbox.register('select', tools.selTournament, tournsize=3)"
      ],
      "metadata": {
        "id": "WJ25o671lgR2"
      },
      "execution_count": null,
      "outputs": []
    },
    {
      "cell_type": "code",
      "source": [
        "pop = toolbox.population(n=100)\n",
        "hof = tools.HallOfFame(1)  # melhor de todo o processo\n",
        "stats = tools.Statistics(lambda ind:ind.fitness.values)\n",
        "stats.register('avg', np.mean)\n",
        "stats.register('std', np.std)\n",
        "stats.register('min', np.min)\n",
        "stats.register('max', np.max)"
      ],
      "metadata": {
        "id": "Gx-4OfsPpBd0"
      },
      "execution_count": null,
      "outputs": []
    },
    {
      "cell_type": "code",
      "source": [
        "pop, log = algorithms.eaSimple(pop, toolbox, cxpb=0.5, mutpb=0.1, ngen=50, \n",
        "                                stats=stats, halloffame=hof, verbose=True)"
      ],
      "metadata": {
        "colab": {
          "base_uri": "https://localhost:8080/"
        },
        "id": "K2ZAmqtzrppp",
        "outputId": "d43ca286-b68b-4744-b40b-4a0ba5b6437b"
      },
      "execution_count": null,
      "outputs": [
        {
          "output_type": "stream",
          "name": "stdout",
          "text": [
            "gen\tnevals\tavg        \tstd        \tmin    \tmax        \n",
            "0  \t100   \t8.19534e+09\t8.03553e+10\t11.3321\t8.07679e+11\n",
            "1  \t51    \t21706.4    \t83085.7    \t11.3321\t613972     \n",
            "2  \t57    \t47.0063    \t35.6401    \t10.3846\t211.959    \n",
            "3  \t49    \t29.29      \t22.3291    \t7.16942\t182.679    \n",
            "4  \t61    \t17.0018    \t7.68529    \t5.5176 \t41.2647    \n",
            "5  \t58    \t11.8562    \t5.42969    \t3.82762\t49.1388    \n",
            "6  \t45    \t9.01371    \t3.05252    \t3.82762\t30.3653    \n",
            "7  \t64    \t6.96583    \t1.76394    \t4.70539\t15.1678    \n",
            "8  \t57    \t5.85321    \t1.84054    \t4.70539\t23.623     \n",
            "9  \t51    \t5.59602    \t2.14764    \t4.70539\t26.9139    \n",
            "10 \t47    \t5.27107    \t0.0987781  \t4.70539\t5.56891    \n",
            "11 \t65    \t5.18435    \t0.122779   \t4.70539\t5.39965    \n",
            "12 \t50    \t5.40683    \t2.04246    \t4.68772\t24.789     \n",
            "13 \t56    \t4.99599    \t0.184529   \t4.68772\t5.23065    \n",
            "14 \t62    \t4.95665    \t1.06913    \t4.65784\t15.4924    \n",
            "15 \t56    \t4.72805    \t0.0721683  \t4.57508\t5.05119    \n",
            "16 \t51    \t4.67243    \t0.0378413  \t4.55682\t4.73151    \n",
            "17 \t50    \t4.64481    \t0.0404671  \t4.55298\t4.70539    \n",
            "18 \t59    \t4.601      \t0.0308002  \t4.54964\t4.67312    \n",
            "19 \t55    \t4.7802     \t1.39902    \t4.54964\t17.9804    \n",
            "20 \t55    \t4.55866    \t0.00669614 \t4.54531\t4.5836     \n",
            "21 \t53    \t4.55287    \t0.00406127 \t4.54531\t4.56306    \n",
            "22 \t56    \t4.59733    \t0.411721   \t4.54265\t8.63503    \n",
            "23 \t71    \t4.61949    \t0.715089   \t4.54265\t11.7345    \n",
            "24 \t55    \t4.57684    \t0.308054   \t4.53867\t7.64188    \n",
            "25 \t50    \t4.56701    \t0.227129   \t4.53867\t6.82686    \n",
            "26 \t56    \t8.44687    \t38.8435    \t4.53867\t394.935    \n",
            "27 \t55    \t4.76       \t2.11556    \t4.53856\t25.8019    \n",
            "28 \t60    \t6.96324    \t24.1066    \t4.53856\t246.821    \n",
            "29 \t55    \t4.86084    \t3.19975    \t4.5381 \t36.6979    \n",
            "30 \t47    \t4.89776    \t3.4547     \t4.5381 \t39.2512    \n",
            "31 \t61    \t4.57239    \t0.336736   \t4.53815\t7.92287    \n",
            "32 \t48    \t4.73867    \t1.65301    \t4.53811\t20.7455    \n",
            "33 \t44    \t4.59712    \t0.413374   \t4.53809\t7.71485    \n",
            "34 \t58    \t4.54961    \t0.113602   \t4.53804\t5.67994    \n",
            "35 \t63    \t4.86743    \t3.03069    \t4.53804\t34.9166    \n",
            "36 \t46    \t4.75625    \t1.32073    \t4.53804\t15.4906    \n",
            "37 \t62    \t4.72186    \t1.82853    \t4.53803\t22.9155    \n",
            "38 \t45    \t4.53807    \t1.89073e-05\t4.53799\t4.53815    \n",
            "39 \t52    \t4.73676    \t1.97716    \t4.53801\t24.4093    \n",
            "40 \t49    \t4.59146    \t0.531507   \t4.53801\t9.87989    \n",
            "41 \t47    \t4.53921    \t0.0116315  \t4.53801\t4.65494    \n",
            "42 \t58    \t4.57381    \t0.355966   \t4.538  \t8.11562    \n",
            "43 \t59    \t4.58272    \t0.336487   \t4.53799\t7.64824    \n",
            "44 \t59    \t5.18715    \t5.07664    \t4.538  \t53.0022    \n",
            "45 \t55    \t4.53801    \t4.13863e-06\t4.538  \t4.53802    \n",
            "46 \t54    \t4.59477    \t0.56478    \t4.538  \t10.2143    \n",
            "47 \t60    \t4.93201    \t3.92032    \t4.538  \t43.9387    \n",
            "48 \t54    \t4.538      \t1.81003e-06\t4.538  \t4.538      \n",
            "49 \t49    \t4.81124    \t2.68785    \t4.538  \t31.5533    \n",
            "50 \t54    \t4.62225    \t0.838297   \t4.538  \t12.9632    \n"
          ]
        }
      ]
    },
    {
      "cell_type": "code",
      "source": [
        "# Melhor solução\n",
        "print('Melhor indivíduo:', hof[0])"
      ],
      "metadata": {
        "colab": {
          "base_uri": "https://localhost:8080/"
        },
        "id": "3tCwT9gjtSzc",
        "outputId": "d5590a82-25d4-4b5f-ecd4-1c9a7f51c4c2"
      },
      "execution_count": null,
      "outputs": [
        {
          "output_type": "stream",
          "name": "stdout",
          "text": [
            "Melhor indivíduo: [4.531925973330648, -2.0682364106873092]\n"
          ]
        }
      ]
    },
    {
      "cell_type": "code",
      "source": [
        "# Resultado da fo do mlehor indivíduo:\n",
        "print('Melhor F.O.:', objective_function(hof[0]))"
      ],
      "metadata": {
        "colab": {
          "base_uri": "https://localhost:8080/"
        },
        "id": "iXIbSm9WukOu",
        "outputId": "1f55b2b5-beab-4ad9-cfe0-aff1f03665a8"
      },
      "execution_count": null,
      "outputs": [
        {
          "output_type": "stream",
          "name": "stdout",
          "text": [
            "Melhor F.O.: (3.827621821321985,)\n"
          ]
        }
      ]
    },
    {
      "cell_type": "code",
      "source": [
        "X = np.linspace(-1,1,100)\n",
        "plt.figure(figsize=(5,2))\n",
        "plt.plot(X, hof[0][0]*np.e**(hof[0][1]*X))\n",
        "plt.scatter(x, y, color='red')  # melhor\n",
        "plt.xlabel('x')\n",
        "plt.ylabel('y')\n",
        "plt.show()"
      ],
      "metadata": {
        "colab": {
          "base_uri": "https://localhost:8080/",
          "height": 234
        },
        "id": "30OnTARwz0hh",
        "outputId": "4ba5b3de-32f0-49dd-d2cd-994f11ec5520"
      },
      "execution_count": null,
      "outputs": [
        {
          "output_type": "display_data",
          "data": {
            "text/plain": [
              "<Figure size 500x200 with 1 Axes>"
            ],
            "image/png": "[encoded data removed]"
          },
          "metadata": {}
        }
      ]
    },
    {
      "cell_type": "markdown",
      "source": [
        "## Questão 2"
      ],
      "metadata": {
        "id": "GGTl3jr4pJxU"
      }
    },
    {
      "cell_type": "code",
      "source": [
        "# função objetivo\n",
        "def objective_function(individual):\n",
        "  return 3*individual[0]+5*individual[1],\n",
        "\n",
        "def feasible(individual):\n",
        "  if individual[0] > 4:\n",
        "    return False\n",
        "  if individual[1] > 6:\n",
        "    return False\n",
        "  if individual[0] < 0:\n",
        "    return False\n",
        "  if individual[1] < 0:\n",
        "    return False\n",
        "  if 3*individual[0] + 2*individual[1] > 18:\n",
        "    return False\n",
        "  return True\n",
        "\n",
        "def distance(individual):\n",
        "  value = 0\n",
        "  if individual[0] > 4:\n",
        "    value += individual[0] - 4\n",
        "  if individual[1] > 6:\n",
        "    value += individual[1] - 6\n",
        "  if individual[0] < 0:\n",
        "    value += -individual[0]\n",
        "  if individual[1] < 0:\n",
        "    value += -individual[1]\n",
        "  if 3*individual[0] + 2*individual[1] > 18:\n",
        "    value += 3*individual[0] + 2*individual[1] - 18\n",
        "  return value"
      ],
      "metadata": {
        "id": "lM6GQfM0pJxZ"
      },
      "execution_count": null,
      "outputs": []
    },
    {
      "cell_type": "code",
      "source": [
        "# Tipos da fitness e indivíduos\n",
        "creator.create('FitnessMax', base.Fitness, weights=(1.0,))\n",
        "creator.create('Individual', list, fitness=creator.FitnessMax)"
      ],
      "metadata": {
        "colab": {
          "base_uri": "https://localhost:8080/"
        },
        "id": "sGaYLmAKpJxa",
        "outputId": "88ef543f-8444-46da-a8b5-2869c1aa7b04"
      },
      "execution_count": null,
      "outputs": [
        {
          "output_type": "stream",
          "name": "stderr",
          "text": [
            "/usr/local/lib/python3.9/dist-packages/deap/creator.py:138: RuntimeWarning: A class named 'FitnessMax' has already been created and it will be overwritten. Consider deleting previous creation of that class or rename it.\n",
            "  warnings.warn(\"A class named '{0}' has already been created and it \"\n",
            "/usr/local/lib/python3.9/dist-packages/deap/creator.py:138: RuntimeWarning: A class named 'Individual' has already been created and it will be overwritten. Consider deleting previous creation of that class or rename it.\n",
            "  warnings.warn(\"A class named '{0}' has already been created and it \"\n"
          ]
        }
      ]
    },
    {
      "cell_type": "code",
      "source": [
        "toolbox = base.Toolbox()\n",
        "\n",
        "# gerador da variável de decisão\n",
        "toolbox.register('attr_real1', random.uniform, 0, 4)\n",
        "toolbox.register('attr_real2', random.uniform, 0, 6)\n",
        "\n",
        "# Inicializar individuo e população\n",
        "toolbox.register('individual', tools.initCycle, creator.Individual, (toolbox.attr_real1, toolbox.attr_real2), 1)  \n",
        "\n",
        "# População\n",
        "toolbox.register('population', tools.initRepeat, list, toolbox.individual)"
      ],
      "metadata": {
        "id": "yolN4SInpJxa"
      },
      "execution_count": null,
      "outputs": []
    },
    {
      "cell_type": "code",
      "source": [
        "# Operadores\n",
        "toolbox.register('evaluate', objective_function)\n",
        "toolbox.decorate(\"evaluate\", tools.DeltaPenalty(feasible, 100, distance))\n",
        "toolbox.register('mate', tools.cxBlend, alpha=0)\n",
        "toolbox.register('mutate', tools.mutGaussian, mu=0, sigma=1, indpb=0.05)\n",
        "toolbox.register('select', tools.selTournament, tournsize=3)"
      ],
      "metadata": {
        "id": "rTTGjeDgpJxa"
      },
      "execution_count": null,
      "outputs": []
    },
    {
      "cell_type": "code",
      "source": [
        "pop = toolbox.population(n=100)\n",
        "hof = tools.HallOfFame(1)  # melhor de todo o processo\n",
        "stats = tools.Statistics(lambda ind:ind.fitness.values)\n",
        "stats.register('avg', np.mean)\n",
        "stats.register('std', np.std)\n",
        "stats.register('min', np.min)\n",
        "stats.register('max', np.max)"
      ],
      "metadata": {
        "id": "oZqy9wZipJxa"
      },
      "execution_count": null,
      "outputs": []
    },
    {
      "cell_type": "code",
      "source": [
        "pop, log = algorithms.eaSimple(pop, toolbox, cxpb=0.5, mutpb=0.1, ngen=50, \n",
        "                                stats=stats, halloffame=hof, verbose=True)"
      ],
      "metadata": {
        "colab": {
          "base_uri": "https://localhost:8080/"
        },
        "outputId": "d9e8b19a-76ed-4408-b94e-21af8fe60bb4",
        "id": "dtEXnF8YpJxa"
      },
      "execution_count": null,
      "outputs": [
        {
          "output_type": "stream",
          "name": "stdout",
          "text": [
            "gen\tnevals\tavg    \tstd    \tmin    \tmax    \n",
            "0  \t100   \t26.3749\t25.4107\t1.27811\t99.9948\n",
            "1  \t56    \t43.1345\t30.9808\t9.51499\t99.9948\n",
            "2  \t52    \t57.9572\t33.6916\t23.7067\t99.9948\n",
            "3  \t53    \t83.3771\t28.9955\t27.5607\t99.9948\n",
            "4  \t55    \t93.8981\t19.2421\t21.5078\t99.9948\n",
            "5  \t51    \t88.4113\t25.9863\t27.0183\t99.9948\n",
            "6  \t62    \t87.7899\t26.6265\t25.7191\t99.9981\n",
            "7  \t57    \t94.2663\t18.9967\t28.3119\t99.9984\n",
            "8  \t63    \t99.276 \t7.10973\t28.5363\t99.9969\n",
            "9  \t59    \t99.9603\t0.243983\t98.1145\t99.9969\n",
            "10 \t62    \t99.9953\t0.000724488\t99.9947\t99.997 \n",
            "11 \t54    \t99.996 \t0.000748373\t99.9948\t99.997 \n",
            "12 \t50    \t99.9965\t0.000961405\t99.9878\t99.997 \n",
            "13 \t66    \t99.9969\t0.00012825 \t99.9962\t99.9971\n",
            "14 \t73    \t99.1793\t8.13544    \t18.2327\t99.9971\n",
            "15 \t51    \t99.997 \t3.89869e-05\t99.9969\t99.9971\n",
            "16 \t49    \t99.9971\t2.69067e-05\t99.997 \t99.9971\n",
            "17 \t58    \t99.9971\t1.74555e-05\t99.997 \t99.9971\n",
            "18 \t51    \t99.9753\t0.21685    \t97.8177\t99.9971\n",
            "19 \t57    \t99.9827\t0.143546   \t98.5544\t99.9971\n",
            "20 \t46    \t99.9971\t4.78854e-06\t99.9971\t99.9971\n",
            "21 \t62    \t97.7728\t12.65      \t24.5594\t99.9971\n",
            "22 \t55    \t99.9971\t2.76906e-06\t99.9971\t99.9971\n",
            "23 \t49    \t99.2741\t7.19399    \t27.6948\t99.9971\n",
            "24 \t62    \t99.9609\t0.36047    \t96.3743\t99.9971\n",
            "25 \t53    \t99.9971\t1.32114e-06\t99.9971\t99.9971\n",
            "26 \t58    \t99.9794\t0.17617    \t98.2265\t99.9971\n",
            "27 \t54    \t99.9971\t3.9265e-07 \t99.9971\t99.9971\n",
            "28 \t47    \t99.9971\t1.9745e-07 \t99.9971\t99.9971\n",
            "29 \t52    \t99.9971\t9.92581e-08\t99.9971\t99.9971\n",
            "30 \t45    \t99.2545\t7.38927    \t25.7322\t99.9971\n",
            "31 \t44    \t99.2649\t7.28583    \t26.7718\t99.9971\n",
            "32 \t52    \t99.2404\t7.33222    \t26.3123\t99.9971\n",
            "33 \t62    \t99.272 \t7.21477    \t27.486 \t99.9971\n",
            "34 \t66    \t99.2562\t7.10995    \t28.562 \t99.9971\n",
            "35 \t48    \t99.9971\t2.07981e-08\t99.9971\t99.9971\n",
            "36 \t54    \t98.4976\t10.4065    \t25.5789\t99.9971\n",
            "37 \t58    \t99.2515\t7.41927    \t25.4307\t99.9971\n",
            "38 \t56    \t99.9833\t0.137032   \t98.6199\t99.9971\n",
            "39 \t48    \t99.9971\t4.77485e-09\t99.9971\t99.9971\n",
            "40 \t64    \t99.9971\t2.45629e-09\t99.9971\t99.9971\n",
            "41 \t52    \t99.9826\t0.144132   \t98.5485\t99.9971\n",
            "42 \t61    \t99.2409\t7.52444    \t24.3737\t99.9971\n",
            "43 \t51    \t99.9971\t3.92065e-10\t99.9971\t99.9971\n",
            "44 \t53    \t99.9971\t1.82336e-10\t99.9971\t99.9971\n",
            "45 \t65    \t99.9971\t1.0468e-10 \t99.9971\t99.9971\n",
            "46 \t54    \t99.9971\t5.59908e-11\t99.9971\t99.9971\n",
            "47 \t56    \t99.9392\t0.40907    \t96.706 \t99.9971\n",
            "48 \t50    \t99.9971\t3.98553e-11\t99.9971\t99.9971\n",
            "49 \t58    \t99.2191\t7.41383    \t25.5261\t99.9971\n",
            "50 \t58    \t99.997 \t0.000793951\t99.9891\t99.9971\n"
          ]
        }
      ]
    },
    {
      "cell_type": "code",
      "source": [
        "# Melhor solução\n",
        "print('Melhor indivíduo:', hof[0])"
      ],
      "metadata": {
        "colab": {
          "base_uri": "https://localhost:8080/"
        },
        "outputId": "8e1ce125-762b-4d09-f677-be5f20f2181e",
        "id": "EjAJeVFrpJxa"
      },
      "execution_count": null,
      "outputs": [
        {
          "output_type": "stream",
          "name": "stdout",
          "text": [
            "Melhor indivíduo: [3.5500351865837727, 3.67573438824599]\n"
          ]
        }
      ]
    },
    {
      "cell_type": "code",
      "source": [
        "# Resultado da fo do mlehor indivíduo:\n",
        "print('Melhor F.O.:', objective_function(hof[0]))"
      ],
      "metadata": {
        "colab": {
          "base_uri": "https://localhost:8080/"
        },
        "outputId": "ed36d4f5-0072-49ea-8651-65bd04f4b255",
        "id": "aw9CcLe_pJxa"
      },
      "execution_count": null,
      "outputs": [
        {
          "output_type": "stream",
          "name": "stdout",
          "text": [
            "Melhor F.O.: (29.028777500981267,)\n"
          ]
        }
      ]
    },
    {
      "cell_type": "code",
      "source": [
        "coord = [[0,0], [4,0], [4,3], [2,6], [0,6]]\n",
        "coord.append(coord[0]) #repeat the first point to create a 'closed loop'\n",
        "\n",
        "xs, ys = zip(*coord) #create lists of x and y values\n",
        "plt.figure()\n",
        "plt.plot(xs,ys) \n",
        "plt.scatter(hof[0][0], hof[0][1], color='red')  # melhor\n",
        "plt.show() # if you need..."
      ],
      "metadata": {
        "colab": {
          "base_uri": "https://localhost:8080/",
          "height": 430
        },
        "id": "e-9jt9nQjP5I",
        "outputId": "eef75b60-c7ed-4208-fd39-fb452a515212"
      },
      "execution_count": null,
      "outputs": [
        {
          "output_type": "display_data",
          "data": {
            "text/plain": [
              "<Figure size 640x480 with 1 Axes>"
            ],
            "image/png": "[encoded data removed]"
          },
          "metadata": {}
        }
      ]
    },
    {
      "cell_type": "markdown",
      "source": [
        "## Questão 3"
      ],
      "metadata": {
        "id": "co4mDopdsH1H"
      }
    },
    {
      "cell_type": "code",
      "source": [
        "# dados de entrada\n",
        "x = np.array([-5.0, 2, 10])\n",
        "y = np.array([10, 1, 5])"
      ],
      "metadata": {
        "id": "L9Zxbea8sPMr"
      },
      "execution_count": null,
      "outputs": []
    },
    {
      "cell_type": "code",
      "source": [
        "# função objetivo\n",
        "def objective_function(individual):\n",
        "  obj = 0\n",
        "  for i in range(len(x)):\n",
        "    obj += np.sqrt((x[i]-individual[0])**2 + (y[i]-individual[1])**2)\n",
        "  return obj,\n",
        "\n",
        "def feasible(individual):\n",
        "  for i in range(len(x)):\n",
        "    if (x[i]-individual[0])**2 + (y[i]-individual[1])**2 > 100:\n",
        "      return False\n",
        "  return True"
      ],
      "metadata": {
        "id": "Uqtj8SsDsH1M"
      },
      "execution_count": null,
      "outputs": []
    },
    {
      "cell_type": "code",
      "source": [
        "# Tipos da fitness e indivíduos\n",
        "creator.create('FitnessMin', base.Fitness, weights=(-1.0,))\n",
        "creator.create('Individual', list, fitness=creator.FitnessMin)"
      ],
      "metadata": {
        "colab": {
          "base_uri": "https://localhost:8080/"
        },
        "outputId": "d4314981-fa66-43a0-fc0d-84d5f21ebc69",
        "id": "ix0s6yMEsH1M"
      },
      "execution_count": null,
      "outputs": [
        {
          "output_type": "stream",
          "name": "stderr",
          "text": [
            "/usr/local/lib/python3.9/dist-packages/deap/creator.py:138: RuntimeWarning: A class named 'FitnessMin' has already been created and it will be overwritten. Consider deleting previous creation of that class or rename it.\n",
            "  warnings.warn(\"A class named '{0}' has already been created and it \"\n"
          ]
        }
      ]
    },
    {
      "cell_type": "code",
      "source": [
        "toolbox = base.Toolbox()\n",
        "\n",
        "# gerador da variável de decisão\n",
        "toolbox.register('attr_real1', random.uniform, -5, 10)\n",
        "toolbox.register('attr_real2', random.uniform, 1, 10)\n",
        "\n",
        "# Inicializar individuo e população\n",
        "toolbox.register('individual', tools.initCycle, creator.Individual, (toolbox.attr_real1, toolbox.attr_real2), 1)  \n",
        "\n",
        "# População\n",
        "toolbox.register('population', tools.initRepeat, list, toolbox.individual)"
      ],
      "metadata": {
        "id": "n-Rh9-HzsH1N"
      },
      "execution_count": null,
      "outputs": []
    },
    {
      "cell_type": "code",
      "source": [
        "# Operadores\n",
        "toolbox.register('evaluate', objective_function)\n",
        "toolbox.decorate(\"evaluate\", tools.DeltaPenalty(feasible, sys.maxsize))\n",
        "toolbox.register('mate', tools.cxBlend, alpha=0)\n",
        "toolbox.register('mutate', tools.mutGaussian, mu=0, sigma=1, indpb=0.05)\n",
        "toolbox.register('select', tools.selTournament, tournsize=3)"
      ],
      "metadata": {
        "id": "FLYHBTXJsH1N"
      },
      "execution_count": null,
      "outputs": []
    },
    {
      "cell_type": "code",
      "source": [
        "pop = toolbox.population(n=100)\n",
        "hof = tools.HallOfFame(1)  # melhor de todo o processo\n",
        "stats = tools.Statistics(lambda ind:ind.fitness.values)\n",
        "stats.register('avg', np.mean)\n",
        "stats.register('std', np.std)\n",
        "stats.register('min', np.min)\n",
        "stats.register('max', np.max)"
      ],
      "metadata": {
        "id": "EBIB4ssxsH1N"
      },
      "execution_count": null,
      "outputs": []
    },
    {
      "cell_type": "code",
      "source": [
        "pop, log = algorithms.eaSimple(pop, toolbox, cxpb=0.5, mutpb=0.1, ngen=50, \n",
        "                                stats=stats, halloffame=hof, verbose=True)"
      ],
      "metadata": {
        "colab": {
          "base_uri": "https://localhost:8080/"
        },
        "outputId": "3382f05d-2c63-4525-a9ac-3b5d9f2e7090",
        "id": "rqlGRZB1sH1N"
      },
      "execution_count": null,
      "outputs": [
        {
          "output_type": "stream",
          "name": "stdout",
          "text": [
            "gen\tnevals\tavg        \tstd        \tmin    \tmax        \n",
            "0  \t100   \t6.54859e+18\t4.18522e+18\t20.1072\t9.22337e+18\n",
            "1  \t64    \t2.85925e+18\t4.26575e+18\t20.3085\t9.22337e+18\n",
            "2  \t61    \t1.84467e+17\t1.29127e+18\t20.3085\t9.22337e+18\n",
            "3  \t45    \t9.22337e+16\t9.17714e+17\t20.3085\t9.22337e+18\n",
            "4  \t57    \t20.5619    \t0.199859   \t20.2187\t21.3792    \n",
            "5  \t61    \t9.22337e+16\t9.17714e+17\t20.1606\t9.22337e+18\n",
            "6  \t57    \t20.3196    \t0.0722075  \t20.144 \t20.4862    \n",
            "7  \t59    \t20.2474    \t0.0608026  \t20.1134\t20.3507    \n",
            "8  \t55    \t1.84467e+17\t1.29127e+18\t20.1126\t9.22337e+18\n",
            "9  \t58    \t9.22337e+16\t9.17714e+17\t20.1088\t9.22337e+18\n",
            "10 \t45    \t20.1419    \t0.0291419  \t20.1065\t20.3672    \n",
            "11 \t73    \t4.61169e+17\t2.01019e+18\t20.1049\t9.22337e+18\n",
            "12 \t55    \t2.76701e+17\t1.57339e+18\t20.1038\t9.22337e+18\n",
            "13 \t60    \t4.61169e+17\t2.01019e+18\t20.102 \t9.22337e+18\n",
            "14 \t53    \t1.84467e+17\t1.29127e+18\t20.1015\t9.22337e+18\n",
            "15 \t57    \t4.61169e+17\t2.01019e+18\t20.1015\t9.22337e+18\n",
            "16 \t58    \t6.45636e+17\t2.35332e+18\t20.1014\t9.22337e+18\n",
            "17 \t49    \t2.76701e+17\t1.57339e+18\t20.1014\t9.22337e+18\n",
            "18 \t61    \t1.1068e+18 \t2.99724e+18\t20.1014\t9.22337e+18\n",
            "19 \t56    \t5.53402e+17\t2.19043e+18\t20.1013\t9.22337e+18\n",
            "20 \t55    \t3.68935e+17\t1.8074e+18 \t20.1013\t9.22337e+18\n",
            "21 \t46    \t5.53402e+17\t2.19043e+18\t20.1013\t9.22337e+18\n",
            "22 \t48    \t1.1068e+18 \t2.99724e+18\t20.1013\t9.22337e+18\n",
            "23 \t48    \t8.30103e+17\t2.63956e+18\t20.1013\t9.22337e+18\n",
            "24 \t59    \t8.30103e+17\t2.63956e+18\t20.1013\t9.22337e+18\n",
            "25 \t57    \t1.84467e+17\t1.29127e+18\t20.1013\t9.22337e+18\n",
            "26 \t43    \t2.76701e+17\t1.57339e+18\t20.1013\t9.22337e+18\n",
            "27 \t52    \t9.22337e+16\t9.17714e+17\t20.1013\t9.22337e+18\n",
            "28 \t58    \t9.22337e+16\t9.17714e+17\t20.1013\t9.22337e+18\n",
            "29 \t60    \t20.1013    \t1.40267e-06\t20.1013\t20.1013    \n",
            "30 \t46    \t9.22337e+16\t9.17714e+17\t20.1013\t9.22337e+18\n",
            "31 \t48    \t20.1013    \t6.4817e-07 \t20.1013\t20.1013    \n",
            "32 \t63    \t9.22337e+16\t9.17714e+17\t20.1013\t9.22337e+18\n",
            "33 \t57    \t20.1055    \t0.0209832  \t20.1013\t20.218     \n",
            "34 \t59    \t20.1013    \t1.54354e-07\t20.1013\t20.1013    \n",
            "35 \t54    \t20.1088    \t0.0753243  \t20.1013\t20.8583    \n",
            "36 \t55    \t20.1083    \t0.070157   \t20.1013\t20.8064    \n",
            "37 \t56    \t20.1013    \t1.50433e-05\t20.1013\t20.1014    \n",
            "38 \t62    \t1.84467e+17\t1.29127e+18\t20.1012\t9.22337e+18\n",
            "39 \t55    \t20.1013    \t3.55033e-08\t20.1013\t20.1013    \n",
            "40 \t53    \t20.1013    \t3.16788e-08\t20.1013\t20.1013    \n",
            "41 \t66    \t20.1013    \t2.1719e-08 \t20.1013\t20.1013    \n",
            "42 \t57    \t20.1013    \t1.42901e-08\t20.1013\t20.1013    \n",
            "43 \t61    \t9.22337e+16\t9.17714e+17\t20.1013\t9.22337e+18\n",
            "44 \t62    \t9.22337e+16\t9.17714e+17\t20.1013\t9.22337e+18\n",
            "45 \t47    \t20.1013    \t5.81236e-09\t20.1013\t20.1013    \n",
            "46 \t70    \t9.22337e+16\t9.17714e+17\t20.1013\t9.22337e+18\n",
            "47 \t57    \t9.22337e+16\t9.17714e+17\t20.1013\t9.22337e+18\n",
            "48 \t56    \t20.1013    \t1.82729e-09\t20.1013\t20.1013    \n",
            "49 \t61    \t9.22337e+16\t9.17714e+17\t20.1013\t9.22337e+18\n",
            "50 \t65    \t20.1015    \t0.00220358 \t20.1013\t20.1234    \n"
          ]
        }
      ]
    },
    {
      "cell_type": "code",
      "source": [
        "# Melhor solução\n",
        "print('Melhor indivíduo:', hof[0])"
      ],
      "metadata": {
        "colab": {
          "base_uri": "https://localhost:8080/"
        },
        "outputId": "7f19fb58-2591-4cbe-d635-615ae3eed980",
        "id": "CF1Su6YOsH1N"
      },
      "execution_count": null,
      "outputs": [
        {
          "output_type": "stream",
          "name": "stdout",
          "text": [
            "Melhor indivíduo: [2.3459276207078483, 3.2150023671014094]\n"
          ]
        }
      ]
    },
    {
      "cell_type": "code",
      "source": [
        "# Resultado da fo do mlehor indivíduo:\n",
        "print('Melhor F.O.:', objective_function(hof[0]))"
      ],
      "metadata": {
        "colab": {
          "base_uri": "https://localhost:8080/"
        },
        "outputId": "be92d12a-6c37-47fa-da28-3dbd9af56e4e",
        "id": "iqqpcMAHsH1N"
      },
      "execution_count": null,
      "outputs": [
        {
          "output_type": "stream",
          "name": "stdout",
          "text": [
            "Melhor F.O.: (20.101249986624083,)\n"
          ]
        }
      ]
    },
    {
      "cell_type": "code",
      "source": [
        "theta = np.linspace(0, 2*np.pi, 150)\n",
        " \n",
        "radius = 10\n",
        " \n",
        "a = radius * np.cos( theta ) + hof[0][0]\n",
        "b = radius * np.sin( theta ) + hof[0][1]\n",
        "\n",
        "plt.figure(figsize=(5,5))\n",
        "plt.plot(a, b, color='blue')\n",
        "plt.scatter(x, y, color='red')\n",
        "plt.xlabel('x')\n",
        "plt.ylabel('y')\n",
        "plt.show()"
      ],
      "metadata": {
        "colab": {
          "base_uri": "https://localhost:8080/",
          "height": 465
        },
        "id": "Z_CyWpwIuXg1",
        "outputId": "e53c504e-49a9-4298-a47b-27fe0a1d404b"
      },
      "execution_count": null,
      "outputs": [
        {
          "output_type": "display_data",
          "data": {
            "text/plain": [
              "<Figure size 500x500 with 1 Axes>"
            ],
            "image/png": "[encoded data removed]"
          },
          "metadata": {}
        }
      ]
    }
  ]
}