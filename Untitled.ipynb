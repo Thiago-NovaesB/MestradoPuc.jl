{
 "cells": [
  {
   "cell_type": "markdown",
   "id": "bd0257e4",
   "metadata": {},
   "source": [
    "A implementação foi desenvolvida no repositorio https://github.com/Thiago-NovaesB/UnitCommitment.jl <br>\n",
    "O arquivo principal do modulo apenas importa todos os arquivos realmente contendo a implementação, sendo eles:\n",
    "\n",
    "* utils.jl\n",
    "* types.jl\n",
    "* variables.jl\n",
    "* constraints.jl\n",
    "* model.jl"
   ]
  },
  {
   "cell_type": "markdown",
   "id": "55d4d64d",
   "metadata": {},
   "source": [
    "## utils.jl\n",
    "Possui apenas a definição da macro <b>@kwdef</b>, ela cria valores default para as structs."
   ]
  },
  {
   "cell_type": "markdown",
   "id": "c52c10bf",
   "metadata": {},
   "source": []
  },
  {
   "cell_type": "markdown",
   "id": "bc129692",
   "metadata": {},
   "source": [
    "## types.jl\n",
    "Possui a definição de todas as structs usadas pelo pacote. Essas structs guardam os dados do sistema, as opções de execução, os tamanhos das coleções etc. Por exemplo a struct de opções de execução:\n",
    "```\n",
    "@kwdef mutable struct Options\n",
    "    solver::Union{DataType,Nothing} = nothing\n",
    "    use_kirchhoff::Bool\n",
    "    use_ramp::Bool\n",
    "    use_commit::Bool\n",
    "    use_up_down_time::Bool\n",
    "    use_contingency::Bool\n",
    "end\n",
    "```"
   ]
  },
  {
   "cell_type": "markdown",
   "id": "0dd52b4d",
   "metadata": {},
   "source": [
    "### variables.jl"
   ]
  },
  {
   "cell_type": "markdown",
   "id": "154e0d1e",
   "metadata": {},
   "source": [
    "### variables.jl\n",
    "Este arquivo possui uma função para cada variavel que o modelo pode ter. Cada função é responsavel por verificar as opções e dados para criar corretamente as variaveis. Por exemplo, a função abaixo é a responsavel por criar os angulos nas barras, para isso ela checa se a segunda lei de kirchhoff està ativa:\n",
    "\n",
    "```\n",
    "function add_theta!(prb::Problem)\n",
    "    model = prb.model\n",
    "    size = prb.size\n",
    "    options = prb.options\n",
    "    if options.use_kirchhoff\n",
    "        @variable(model, theta[1:size.bus, 1:size.stages])\n",
    "    end\n",
    "end\n",
    "```"
   ]
  },
  {
   "cell_type": "markdown",
   "id": "5d79554c",
   "metadata": {},
   "source": []
  },
  {
   "cell_type": "markdown",
   "id": "7041eb0c",
   "metadata": {},
   "source": [
    "### constraints.jl\n",
    "Este arquivo possui uma função para cada restrição que o modelo pode ter. Cada função é responsavel por verificar as opções e dados para criar corretamente as restrições. Por exemplo, a função abaixo é a responsavel por criar a segunda lei de kirchhoff pos contigência, para isso ela checa se a segunda lei de kirchhoff està ativa e se contingências estão ativas:\n",
    "```\n",
    "function add_KVL_pos!(prb::Problem)\n",
    "    model = prb.model\n",
    "    data = prb.data\n",
    "    size = prb.size\n",
    "    options = prb.options\n",
    "\n",
    "    if options.use_contingency && options.use_kirchhoff\n",
    "        f_pos = model[:f_pos]\n",
    "        theta_pos = model[:theta_pos]\n",
    "        @constraint(model, KVL_pos[i in 1:size.circ, t in 1:size.stages, k=1:size.K], f_pos[i, t, k] == data.contingency_lin[i, k] * sum(theta_pos[j, t, k] * data.A[j, i] for j in 1:size.bus) / data.x[i])\n",
    "    end\n",
    "end\n",
    "```\n",
    "Para facilitar a obtenção das duais, a tecnica de \"pescadora de dual\" foi utilizada. Ou seja, a demanda foi inserida como uma variavel auxuliar e uma restrição que diz que a variavel auxiliar é igual a demanda também foi inserida, isolando assim o aparecimento da demanda no problema:\n",
    "\n",
    "```\n",
    "function add_DUAL_FISHER!(prb::Problem)\n",
    "    model = prb.model\n",
    "    data = prb.data\n",
    "    size = prb.size\n",
    "\n",
    "    fake_demand = model[:fake_demand]\n",
    "\n",
    "    @constraint(model, DUAL_FISHER[i=1:size.bus, t=1:size.stages], fake_demand[i,t] == data.demand[i,t])\n",
    "end\n",
    "```"
   ]
  },
  {
   "cell_type": "markdown",
   "id": "53fcd644",
   "metadata": {},
   "source": []
  },
  {
   "cell_type": "markdown",
   "id": "7d29391b",
   "metadata": {},
   "source": [
    "### model.jl\n",
    "Este arquivo possui funções como criação do modelo, definição da função objetivo e chamada do otimizador. Algumas funções adicionais foram implementadas para conseguir as variaveis duais de problemas com variaveis inteiras. Para isso, resolvemos o problema com varaiveis inteiras, fixamos as variaveis em seus valores otimos e depois resolvemos o problema sem varaiveis inteiras. As funções que possibilitam isso estão abaixo:\n",
    "\n",
    "```\n",
    "function build_model(prb::Problem)\n",
    "\n",
    "    options = prb.options\n",
    "    prb.model = Model(options.solver)\n",
    "    JuMP.MOI.set(prb.model, JuMP.MOI.Silent(), true)\n",
    "\n",
    "    add_variables!(prb)\n",
    "    add_constraints!(prb)\n",
    "    objective_function!(prb)\n",
    "    nothing\n",
    "end\n",
    "\n",
    "function rerun_model(prb::Problem)\n",
    "    model = prb.model\n",
    "\n",
    "    c = value.(model[:c])\n",
    "    @constraint(model, model[:c] .== c)\n",
    "    unset_binary.(model[:c])\n",
    "\n",
    "    solve_model(prb)\n",
    "    nothing\n",
    "end\n",
    "\n",
    "function solve_model(prb::Problem)\n",
    "\n",
    "    optimize!(prb.model)\n",
    "    nothing\n",
    "end\n",
    "```"
   ]
  },
  {
   "cell_type": "code",
   "execution_count": null,
   "id": "c0d4badb",
   "metadata": {},
   "outputs": [],
   "source": []
  }
 ],
 "metadata": {
  "kernelspec": {
   "display_name": "Julia 1.8.1",
   "language": "julia",
   "name": "julia-1.8"
  },
  "language_info": {
   "file_extension": ".jl",
   "mimetype": "application/julia",
   "name": "julia",
   "version": "1.8.1"
  }
 },
 "nbformat": 4,
 "nbformat_minor": 5
}
