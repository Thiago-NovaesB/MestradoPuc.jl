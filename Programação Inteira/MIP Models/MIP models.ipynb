{
 "cells": [
  {
   "cell_type": "markdown",
   "id": "6db3acbe",
   "metadata": {},
   "source": [
    "## Import Packages"
   ]
  },
  {
   "cell_type": "code",
   "execution_count": 2,
   "id": "283ed7a3",
   "metadata": {},
   "outputs": [],
   "source": [
    "using JuMP;\n",
    "using HiGHS;"
   ]
  },
  {
   "cell_type": "markdown",
   "id": "e7a73a50",
   "metadata": {},
   "source": [
    "## Assignment Problem"
   ]
  },
  {
   "cell_type": "code",
   "execution_count": 59,
   "id": "cd0da8cc",
   "metadata": {},
   "outputs": [
    {
     "data": {
      "text/plain": [
       "assignment (generic function with 1 method)"
      ]
     },
     "execution_count": 59,
     "metadata": {},
     "output_type": "execute_result"
    }
   ],
   "source": [
    "function assignment(c::Matrix{Float64})\n",
    "    \n",
    "    m, n = size(c)\n",
    "    \n",
    "    @assert m == n\n",
    "    \n",
    "    model = Model(HiGHS.Optimizer)\n",
    "    MOI.set(model, JuMP.MOI.Silent(), true)\n",
    "    @variable(model, x[1:n, 1:n], Bin)\n",
    "    @constraint(model,[i = 1:n], sum(x[i,:]) == 1)\n",
    "    @constraint(model,[j = 1:n], sum(x[:,j]) == 1)\n",
    "    @objective(model, Min, sum(c.*x))\n",
    "    optimize!(model)\n",
    "    \n",
    "    return model\n",
    "end"
   ]
  },
  {
   "cell_type": "markdown",
   "id": "7a51a9db",
   "metadata": {},
   "source": [
    "## Partition Problem"
   ]
  },
  {
   "cell_type": "code",
   "execution_count": 38,
   "id": "a3e83e80",
   "metadata": {},
   "outputs": [
    {
     "data": {
      "text/plain": [
       "partition (generic function with 2 methods)"
      ]
     },
     "execution_count": 38,
     "metadata": {},
     "output_type": "execute_result"
    }
   ],
   "source": [
    "function partition(S::Vector{Float64})\n",
    "    \n",
    "    n = length(S)\n",
    "    model = Model(HiGHS.Optimizer)\n",
    "    MOI.set(model, JuMP.MOI.Silent(), true)\n",
    "    @variable(model, x[1:n], Bin)\n",
    "    @constraint(model, sum(S[i]*x[i] for i in 1:n) == sum(S[i]*(1-x[i]) for i in 1:n))\n",
    "    optimize!(model)\n",
    "    return model\n",
    "end"
   ]
  },
  {
   "cell_type": "markdown",
   "id": "974481b3",
   "metadata": {},
   "source": [
    "## Knapsack Problem"
   ]
  },
  {
   "cell_type": "code",
   "execution_count": 47,
   "id": "91c34c99",
   "metadata": {},
   "outputs": [
    {
     "data": {
      "text/plain": [
       "knapsack (generic function with 1 method)"
      ]
     },
     "execution_count": 47,
     "metadata": {},
     "output_type": "execute_result"
    }
   ],
   "source": [
    "function knapsack(p::Vector{Float64}, v::Vector{Float64}, V::Float64)\n",
    "    \n",
    "    m = length(p)\n",
    "    n = length(v)\n",
    "    \n",
    "    @assert m == n\n",
    "    \n",
    "    model = Model(HiGHS.Optimizer)\n",
    "    MOI.set(model, JuMP.MOI.Silent(), true)\n",
    "    @variable(model, x[1:n], Bin)\n",
    "    @constraint(model, sum(v.*x) <= V)\n",
    "    @objective(model, Max, sum(p.*x))\n",
    "    optimize!(model)\n",
    "    \n",
    "    return model\n",
    "end"
   ]
  },
  {
   "cell_type": "markdown",
   "id": "9140f82f",
   "metadata": {},
   "source": [
    "## Travelling Salesman Problem"
   ]
  },
  {
   "cell_type": "code",
   "execution_count": 53,
   "id": "1a4fe5a1",
   "metadata": {},
   "outputs": [
    {
     "data": {
      "text/plain": [
       "travelling_salesman (generic function with 1 method)"
      ]
     },
     "execution_count": 53,
     "metadata": {},
     "output_type": "execute_result"
    }
   ],
   "source": [
    "function travelling_salesman(c::Matrix{Float64})\n",
    "    \n",
    "    m, n = size(c)\n",
    "    \n",
    "    @assert m == n\n",
    "    \n",
    "    model = Model(HiGHS.Optimizer)\n",
    "    MOI.set(model, JuMP.MOI.Silent(), true)\n",
    "    \n",
    "    \n",
    "    @variable(model, x[1:n,1:n], Bin)\n",
    "    @variable(model, u[1:n-1], Int)\n",
    "    @constraint(model, [i = 1:n-1], 1 <= u[i] <= n-1)\n",
    "    @constraint(model, [i = 1:n], sum(x[i,j] for j in 1:n) == 1)\n",
    "    @constraint(model, [j = 1:n], sum(x[i,j] for i in 1:n) == 1)\n",
    "    \n",
    "    @constraint(model, [i = 1:n-1, j = 1:n-1], u[i] - u[j] + (n-1)*x[i,j] <= n-2)\n",
    "    @objective(model, Min, sum(c.*x))\n",
    "    optimize!(model)\n",
    "    \n",
    "    return model\n",
    "end"
   ]
  }
 ],
 "metadata": {
  "kernelspec": {
   "display_name": "Julia 1.7.2",
   "language": "julia",
   "name": "julia-1.7"
  },
  "language_info": {
   "file_extension": ".jl",
   "mimetype": "application/julia",
   "name": "julia",
   "version": "1.7.2"
  }
 },
 "nbformat": 4,
 "nbformat_minor": 5
}
