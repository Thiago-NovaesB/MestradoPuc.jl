{
 "cells": [
  {
   "cell_type": "markdown",
   "id": "6db3acbe",
   "metadata": {},
   "source": [
    "## Import Packages"
   ]
  },
  {
   "cell_type": "code",
   "execution_count": 1,
   "id": "283ed7a3",
   "metadata": {},
   "outputs": [],
   "source": [
    "using JuMP;\n",
    "using Plots;\n",
    "using HiGHS;\n",
    "using CSV;\n",
    "using DataFrames;\n",
    "using MarketData;"
   ]
  },
  {
   "cell_type": "markdown",
   "id": "e7a73a50",
   "metadata": {},
   "source": [
    "## Load Data"
   ]
  },
  {
   "cell_type": "code",
   "execution_count": 2,
   "id": "e4bb584b",
   "metadata": {},
   "outputs": [],
   "source": [
    "function load_data(stocks::Array{String}, years::Int64)\n",
    "    output = Array{Float64}[]\n",
    "    t = Dates.now()\n",
    "    period = YahooOpt(period1 = t - Year(years), period2 = t)\n",
    "    for stock in stocks\n",
    "        data = yahoo(stock, period)\n",
    "        value = (values(data[\"High\"]) + values(data[\"Low\"]))/2;\n",
    "        push!(output, value)\n",
    "    end\n",
    "    return hcat(output...)\n",
    "end\n",
    "\n",
    "function evaluate_factor(data::Matrix{Float64})\n",
    "    m, n = size(data) \n",
    "    factor = copy(data)\n",
    "    mean = zeros(n)\n",
    "    for i in 1:n\n",
    "        mean[i] = sum(data[:,i])/(1.05*m)\n",
    "    end\n",
    "\n",
    "    for i in 1:m\n",
    "        factor[i,:] = (data[i,:] - mean) ./ mean\n",
    "    end\n",
    "    return factor\n",
    "end\n",
    "\n",
    "data = load_data([\"PETR4.SA\", \"VALE3.SA\", \"AZUL4.SA\", \"BPAC11.SA\"], 1);\n",
    "factor = evaluate_factor(data);"
   ]
  },
  {
   "cell_type": "markdown",
   "id": "dacad821",
   "metadata": {},
   "source": [
    "## Model"
   ]
  },
  {
   "cell_type": "code",
   "execution_count": 3,
   "id": "da3e3422",
   "metadata": {},
   "outputs": [
    {
     "data": {
      "text/plain": [
       "portifolio_simple (generic function with 1 method)"
      ]
     },
     "execution_count": 3,
     "metadata": {},
     "output_type": "execute_result"
    }
   ],
   "source": [
    "function portifolio_simple(factor::Matrix{Float64}; fixed::Float64 = 0.0, β::Float64 = 0.0, α::Float64 = 0.05, BigM::Float64 = 1e3)\n",
    "\n",
    "    m, n = size(factor) \n",
    "    p = 1/m\n",
    "    \n",
    "    model = Model(HiGHS.Optimizer)\n",
    "    MOI.set(model, JuMP.MOI.Silent(), true)\n",
    "    \n",
    "    @variable(model, x[1:n] >= 0.0)\n",
    "    @variable(model, y[1:m], Bin)\n",
    "    \n",
    "    @constraint(model, sum(x) <= 1.0)\n",
    "    @constraint(model,[i = 1:m, j = 1:n], factor[i,j]*x[j] >= β - BigM*y[i])\n",
    "    @constraint(model, sum(y*p) <= α)\n",
    "\n",
    "    @objective(model, Max, sum(factor[i,j]*p*x[j] for i = 1:m, j = 1:n) + fixed*(1-sum(x)))\n",
    "\n",
    "    optimize!(model)\n",
    "    \n",
    "    return model\n",
    "end"
   ]
  },
  {
   "cell_type": "code",
   "execution_count": 4,
   "id": "c41a0cdd",
   "metadata": {},
   "outputs": [
    {
     "data": {
      "text/plain": [
       "portifolio_complex (generic function with 1 method)"
      ]
     },
     "execution_count": 4,
     "metadata": {},
     "output_type": "execute_result"
    }
   ],
   "source": [
    "function portifolio_complex(factor::Matrix{Float64}; fixed::Float64 = 0.0, β::Float64 = 0.0, α::Float64 = 0.05, BigM::Float64 = 1e3)\n",
    "\n",
    "    m, n = size(factor) \n",
    "    p = 1/(m*n)\n",
    "    \n",
    "    model = Model(HiGHS.Optimizer)\n",
    "    MOI.set(model, JuMP.MOI.Silent(), true)\n",
    "    \n",
    "    @variable(model, x[1:n] >= 0.0)\n",
    "    @variable(model, y[1:m,1:n], Bin)\n",
    "    \n",
    "    @constraint(model, sum(x) <= 1.0)\n",
    "    @constraint(model,[i = 1:m, j = 1:n], factor[i,j]*x[j] >= β - BigM*y[i,j])\n",
    "    @constraint(model, sum(y*p) <= α)\n",
    "\n",
    "    @objective(model, Max, sum(factor[i,j]*p*x[j] for i = 1:m, j = 1:n) + fixed*(1-sum(x)))\n",
    "\n",
    "    optimize!(model)\n",
    "    \n",
    "    return model\n",
    "end"
   ]
  },
  {
   "cell_type": "code",
   "execution_count": 10,
   "id": "6bc62df4",
   "metadata": {},
   "outputs": [
    {
     "name": "stdout",
     "output_type": "stream",
     "text": [
      "value.(model[:x]) = [0.0, 0.28002975820133935, 0.19468194302265174, 0.5252882987760089]\n",
      "sum(value.(model[:x])) = 1.0\n"
     ]
    },
    {
     "data": {
      "text/plain": [
       "1.0"
      ]
     },
     "execution_count": 10,
     "metadata": {},
     "output_type": "execute_result"
    }
   ],
   "source": [
    "model = portifolio_simple(factor, β = -0.1, α = 0.05)\n",
    "@show value.(model[:x])\n",
    "@show sum(value.(model[:x]))"
   ]
  }
 ],
 "metadata": {
  "kernelspec": {
   "display_name": "Julia 1.7.2",
   "language": "julia",
   "name": "julia-1.7"
  },
  "language_info": {
   "file_extension": ".jl",
   "mimetype": "application/julia",
   "name": "julia",
   "version": "1.7.2"
  }
 },
 "nbformat": 4,
 "nbformat_minor": 5
}
