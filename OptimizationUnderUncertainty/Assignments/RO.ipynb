{
 "cells": [
  {
   "cell_type": "code",
   "execution_count": 2,
   "id": "bb20f15a",
   "metadata": {
    "ExecuteTime": {
     "end_time": "2022-11-10T15:12:37.619000-03:00",
     "start_time": "2022-11-10T18:12:36.570Z"
    }
   },
   "outputs": [],
   "source": [
    "using JuMP\n",
    "using HiGHS\n",
    "using MarketData\n",
    "using Statistics\n",
    "using Plots\n",
    "using Random\n",
    "using LinearAlgebra"
   ]
  },
  {
   "cell_type": "code",
   "execution_count": 3,
   "id": "ecc27c11",
   "metadata": {},
   "outputs": [],
   "source": [
    "function load_data(stocks::Array{String}, years::Int64)\n",
    "    output = Array{Float64}[]\n",
    "    t = Dates.now()\n",
    "    period = YahooOpt(period1 = t - Year(years), period2 = t)\n",
    "    for stock in stocks\n",
    "        data = yahoo(stock, period)\n",
    "        value = (values(data[\"High\"]) + values(data[\"Low\"]))/2;\n",
    "        push!(output, value)\n",
    "    end\n",
    "    return hcat(output...)\n",
    "end\n",
    "\n",
    "function evaluate_factor(data::Matrix{Float64})\n",
    "    m, n = size(data) \n",
    "    factor = zeros(m-1,n)\n",
    "    mean = zeros(n)\n",
    "\n",
    "    for i in 1:m-1\n",
    "        factor[i,:] = (data[i+1,:] - (data[i,:])) ./ (data[i,:])\n",
    "    end\n",
    "    return factor\n",
    "end\n",
    "\n",
    "data = load_data([\"PETR4.SA\", \"VALE3.SA\", \"AZUL4.SA\", \"BPAC11.SA\", \"ABEV3.SA\"], 1);\n",
    "factor = evaluate_factor(data);"
   ]
  },
  {
   "cell_type": "code",
   "execution_count": 10,
   "id": "bdd82bfd",
   "metadata": {
    "ExecuteTime": {
     "end_time": "2022-11-10T15:58:50.728000-03:00",
     "start_time": "2022-11-10T18:58:50.725Z"
    }
   },
   "outputs": [],
   "source": [
    "m, n = size(factor)\n",
    "mu = vec(mean(factor, dims=1));\n",
    "Sigma = cov(factor);\n",
    "sigma = sqrt.(diag(Sigma));"
   ]
  },
  {
   "cell_type": "markdown",
   "id": "bb5d62df",
   "metadata": {},
   "source": [
    "### Question 1"
   ]
  },
  {
   "cell_type": "markdown",
   "id": "56d5cbe6",
   "metadata": {},
   "source": [
    "The inner primal problem can be written as:\n",
    "\n",
    "$\\begin{align*}\n",
    "& \\min r^Tx \\\\\n",
    "&\\sum_{i=1}^N z = \\Gamma &:λ\\\\ \n",
    "& r_i - \\mu \\le z_i \\sigma_i, &:π1_i \\quad &\\forall i = 1,\\ldots,N \\\\\n",
    " -&(r_i - \\mu) \\le z_i \\sigma_i, &:π2_i \\quad &\\forall i = 1,\\ldots,N \\\\\n",
    "& z_i \\leq 1 &:β_i \\quad &\\forall i = 1,\\ldots,N \\\\\n",
    "& z_i \\geq 0 & &\\forall i = 1,\\ldots,N \\\\\n",
    "&r \\in \\mathbb{R}\n",
    "\\end{align*}$"
   ]
  },
  {
   "cell_type": "code",
   "execution_count": 26,
   "id": "e12b54ca",
   "metadata": {
    "ExecuteTime": {
     "end_time": "2022-11-10T15:58:51.719000-03:00",
     "start_time": "2022-11-10T18:58:51.707Z"
    }
   },
   "outputs": [
    {
     "data": {
      "text/plain": [
       "inner_primal (generic function with 1 method)"
      ]
     },
     "metadata": {},
     "output_type": "display_data"
    }
   ],
   "source": [
    "function inner_primal(x, Gamma, factor)\n",
    "\n",
    "    mu = vec(mean(factor, dims=1))\n",
    "    Sigma = cov(factor)\n",
    "    sigma = diag(Sigma).^(1/2)\n",
    "    m, n = size(factor)\n",
    "\n",
    "    model = Model(HiGHS.Optimizer)\n",
    "    set_silent(model)\n",
    "    @variable(model, 0 <= z[1:n])\n",
    "    @variable(model, r[1:n])\n",
    "\n",
    "    @constraint(model, lambda, sum(z) == Gamma)\n",
    "    @constraint(model, pi1, r .- mu .<=  z .* sigma)\n",
    "    @constraint(model, pi2, - (r .- mu) .<=  z .* sigma)\n",
    "    @constraint(model, beta, z .≤ 1)\n",
    "\n",
    "    @objective(model, Min, r'x)\n",
    "    optimize!(model)\n",
    "    return model\n",
    "end"
   ]
  },
  {
   "cell_type": "code",
   "execution_count": 27,
   "id": "b638d9d0",
   "metadata": {
    "ExecuteTime": {
     "end_time": "2022-11-10T15:58:52.034000-03:00",
     "start_time": "2022-11-10T18:58:52.032Z"
    }
   },
   "outputs": [],
   "source": [
    "x = (1/n)*ones(n)\n",
    "Γ = 1\n",
    "model = inner_primal(x, Γ, factor);"
   ]
  },
  {
   "cell_type": "markdown",
   "id": "0322c4d9",
   "metadata": {},
   "source": [
    "The inner dual problem can be written as:\n",
    "\n",
    "$\\begin{align*}\n",
    "& \\min λΓ + \\sum_{i=1}^N \\beta_i + μ^T(π1 - π2) \\\\\n",
    "& λ^T\\mathbf{1} - \\sigma (π1 + π2) + β \\leq 0 \\\\ \n",
    "& (π1 - π2) = x \\\\\n",
    "& β ≤ 0 \\\\\n",
    "& π1 ≤ 0 \\\\\n",
    "& π2 ≤ 0 \\\\\n",
    "& λ \\in \\mathbb{R} \n",
    "\\end{align*}$"
   ]
  },
  {
   "cell_type": "code",
   "execution_count": 28,
   "id": "631473b4",
   "metadata": {
    "ExecuteTime": {
     "end_time": "2022-11-10T15:58:52.907000-03:00",
     "start_time": "2022-11-10T18:58:52.899Z"
    }
   },
   "outputs": [
    {
     "data": {
      "text/plain": [
       "inner_dual (generic function with 1 method)"
      ]
     },
     "metadata": {},
     "output_type": "display_data"
    }
   ],
   "source": [
    "function inner_dual(x, Γ, factor)\n",
    "    mu = vec(mean(factor, dims=1))\n",
    "    Sigma = cov(factor)\n",
    "    sigma = diag(Sigma).^(1/2)\n",
    "    m, n = size(factor)\n",
    "\n",
    "    model = Model(HiGHS.Optimizer)\n",
    "    set_silent(model)\n",
    "    @variable(model, lambda)\n",
    "    @variable(model, beta[1:n] <= 0)\n",
    "    @variable(model, pi1[1:n] <= 0)\n",
    "    @variable(model, pi2[1:n] <= 0)\n",
    "\n",
    "    @constraint(model, z, lambda*ones(n) .- sigma .* (pi1 .+ pi2) .+ beta .<= 0)\n",
    "    @constraint(model, r, pi1 .- pi2 .== x)\n",
    "        \n",
    "    @objective(model, Max, lambda*Γ + sum(beta) + dot(mu,(pi1 .- pi2)))\n",
    "    optimize!(model)\n",
    "    return model\n",
    "end"
   ]
  },
  {
   "cell_type": "code",
   "execution_count": 29,
   "id": "d1638ed0",
   "metadata": {
    "ExecuteTime": {
     "end_time": "2022-11-10T15:58:53.327000-03:00",
     "start_time": "2022-11-10T18:58:53.111Z"
    }
   },
   "outputs": [],
   "source": [
    "dual_model = inner_dual(x, Γ, factor);"
   ]
  },
  {
   "cell_type": "markdown",
   "id": "070d708d",
   "metadata": {},
   "source": [
    "The optimal values must be smaller than a tolerance"
   ]
  },
  {
   "cell_type": "code",
   "execution_count": 30,
   "id": "3541dc2b",
   "metadata": {
    "ExecuteTime": {
     "end_time": "2022-11-10T15:58:53.976000-03:00",
     "start_time": "2022-11-10T18:58:53.974Z"
    }
   },
   "outputs": [
    {
     "data": {
      "text/plain": [
       "true"
      ]
     },
     "metadata": {},
     "output_type": "display_data"
    }
   ],
   "source": [
    "objective_value(model) - objective_value(dual_model) < 1e-6"
   ]
  },
  {
   "cell_type": "markdown",
   "id": "5abe5dad",
   "metadata": {},
   "source": [
    "Not necessarily all optimal values will be equal, the problem can have degenerate solutions"
   ]
  },
  {
   "cell_type": "markdown",
   "id": "790053c2",
   "metadata": {},
   "source": [
    "### Question 2"
   ]
  },
  {
   "cell_type": "code",
   "execution_count": null,
   "id": "69400fb1",
   "metadata": {
    "ExecuteTime": {
     "end_time": "2022-11-10T15:58:55.515000-03:00",
     "start_time": "2022-11-10T18:58:55.502Z"
    }
   },
   "outputs": [],
   "source": [
    "function first_level(Γ)\n",
    "    mu = vec(mean(factor, dims=1))\n",
    "    Sigma = cov(factor)\n",
    "    sigma = diag(Sigma).^(1/2)\n",
    "    m, n = size(factor)\n",
    "\n",
    "    model = Model(HiGHS.Optimizer)\n",
    "    set_silent(model)\n",
    "    \n",
    "        \n",
    "    @variable(model, lambda)\n",
    "    @variable(model, x[1:N] >= 0)\n",
    "    @variable(model, beta[1:n] <= 0)\n",
    "    @variable(model, pi1[1:n] <= 0)\n",
    "    @variable(model, pi2[1:n] <= 0)\n",
    "\n",
    "    @constraint(model, w, sum(x) == 1)\n",
    "    @constraint(model, z, lambda*ones(n) .- sigma .* (pi1 .+ pi2) .+ beta .<= 0)\n",
    "    @constraint(model, r, pi1 .- pi2 .== x)\n",
    "\n",
    "    @objective(model, Max, lambda*Γ + sum(beta) + dot(mu,(pi1 .- pi2)))\n",
    "    optimize!(model)\n",
    "    return model\n",
    "end"
   ]
  },
  {
   "cell_type": "code",
   "execution_count": null,
   "id": "4d4f4ca9",
   "metadata": {
    "ExecuteTime": {
     "end_time": "2022-11-10T15:58:57.243000-03:00",
     "start_time": "2022-11-10T18:58:56.967Z"
    }
   },
   "outputs": [],
   "source": [
    "Γs = collect(0:5)\n",
    "models = first_level_problem.(Γs);"
   ]
  },
  {
   "cell_type": "code",
   "execution_count": null,
   "id": "60673cd3",
   "metadata": {
    "ExecuteTime": {
     "end_time": "2022-11-10T15:58:57.301000-03:00",
     "start_time": "2022-11-10T18:58:57.300Z"
    }
   },
   "outputs": [],
   "source": [
    "obj_values = objective_value.(models);"
   ]
  },
  {
   "cell_type": "code",
   "execution_count": null,
   "id": "df536fcf",
   "metadata": {
    "ExecuteTime": {
     "end_time": "2022-11-10T15:58:57.624000-03:00",
     "start_time": "2022-11-10T18:58:57.606Z"
    }
   },
   "outputs": [],
   "source": [
    "plot(Γs,obj_values,xlabel=\"Gamma\",ylabel=\"Returns\",legend=false)"
   ]
  },
  {
   "cell_type": "code",
   "execution_count": null,
   "id": "e2eb34c1",
   "metadata": {
    "ExecuteTime": {
     "end_time": "2022-11-10T15:58:58.030000-03:00",
     "start_time": "2022-11-10T18:58:57.993Z"
    }
   },
   "outputs": [],
   "source": [
    "xs = Matrix(hcat([value.(model[:x]) for model in models]...))';"
   ]
  },
  {
   "cell_type": "code",
   "execution_count": null,
   "id": "3c810be5",
   "metadata": {
    "ExecuteTime": {
     "end_time": "2022-11-10T15:58:58.293000-03:00",
     "start_time": "2022-11-10T18:58:58.271Z"
    }
   },
   "outputs": [],
   "source": [
    "groupedbar(xs,\n",
    "        bar_position = :stack,\n",
    "        bar_width=0.7,\n",
    "        xticks=(1:n_stocks+1,Γs),\n",
    "        legend=:outertopright,\n",
    "        xlabel=\"Gamma\",\n",
    "        ylabel=\"Composition\",\n",
    "        label=permutedims(tickers))"
   ]
  },
  {
   "cell_type": "markdown",
   "id": "8dbd6c13",
   "metadata": {},
   "source": [
    "### Questão 3"
   ]
  },
  {
   "cell_type": "code",
   "execution_count": null,
   "id": "2e65dac7",
   "metadata": {
    "ExecuteTime": {
     "end_time": "2022-11-10T15:58:58.968000-03:00",
     "start_time": "2022-11-10T18:58:58.966Z"
    }
   },
   "outputs": [],
   "source": [
    "Random.seed!(1234);"
   ]
  },
  {
   "cell_type": "markdown",
   "id": "0377914f",
   "metadata": {
    "ExecuteTime": {
     "end_time": "2022-11-08T22:47:43.201000-03:00",
     "start_time": "2022-11-09T01:47:43.199Z"
    }
   },
   "source": [
    "For the outsample returns, we sample S samples from a multivariate normal distribution with mean and covariance from the portfolio historical returns."
   ]
  },
  {
   "cell_type": "code",
   "execution_count": null,
   "id": "ed21c572",
   "metadata": {
    "ExecuteTime": {
     "end_time": "2022-11-10T15:58:59.410000-03:00",
     "start_time": "2022-11-10T18:58:59.408Z"
    }
   },
   "outputs": [],
   "source": [
    "r_dist = MvNormal(μ,Σ);"
   ]
  },
  {
   "cell_type": "code",
   "execution_count": null,
   "id": "de51b968",
   "metadata": {
    "ExecuteTime": {
     "end_time": "2022-11-10T15:58:59.644000-03:00",
     "start_time": "2022-11-10T18:58:59.640Z"
    }
   },
   "outputs": [],
   "source": [
    "N_samples = 10000\n",
    "r_out_of_sample = rand(r_dist, N_samples)"
   ]
  },
  {
   "cell_type": "markdown",
   "id": "7c9e7752",
   "metadata": {},
   "source": [
    "Each coordinate $(i,j)$ from the following matrix $M$ means that for $\\Gamma = i$, the simulation $j$ has simulated cost of $M_{ij}$"
   ]
  },
  {
   "cell_type": "code",
   "execution_count": null,
   "id": "fa87d6ec",
   "metadata": {
    "ExecuteTime": {
     "end_time": "2022-11-10T15:59:00.565000-03:00",
     "start_time": "2022-11-10T18:59:00.561Z"
    }
   },
   "outputs": [],
   "source": [
    "return_by_gamma_scenario = xs*r_out_of_sample"
   ]
  },
  {
   "cell_type": "markdown",
   "id": "cd58508a",
   "metadata": {},
   "source": [
    "Each coordinate $(i,j)$ from the following vector $p$ means that for $\\Gamma = i$, the probability of the simulated portfolio return be smaller than the optimal value of the problem is $p_i$"
   ]
  },
  {
   "cell_type": "code",
   "execution_count": null,
   "id": "9f769cb3",
   "metadata": {
    "ExecuteTime": {
     "end_time": "2022-11-10T15:59:01.095000-03:00",
     "start_time": "2022-11-10T18:59:01.092Z"
    }
   },
   "outputs": [],
   "source": [
    "estimated_prob_portfolios = sum(return_by_gamma_scenario .< obj_values,dims=2)/N_samples"
   ]
  },
  {
   "cell_type": "markdown",
   "id": "85f6e187",
   "metadata": {},
   "source": [
    "### Question 4"
   ]
  },
  {
   "cell_type": "code",
   "execution_count": null,
   "id": "5104ebeb",
   "metadata": {
    "ExecuteTime": {
     "end_time": "2022-11-10T15:59:01.984000-03:00",
     "start_time": "2022-11-10T18:59:01.983Z"
    }
   },
   "outputs": [],
   "source": [
    "T = 10"
   ]
  },
  {
   "cell_type": "markdown",
   "id": "a64acb94",
   "metadata": {},
   "source": [
    "$\\begin{align*}\n",
    "& \\min r^Tx \\\\\n",
    "&\\sum_{t=1}^T \\theta_t = 1 &:λ\\\\ \n",
    "& \\sum_{t=1}^T \\theta_t p_t = r &:π \\\\\n",
    "& \\theta_t \\leq 1 &:β \\\\\n",
    "& \\theta_t \\geq 0 \\\\\n",
    "& r \\in \\mathbb{R}\n",
    "\\end{align*}$\n",
    "\n",
    "$p_t$ is the returns from time $t$."
   ]
  },
  {
   "cell_type": "code",
   "execution_count": null,
   "id": "e5b8ef92",
   "metadata": {
    "ExecuteTime": {
     "end_time": "2022-11-10T16:00:22.532000-03:00",
     "start_time": "2022-11-10T19:00:22.524Z"
    }
   },
   "outputs": [],
   "source": [
    "function inner_primal_problem(T,x)\n",
    "    N = n_stocks\n",
    "    model = Model(HiGHS.Optimizer)\n",
    "    set_silent(model)\n",
    "    @variables(model,\n",
    "    begin\n",
    "    θ[1:T] ≥ 0\n",
    "    r[1:N]\n",
    "    end)\n",
    "\n",
    "    @constraints(model,\n",
    "    begin\n",
    "    λ, θ .≤ 1\n",
    "    π, sum(θ[t]*stock_data[n_days-T+t,:] for t in 1:T) .== r\n",
    "    β, sum(θ) == 1\n",
    "    end)\n",
    "\n",
    "    @objective(model, Min, r'x)\n",
    "    JuMP.optimize!(model)\n",
    "\n",
    "    return objective_value(model), JuMP.value.(r), JuMP.value.(θ)\n",
    "end"
   ]
  },
  {
   "cell_type": "code",
   "execution_count": null,
   "id": "c1369026",
   "metadata": {
    "ExecuteTime": {
     "end_time": "2022-11-10T16:00:23.051000-03:00",
     "start_time": "2022-11-10T19:00:22.889Z"
    }
   },
   "outputs": [],
   "source": [
    "inner_primal_problem(T,x)"
   ]
  },
  {
   "cell_type": "markdown",
   "id": "65ce6884",
   "metadata": {},
   "source": [
    "$\\begin{align*}\n",
    "& \\min λ + \\sum_{t=1}^T \\beta_t \\\\\n",
    "& λ^T\\mathbf{1} - π p_t + β^T \\leq 0 \\\\ \n",
    "& π = x \\\\\n",
    "& β ≤ 0 \\\\\n",
    "& λ \\in \\mathbb{R} \n",
    "\\end{align*}$\n",
    "\n",
    "That is equal to \n",
    "\n",
    "$\\begin{align*}\n",
    "& \\min λ + \\sum_{t=1}^T \\beta_t \\\\\n",
    "& λ^T\\mathbf{1} + β^T \\leq πx \\\\\n",
    "& β ≤ 0 \\\\\n",
    "& λ \\in \\mathbb{R} \n",
    "\\end{align*}$"
   ]
  },
  {
   "cell_type": "code",
   "execution_count": null,
   "id": "3bc7c2f1",
   "metadata": {
    "ExecuteTime": {
     "end_time": "2022-11-10T16:08:16.486000-03:00",
     "start_time": "2022-11-10T19:08:16.481Z"
    }
   },
   "outputs": [],
   "source": [
    "function inner_dual_problem(T,x)\n",
    "    N = n_stocks\n",
    "    model = Model(HiGHS.Optimizer)\n",
    "    set_silent(model)\n",
    "    @variables(model,\n",
    "    begin\n",
    "    λ\n",
    "    β[1:T] ≤ 0\n",
    "    end)\n",
    "\n",
    "    @constraints(model,\n",
    "    begin\n",
    "    λ*ones(T) .+ β .≤ stock_data[n_days-T+1:n_days,:]*x\n",
    "    end)\n",
    "\n",
    "    @objective(model, Max, sum(β) + λ)\n",
    "    JuMP.optimize!(model)\n",
    "\n",
    "    return objective_value(model)\n",
    "end"
   ]
  },
  {
   "cell_type": "code",
   "execution_count": null,
   "id": "dfefe288",
   "metadata": {
    "ExecuteTime": {
     "end_time": "2022-11-10T16:08:16.739000-03:00",
     "start_time": "2022-11-10T19:08:16.681Z"
    }
   },
   "outputs": [],
   "source": [
    "inner_dual_problem(T,x)"
   ]
  },
  {
   "cell_type": "code",
   "execution_count": null,
   "id": "dfccfdcb",
   "metadata": {
    "ExecuteTime": {
     "end_time": "2022-11-10T16:14:01.078000-03:00",
     "start_time": "2022-11-10T19:14:01.071Z"
    }
   },
   "outputs": [],
   "source": [
    "function first_level_problem(T)\n",
    "    N = n_stocks\n",
    "    model = Model(HiGHS.Optimizer)\n",
    "    set_silent(model)\n",
    "    @variables(model,\n",
    "    begin\n",
    "    x[1:N] ≥ 0\n",
    "    λ\n",
    "    β[1:T] ≤ 0\n",
    "    end)\n",
    "\n",
    "    @constraints(model,\n",
    "    begin\n",
    "    sum(x) == 1\n",
    "    λ*ones(T) .+ β .≤ stock_data[n_days-T+1:n_days,:]*x\n",
    "    end)\n",
    "\n",
    "    @objective(model, Max, sum(β) + λ)\n",
    "    JuMP.optimize!(model)\n",
    "\n",
    "    return model\n",
    "end"
   ]
  },
  {
   "cell_type": "code",
   "execution_count": null,
   "id": "79673a52",
   "metadata": {
    "ExecuteTime": {
     "end_time": "2022-11-10T16:15:58.136000-03:00",
     "start_time": "2022-11-10T19:15:58.134Z"
    }
   },
   "outputs": [],
   "source": [
    "Ts = collect(10:10:100);"
   ]
  },
  {
   "cell_type": "code",
   "execution_count": null,
   "id": "9dfed5d7",
   "metadata": {
    "ExecuteTime": {
     "end_time": "2022-11-10T16:15:00.286000-03:00",
     "start_time": "2022-11-10T19:15:00.270Z"
    }
   },
   "outputs": [],
   "source": [
    "models = first_level_problem.(Ts);"
   ]
  },
  {
   "cell_type": "code",
   "execution_count": null,
   "id": "8ee6775f",
   "metadata": {
    "ExecuteTime": {
     "end_time": "2022-11-10T16:15:00.564000-03:00",
     "start_time": "2022-11-10T19:15:00.562Z"
    }
   },
   "outputs": [],
   "source": [
    "obj_values = objective_value.(models);"
   ]
  },
  {
   "cell_type": "code",
   "execution_count": null,
   "id": "7d08c930",
   "metadata": {
    "ExecuteTime": {
     "end_time": "2022-11-10T16:15:00.974000-03:00",
     "start_time": "2022-11-10T19:15:00.954Z"
    }
   },
   "outputs": [],
   "source": [
    "plot(Ts,obj_values,xlabel=\"Past Days\",ylabel=\"Returns\",legend=false)"
   ]
  },
  {
   "cell_type": "code",
   "execution_count": null,
   "id": "3c55584f",
   "metadata": {
    "ExecuteTime": {
     "end_time": "2022-11-10T16:15:02.426000-03:00",
     "start_time": "2022-11-10T19:15:02.389Z"
    }
   },
   "outputs": [],
   "source": [
    "xs = Matrix(hcat([value.(model[:x]) for model in models]...))';"
   ]
  },
  {
   "cell_type": "code",
   "execution_count": null,
   "id": "5da47b3a",
   "metadata": {
    "ExecuteTime": {
     "end_time": "2022-11-10T16:15:28.086000-03:00",
     "start_time": "2022-11-10T19:15:28.058Z"
    }
   },
   "outputs": [],
   "source": [
    "groupedbar(xs,\n",
    "        bar_position = :stack,\n",
    "        bar_width=0.7,\n",
    "        xticks=(1:length(Ts),Ts),\n",
    "        legend=:outertopright,\n",
    "        xlabel=\"Past Days\",\n",
    "        ylabel=\"Composition\",\n",
    "        label=permutedims(tickers))"
   ]
  }
 ],
 "metadata": {
  "kernelspec": {
   "display_name": "Julia 1.6.1",
   "language": "julia",
   "name": "julia-1.6"
  },
  "language_info": {
   "file_extension": ".jl",
   "mimetype": "application/julia",
   "name": "julia",
   "version": "1.6.1"
  },
  "toc": {
   "base_numbering": 1,
   "nav_menu": {},
   "number_sections": true,
   "sideBar": true,
   "skip_h1_title": false,
   "title_cell": "Table of Contents",
   "title_sidebar": "Contents",
   "toc_cell": false,
   "toc_position": {},
   "toc_section_display": true,
   "toc_window_display": false
  }
 },
 "nbformat": 4,
 "nbformat_minor": 5
}
