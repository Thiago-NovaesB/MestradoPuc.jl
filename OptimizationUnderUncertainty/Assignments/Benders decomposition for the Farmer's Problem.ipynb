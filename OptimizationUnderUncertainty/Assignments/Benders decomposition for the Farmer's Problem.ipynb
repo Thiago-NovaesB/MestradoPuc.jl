{
 "cells": [
  {
   "cell_type": "markdown",
   "id": "53991e2c",
   "metadata": {},
   "source": [
    "## Load Packages"
   ]
  },
  {
   "cell_type": "code",
   "execution_count": 1,
   "id": "dfff9da5",
   "metadata": {},
   "outputs": [],
   "source": [
    "using JuMP;\n",
    "using HiGHS;\n",
    "using Plots;\n",
    "using ParametricOptInterface;\n",
    "const POI = ParametricOptInterface;"
   ]
  },
  {
   "cell_type": "markdown",
   "id": "2b710374",
   "metadata": {},
   "source": [
    "# Farmer Problem"
   ]
  },
  {
   "cell_type": "markdown",
   "id": "6787327f",
   "metadata": {},
   "source": [
    "João is a farmer from a small town who specializes in growing wheat, corn and sugar beet. He owns $500 km^2$ of land and must decide the amount of land to be allocated to each of the crops. João faces several restrictions regarding his planting. First, he must have at least $200 T$ of wheat and $240 T$ of corn to feed his cattle. Such quantities can be obtained through own plantation or by buying from the city's cooperative. The purchase prices per ton of wheat are $238 R\\$/T$ and per ton of corn $210 R\\$/T$. On the other hand, any excess produced in relation to the minimum can be sold at the cooperative, however with a $40\\%$ discount on the purchase price ($170 R\\$/T$ for wheat and $150 R\\$/T$ for corn) per the cooperative's margin account. Another important restriction concerns the sale of sugar beet. By law, the sale price of a ton of beet at the cooperative is fixed at $36 R\\$/T$ for the first $6000 T$ sold. After this amount, the sale price becomes $10 R\\$/T$. In addition, the cooperative where João trades his products does not have sugar beet for purchase.\n",
    "\n",
    "Let's assume that the planting cost of each crop is: $150 R\\$/km^2$ for wheat, $230 R\\$/km^2$ for corn, and $260 R\\$/km^2$ for sugar beet. The uncertainty of the problem lies in the productivity of the land. João does not know a priori how much each $km^2$ of land will yield in tons of culture. Now assume that three scenarios of equal probabilities of occurrence were sampled: \"good\", \"average\" and \"poor\". In each of the states, the yield of each crop is given by:\n",
    "\"Bad\" state: Wheat = $2 T/km^2$; Corn = $2.4 T/km^2$; Beetroot = $16 T/km^2$;\n",
    "\"Average\" state: Wheat = $2.5 T/km^2$; Corn = $3.0 T/km^2$; Beetroot = $20 T/km^2$;\n",
    "\"Good\" state: Wheat = $3 T/km^2$; Corn = $3.6 T/km^2$; Beetroot = $24 T/km^2$;"
   ]
  },
  {
   "cell_type": "markdown",
   "id": "cc157818",
   "metadata": {},
   "source": [
    "$$\n",
    "\\begin{aligned}\n",
    "    &\\min && 150a_1 + 230a_2 + 260a_3 + \\mathbb{E}_s[Q(a,s)]  \\\\\n",
    "    & st && a_1+a_2+a_3 \\leq 500\\\\\n",
    "        &&& 0 \\leq a_1, a_2, a_3 \\\\\n",
    "\\end{aligned}\n",
    "$$\n",
    "\n",
    "$$\n",
    "\\begin{aligned}\n",
    "   Q(a,s) = &\\min && 238c_1 + 210c_2 - 170v_1 - 150v_2 - l_3   \\\\\n",
    "    & st && p_1 + c_1 - v_1 \\geq 200\\\\\n",
    "        &&& p_2 + c_2 - v_2 \\geq 240\\\\\n",
    "        &&& l_3 \\leq 36p_3\\\\\n",
    "        &&& l_3 \\leq 10(p_3-6000) + 36*6000\\\\\n",
    "        &&& p_1 = a_1s_1\\\\\n",
    "        &&& p_2 = a_2s_2\\\\\n",
    "        &&& p_3 = a_3s_3\\\\\n",
    "        &&& 0 \\leq p_1, p_2, p_3\\\\\n",
    "        &&& 0 \\leq c_1, c_2, v_1, v_2\\\\\n",
    "        &&& 0 \\leq l_3\n",
    "\\end{aligned}\n",
    "$$"
   ]
  },
  {
   "cell_type": "markdown",
   "id": "110ff0fa",
   "metadata": {},
   "source": [
    "## 1) Compute and plot the 2 stage function "
   ]
  },
  {
   "cell_type": "code",
   "execution_count": 23,
   "id": "48e6892d",
   "metadata": {},
   "outputs": [
    {
     "data": {
      "text/plain": [
       "farmer_bender (generic function with 1 method)"
      ]
     },
     "execution_count": 23,
     "metadata": {},
     "output_type": "execute_result"
    }
   ],
   "source": [
    "function create_farmer_main()\n",
    "    \n",
    "    main = Model(HiGHS.Optimizer)\n",
    "    MOI.set(main, JuMP.MOI.Silent(), true)\n",
    "    @variable(main, 0<=a[1:3])\n",
    "    @variable(main, -1e6 <= theta)\n",
    "    @constraint(main, sum(a) <= 500)\n",
    "    @objective(main, Min, 150*a[1] + 230*a[2] + 260*a[3] + theta)\n",
    "    return main\n",
    "end\n",
    "\n",
    "function solve_farmer_main(main::Model)\n",
    "    \n",
    "    optimize!(main)\n",
    "    obj = objective_value(main)\n",
    "    a = value.(main[:a])\n",
    "    return obj, a\n",
    "end\n",
    "\n",
    "function create_farmer_subproblem()\n",
    "    \n",
    "    subproblem = Model(() -> ParametricOptInterface.Optimizer(HiGHS.Optimizer()))\n",
    "    MOI.set(subproblem, JuMP.MOI.Silent(), true)\n",
    "    \n",
    "    @variable(subproblem, a[1:3] in ParametricOptInterface.Parameter(0))\n",
    "    @variable(subproblem, rate[1:3] in ParametricOptInterface.Parameter(0))\n",
    "    @variable(subproblem, a_aux[1:3])\n",
    "    @constraint(subproblem, dual_fisher[i = 1:3] ,a[i] == a_aux[i])\n",
    "    @variable(subproblem, 0<=c[1:2])\n",
    "    @variable(subproblem, 0<=v[1:2])\n",
    "    @variable(subproblem, 0<=l)\n",
    "    @expression(subproblem, p[i=1:3], a_aux[i]*rate[i])\n",
    "    @constraint(subproblem, p[1] + c[1] - v[1] >= 200 )\n",
    "    @constraint(subproblem, p[2] + c[2] - v[2] >= 240 )\n",
    "    @constraint(subproblem, l <= 36*p[3] )\n",
    "    @constraint(subproblem, l <= 10*(p[3]-6000) + 36*6000)\n",
    "    @objective(subproblem, Min, 238*c[1] + 210*c[2] - 170*v[1] - 150*v[2] - l)\n",
    "\n",
    "    return subproblem\n",
    "end\n",
    "\n",
    "function solve_farmer_subproblem(subproblem::Model, a::Vector{Float64})\n",
    "    \n",
    "    rate = [2 2.5 3\n",
    "            2.4 3 3.6\n",
    "            16 20 24]\n",
    "    pis = zeros(3,3)\n",
    "    objs = zeros(3)\n",
    "    \n",
    "    MOI.set.(subproblem, POI.ParameterValue(), subproblem[:a], a)\n",
    "    for i in 1:3\n",
    "        MOI.set.(subproblem, POI.ParameterValue(), subproblem[:rate], rate[:,i])\n",
    "        optimize!(subproblem)\n",
    "\n",
    "        objs[i] = objective_value(subproblem)\n",
    "        pis[i,:] = dual.(subproblem[:dual_fisher])\n",
    "    end\n",
    "    obj = sum(objs*(1/3))    \n",
    "    pi = reshape(sum(pis*(1/3), dims=1), 3)\n",
    "    return obj, pi\n",
    "end\n",
    "\n",
    "function update_main!(main::Model, a::Vector{Float64}, pi::Vector{Float64}, obj_sub::Float64)\n",
    "    @constraint(main, main[:theta] >= obj_sub - sum(pi[i]*(main[:a][i] - a[i]) for i in 1:3))\n",
    "    nothing\n",
    "end\n",
    "\n",
    "function farmer_bender()\n",
    "    c = [150, 230,260]\n",
    "    main = create_farmer_main()\n",
    "    subproblem = create_farmer_subproblem()\n",
    "    obj_main, a = solve_farmer_main(main)\n",
    "    obj_sub, pi = solve_farmer_subproblem(subproblem, a)\n",
    "    LB = obj_main\n",
    "    UB = obj_sub + c'a\n",
    "    gap = UB - LB\n",
    "    while gap >= 1e-6\n",
    "        update_main!(main, a, pi, obj_sub)\n",
    "        obj_main, a = solve_farmer_main(main)\n",
    "        obj_sub, pi = solve_farmer_subproblem(subproblem, a)\n",
    "        LB = obj_main\n",
    "        UB = min(obj_sub + c'a , UB)\n",
    "        @show gap = UB - LB\n",
    "    end\n",
    "    return main\n",
    "end"
   ]
  },
  {
   "cell_type": "code",
   "execution_count": 24,
   "id": "4c2453a2",
   "metadata": {},
   "outputs": [
    {
     "name": "stdout",
     "output_type": "stream",
     "text": [
      "gap = UB - LB = 103999.99999999994\n",
      "gap = UB - LB = 30800.0\n",
      "gap = UB - LB = 22647.058823529427\n",
      "gap = UB - LB = 22077.535545023668\n",
      "gap = UB - LB = 5539.961315280467\n",
      "gap = UB - LB = 960.0000000000291\n",
      "gap = UB - LB = 853.8461538461561\n",
      "gap = UB - LB = 471.11111111112405\n",
      "gap = UB - LB = 412.1367521367356\n",
      "gap = UB - LB = -1.4551915228366852e-11\n"
     ]
    },
    {
     "data": {
      "text/plain": [
       "3-element Vector{Float64}:\n",
       " 170.0\n",
       "  80.00000000000017\n",
       " 249.99999999999983"
      ]
     },
     "execution_count": 24,
     "metadata": {},
     "output_type": "execute_result"
    }
   ],
   "source": [
    "main = farmer_bender();\n",
    "value.(main[:a])"
   ]
  },
  {
   "cell_type": "code",
   "execution_count": null,
   "id": "efd580f1",
   "metadata": {},
   "outputs": [],
   "source": []
  }
 ],
 "metadata": {
  "kernelspec": {
   "display_name": "Julia 1.7.2",
   "language": "julia",
   "name": "julia-1.7"
  },
  "language_info": {
   "file_extension": ".jl",
   "mimetype": "application/julia",
   "name": "julia",
   "version": "1.7.2"
  }
 },
 "nbformat": 4,
 "nbformat_minor": 5
}
