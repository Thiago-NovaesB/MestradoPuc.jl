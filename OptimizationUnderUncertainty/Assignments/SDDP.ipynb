{
 "cells": [
  {
   "cell_type": "code",
   "execution_count": 17,
   "id": "9322b126",
   "metadata": {
    "ExecuteTime": {
     "end_time": "2022-11-05T23:47:43.045000-03:00",
     "start_time": "2022-11-06T02:47:33.443Z"
    }
   },
   "outputs": [],
   "source": [
    "using LinearAlgebra\n",
    "using JuMP\n",
    "using HiGHS\n",
    "using SDDP\n",
    "using Statistics\n",
    "using Plots\n",
    "using Random\n",
    "using Printf"
   ]
  },
  {
   "cell_type": "code",
   "execution_count": 2,
   "id": "b14941e1",
   "metadata": {},
   "outputs": [
    {
     "data": {
      "text/plain": [
       "2.592"
      ]
     },
     "execution_count": 2,
     "metadata": {},
     "output_type": "execute_result"
    }
   ],
   "source": [
    "const conv = (30*24*60*60)/1e6"
   ]
  },
  {
   "cell_type": "code",
   "execution_count": 3,
   "id": "2e3ea049",
   "metadata": {
    "ExecuteTime": {
     "end_time": "2022-11-06T00:23:50.675000-03:00",
     "start_time": "2022-11-06T03:23:50.669Z"
    }
   },
   "outputs": [
    {
     "data": {
      "text/plain": [
       "unzip (generic function with 1 method)"
      ]
     },
     "execution_count": 3,
     "metadata": {},
     "output_type": "execute_result"
    }
   ],
   "source": [
    "mutable struct Data\n",
    "    T::Int\n",
    "    S::Int\n",
    "    N::Int\n",
    "    cost::Vector{Float64}\n",
    "    rho::Float64\n",
    "    generation_max::Vector{Float64}\n",
    "    volume_initial::Float64\n",
    "    volume_max::Float64\n",
    "    turbine_max::Float64\n",
    "    demand::Vector{Float64}\n",
    "    scenarios::Vector{Vector{Float64}}\n",
    "end\n",
    "\n",
    "data = Data(3, #T\n",
    "           2, #S\n",
    "           5, #N\n",
    "           [10,20,40,80,500], #cost\n",
    "           0.96, #rho\n",
    "           [100,150,200,250,1000], #generation_max\n",
    "           2050, #volume_initial\n",
    "           4100, #volume_max\n",
    "           1500, #turbine_max\n",
    "           [1000,1000,1000], #demand\n",
    "           [[150],[450,300],[771,213]] #scenarios\n",
    "           );\n",
    "\n",
    "function unzip(data::Data)\n",
    "    T = data.T\n",
    "    S = data.S\n",
    "    N = data.N\n",
    "    cost = data.cost\n",
    "    rho = data.rho\n",
    "    generation_max = data.generation_max\n",
    "    volume_initial = data.volume_initial\n",
    "    volume_max = data.volume_max\n",
    "    turbine_max = data.turbine_max\n",
    "    demand = data.demand\n",
    "    scenarios = data.scenarios\n",
    "    \n",
    "    return T, S, N, cost, rho, generation_max, volume_initial, volume_max, turbine_max, demand, scenarios\n",
    "end"
   ]
  },
  {
   "cell_type": "code",
   "execution_count": 4,
   "id": "e0415183",
   "metadata": {
    "ExecuteTime": {
     "end_time": "2022-11-06T00:23:51.149000-03:00",
     "start_time": "2022-11-06T03:23:51.144Z"
    }
   },
   "outputs": [
    {
     "data": {
      "text/plain": [
       "create_paths (generic function with 1 method)"
      ]
     },
     "execution_count": 4,
     "metadata": {},
     "output_type": "execute_result"
    }
   ],
   "source": [
    "function tree(node,S)\n",
    "    return [(node...,s) for s in 1:S]\n",
    "end\n",
    "\n",
    "function create_paths(T, S)\n",
    "    temp = Int.(Tuple([1, (zeros(T-1).+S)...]))\n",
    "    paths = []\n",
    "    foreach(path->push!(paths,Tuple(path)),CartesianIndices(temp))\n",
    "    return paths\n",
    "end"
   ]
  },
  {
   "cell_type": "markdown",
   "id": "c3234c89",
   "metadata": {},
   "source": [
    "## 1) Implement and solve the deterministic equivalent for the hydrothermal scheduling problem in Section 6."
   ]
  },
  {
   "cell_type": "code",
   "execution_count": 5,
   "id": "adf9b74e",
   "metadata": {
    "ExecuteTime": {
     "end_time": "2022-11-06T00:23:52.142000-03:00",
     "start_time": "2022-11-06T03:23:52.112Z"
    }
   },
   "outputs": [
    {
     "data": {
      "text/plain": [
       "deterministic_equivalent (generic function with 1 method)"
      ]
     },
     "execution_count": 5,
     "metadata": {},
     "output_type": "execute_result"
    }
   ],
   "source": [
    "function deterministic_equivalent(data::Data)\n",
    "    \n",
    "    model = Model(HiGHS.Optimizer)\n",
    "    set_silent(model)\n",
    "    \n",
    "    T, S, N, cost, rho, generation_max, volume_initial, volume_max, turbine_max, demand, scenarios = unzip(data)\n",
    "    \n",
    "    idxs = create_paths.(1:T,S)\n",
    "    idxs_vol = create_paths.(1:T+1,S)\n",
    "    \n",
    "    volume = model[:volume] = []\n",
    "    omega = model[:omega] = []\n",
    "    turbined = model[:turbined] = []\n",
    "    thermal_generation = model[:thermal_generation] = []\n",
    "    spilled = model[:spilled] = []\n",
    "    \n",
    "    @variable(model, objective_stage[t in 1:T], base_name=\"obj\", lower_bound = 0)\n",
    "    for (t, idx) in enumerate(idxs_vol)\n",
    "        push!(volume, @variable(model, [i in idx], base_name=\"volume_$t\", lower_bound = 0, upper_bound =  data.volume_max))\n",
    "    end\n",
    "    for (t, idx) in enumerate(idxs)\n",
    "        push!(omega, @variable(model, [idx], base_name=\"omega_$t\", lower_bound = 0))\n",
    "        push!(turbined, @variable(model, [idx], base_name=\"turbined_$t\", lower_bound = 0))\n",
    "        push!(thermal_generation, @variable(model, [idx, 1:N], base_name=\"thermal_generation_$t\", lower_bound = 0))\n",
    "        push!(spilled, @variable(model, [idx], base_name=\"spilled_$t\", lower_bound = 0))\n",
    "    end\n",
    "\n",
    "    @constraint(model, volume[1][(1,)] == data.volume_initial)\n",
    "    for t = 1:T\n",
    "        for scen in idxs[t]\n",
    "            s = scen[t]\n",
    "            inflow = scenarios[t][s]\n",
    "            obj = sum(cost[n]*thermal_generation[t][scen,n] for n in 1:N)\n",
    "            @constraint(model, omega[t][scen] == obj)\n",
    "            @constraint(model, turbined[t][scen]*rho + sum(thermal_generation[t][scen,n] for n in 1:N) == demand[t])\n",
    "            @constraint(model, turbined[t][scen] <= data.turbine_max)\n",
    "            @constraint(model, [n in 1:N], thermal_generation[t][scen,n] <= data.generation_max[n])\n",
    "            for node in tree(scen,S)\n",
    "                @constraint(model, volume[t+1][node] == volume[t][scen] + conv*(inflow - turbined[t][scen] - spilled[t][scen]))\n",
    "            end\n",
    "        end\n",
    "        @constraint(model, objective_stage[t] == 1/length(idxs[t]).*sum([omega[t]...]))\n",
    "    end\n",
    "    @objective(model, Min, sum(objective_stage));\n",
    "    return model\n",
    "end"
   ]
  },
  {
   "cell_type": "code",
   "execution_count": 6,
   "id": "b070967e",
   "metadata": {
    "ExecuteTime": {
     "end_time": "2022-11-06T00:23:53.570000-03:00",
     "start_time": "2022-11-06T03:23:52.621Z"
    },
    "scrolled": true
   },
   "outputs": [
    {
     "data": {
      "text/plain": [
       "38008.69629629629"
      ]
     },
     "execution_count": 6,
     "metadata": {},
     "output_type": "execute_result"
    }
   ],
   "source": [
    "model = deterministic_equivalent(data)\n",
    "optimize!(model)\n",
    "objective_value(model)"
   ]
  },
  {
   "cell_type": "markdown",
   "id": "aadedfe8",
   "metadata": {},
   "source": [
    "## 2) Implement the nested Benders decomposition also detailed in Section 6."
   ]
  },
  {
   "cell_type": "code",
   "execution_count": 7,
   "id": "622f98ef",
   "metadata": {
    "ExecuteTime": {
     "end_time": "2022-11-06T00:23:53.759000-03:00",
     "start_time": "2022-11-06T03:23:53.755Z"
    }
   },
   "outputs": [],
   "source": [
    "struct Cut\n",
    "    pi::Union{Float64,Array{Float64}}\n",
    "    Q::Float64\n",
    "    x::Union{Float64,Array{Float64}}\n",
    "end\n",
    "\n",
    "struct FCF\n",
    "    cuts::Array{Cut}\n",
    "    stage::Int64\n",
    "end"
   ]
  },
  {
   "cell_type": "code",
   "execution_count": 34,
   "id": "1e741a01",
   "metadata": {
    "ExecuteTime": {
     "end_time": "2022-11-06T00:39:21.707000-03:00",
     "start_time": "2022-11-06T03:39:21.702Z"
    }
   },
   "outputs": [
    {
     "data": {
      "text/plain": [
       "add_cuts! (generic function with 1 method)"
      ]
     },
     "execution_count": 34,
     "metadata": {},
     "output_type": "execute_result"
    }
   ],
   "source": [
    "function add_cuts!(model::JuMP.Model, FCF::FCF)\n",
    "    x = model[:volume_out]\n",
    "    model[:omega_t] = omega_t = @variable(model, base_name = \"omega_$(FCF.stage)\")\n",
    "    for cut in FCF.cuts\n",
    "        @constraint(model, omega_t >= sum(cut.pi .* (x .- cut.x)) + cut.Q)\n",
    "    end\n",
    "    objective = objective_function(model)\n",
    "    objective += omega_t\n",
    "    set_objective_function(model, objective)\n",
    "end"
   ]
  },
  {
   "cell_type": "code",
   "execution_count": 35,
   "id": "af84bbd8",
   "metadata": {
    "ExecuteTime": {
     "end_time": "2022-11-06T00:39:22.108000-03:00",
     "start_time": "2022-11-06T03:39:22.098Z"
    }
   },
   "outputs": [
    {
     "data": {
      "text/plain": [
       "subproblem (generic function with 1 method)"
      ]
     },
     "execution_count": 35,
     "metadata": {},
     "output_type": "execute_result"
    }
   ],
   "source": [
    "function subproblem(data::Data, volume_in::Float64, FCF::FCF, inflow::Float64)\n",
    "    \n",
    "    t = FCF.stage\n",
    "    T, S, N, cost, rho, generation_max, volume_initial, volume_max, turbine_max, demand, scenarios = unzip(data)\n",
    "    \n",
    "    model = Model()\n",
    "    set_silent(model)\n",
    "\n",
    "    @variable(model, 0 <= thermal_generation[n=1:N] <= generation_max[n])\n",
    "    @variable(model, 0  <= turbined <= turbine_max)\n",
    "    @variable(model, spilled >= 0)\n",
    "    @variable(model, 0 <= volume_out <= volume_max)\n",
    "    @variable(model, dual_fisher)\n",
    "    \n",
    "    @constraint(model, fisher, dual_fisher == volume_in)\n",
    "    @constraint(model, volume_out == dual_fisher + conv*(inflow - turbined - spilled))\n",
    "    @constraint(model, sum(thermal_generation) + turbined*rho == demand[t])\n",
    "        \n",
    "    @objective(model,Min, sum(cost[n] * thermal_generation[n] for n = 1:N))\n",
    "    add_cuts!(model, FCF)\n",
    "    return model\n",
    "end"
   ]
  },
  {
   "cell_type": "code",
   "execution_count": 36,
   "id": "b12770cc",
   "metadata": {
    "ExecuteTime": {
     "end_time": "2022-11-06T00:43:25.106000-03:00",
     "start_time": "2022-11-06T03:43:25.098Z"
    }
   },
   "outputs": [
    {
     "data": {
      "text/plain": [
       "3-element Vector{Vector}:\n",
       " [150.0]\n",
       " [[450.0, 300.0]]\n",
       " [[771.0, 213.0], [771.0, 213.0]]"
      ]
     },
     "execution_count": 36,
     "metadata": {},
     "output_type": "execute_result"
    }
   ],
   "source": [
    "Ω = [\n",
    "    [150.0],\n",
    "    [[450.0, 300.0]],\n",
    "    [[771.0, 213.0],[771.0, 213.0]]\n",
    "]"
   ]
  },
  {
   "cell_type": "code",
   "execution_count": 77,
   "id": "bd5328ac",
   "metadata": {
    "ExecuteTime": {
     "end_time": "2022-11-06T01:05:22.622000-03:00",
     "start_time": "2022-11-06T04:05:22.608Z"
    }
   },
   "outputs": [
    {
     "data": {
      "text/plain": [
       "NBD (generic function with 1 method)"
      ]
     },
     "execution_count": 77,
     "metadata": {},
     "output_type": "execute_result"
    }
   ],
   "source": [
    "function NBD(data, Ω; maxiter = maxiter, timelimit = Inf)\n",
    "    T, S, N, cost, rho, generation_max, volume_initial, volume_max, turbine_max, demand, scenarios = unzip(data)\n",
    "    iter = 1\n",
    "    FCFs = FCF[FCF(Cut[Cut(zeros(1),0.0,zeros(1))],t) for t = 1:length(scenarios)]\n",
    "    println(\"Iter |       LB         |       UB         |  Time\")\n",
    "    println()\n",
    "    t_1 = time_ns()\n",
    "    time = 0.0\n",
    "    K = length.(scenarios)\n",
    "    LBs = []\n",
    "    UBs = []\n",
    "    times = []\n",
    "    idxs = create_paths.(1:T,K)\n",
    "    while iter <= maxiter && time <= timelimit\n",
    "        xs = [[] for t = 1:T]\n",
    "        pi_xis = [[] for t = 1:T]\n",
    "        Q_xis = [[] for t = 1:T]\n",
    "        uks = [[] for t = 1:T]\n",
    "        for t = 1:T\n",
    "            for (k,St) in enumerate(Ω[t])\n",
    "                pi_o = []\n",
    "                Q_o = []\n",
    "                uk_o = []\n",
    "\n",
    "                for inflow in St\n",
    "                    if t == 1\n",
    "                        model = subproblem(data,volume_initial,FCFs[t],inflow)\n",
    "                    else\n",
    "                        model = subproblem(data,xs[t-1][k],FCFs[t],inflow)\n",
    "                    end\n",
    "                    set_optimizer(model, HiGHS.Optimizer)\n",
    "                    set_silent(model)\n",
    "                    optimize!(model)\n",
    "                    value(model[:volume_out])\n",
    "                    push!(xs[t],value(model[:volume_out]))\n",
    "                    pi_xi = dual(constraint_by_name(model, \"fisher\"))\n",
    "                    fcf = value(variable_by_name(model, \"omega_$(t)\"))\n",
    "                    obj_val = objective_value(model)\n",
    "                    stage_obj_val = objective_value(model) - fcf\n",
    "                    push!(pi_o,pi_xi)\n",
    "                    push!(Q_o,obj_val)\n",
    "                    push!(uk_o,stage_obj_val)\n",
    "                end\n",
    "                push!(pi_xis[t],mean(pi_o))\n",
    "                push!(Q_xis[t],mean(Q_o))\n",
    "                push!(uks[t],mean(uk_o))\n",
    "            end\n",
    "        end\n",
    "        UB = sum(mean.(uks))\n",
    "\n",
    "         # Backward Step\n",
    "        for t = T:-1:2\n",
    "            for (k,St) in enumerate(Ω[t])\n",
    "                cut = Cut(pi_xis[t][k],Q_xis[t][k],xs[t-1][k])\n",
    "                push!(FCFs[t-1].cuts,cut)\n",
    "            end\n",
    "        end\n",
    "\n",
    "        ω_1 = scenarios[1][1]\n",
    "        model = subproblem(data,volume_initial,FCFs[1],ω_1)\n",
    "        set_optimizer(model, HiGHS.Optimizer)\n",
    "        set_silent(model)\n",
    "        optimize!(model)\n",
    "        LB = objective_value(model)\n",
    "\n",
    "        # Get elapsed time\n",
    "        t_2 = time_ns()\n",
    "        time = (t_2-t_1)/1e9\n",
    "        \n",
    "        push!(LBs,LB)\n",
    "        push!(times,time)\n",
    "\n",
    "        @printf(\"%3d  |    %11.5e   |    %11.5e   | %5.3f\\n\", iter, LB, UB, time)\n",
    "\n",
    "        iter = iter + 1\n",
    "    end\n",
    "    return FCFs,LBs,UBs,times\n",
    "end"
   ]
  },
  {
   "cell_type": "code",
   "execution_count": 78,
   "id": "932fc2e9",
   "metadata": {
    "ExecuteTime": {
     "end_time": "2022-11-06T01:05:23.136000-03:00",
     "start_time": "2022-11-06T04:05:22.795Z"
    },
    "scrolled": true
   },
   "outputs": [
    {
     "name": "stdout",
     "output_type": "stream",
     "text": [
      "Iter |       LB         |       UB         |  Time\n",
      "\n",
      "  1  |    2.98447e+03   |    7.27642e+04   | 0.004\n",
      "  2  |    1.05809e+04   |    4.81288e+04   | 0.008\n",
      "  3  |    3.78201e+04   |    3.88069e+04   | 0.012\n",
      "  4  |    3.80087e+04   |    3.80087e+04   | 0.016\n",
      "  5  |    3.80087e+04   |    3.80087e+04   | 0.020\n",
      "  6  |    3.80087e+04   |    3.80087e+04   | 0.025\n",
      "  7  |    3.80087e+04   |    3.80087e+04   | 0.029\n",
      "  8  |    3.80087e+04   |    3.80087e+04   | 0.033\n",
      "  9  |    3.80087e+04   |    3.80087e+04   | 0.037\n",
      " 10  |    3.80087e+04   |    3.80087e+04   | 0.042\n"
     ]
    }
   ],
   "source": [
    "FCFs,LBs,UBs,times = NBD(data, Ω, maxiter = 10);"
   ]
  },
  {
   "cell_type": "markdown",
   "id": "81bb170c",
   "metadata": {},
   "source": [
    "## 3) Implement the same model in the SDDP.jl package."
   ]
  },
  {
   "cell_type": "code",
   "execution_count": 15,
   "id": "1ba1bfc5",
   "metadata": {
    "ExecuteTime": {
     "end_time": "2022-11-06T13:11:44.505000-03:00",
     "start_time": "2022-11-06T16:11:44.299Z"
    }
   },
   "outputs": [
    {
     "name": "stdout",
     "output_type": "stream",
     "text": [
      "------------------------------------------------------------------------------\n",
      "                      SDDP.jl (c) Oscar Dowson, 2017-21\n",
      "\n",
      "Problem\n",
      "  Nodes           : 3\n",
      "  State variables : 1\n",
      "  Scenarios       : 4.00000e+00\n",
      "  Existing cuts   : false\n",
      "  Subproblem structure                      : (min, max)\n",
      "    Variables                               : (11, 11)\n",
      "    VariableRef in MOI.LessThan{Float64}    : (7, 8)\n",
      "    VariableRef in MOI.GreaterThan{Float64} : (9, 9)\n",
      "    AffExpr in MOI.EqualTo{Float64}         : (2, 2)\n",
      "Options\n",
      "  Solver          : serial mode\n",
      "  Risk measure    : SDDP.Expectation()\n",
      "  Sampling scheme : SDDP.InSampleMonteCarlo\n",
      "\n",
      "Numerical stability report\n",
      "  Non-zero Matrix range     [1e+00, 3e+00]\n",
      "  Non-zero Objective range  [1e+00, 5e+02]\n",
      "  Non-zero Bounds range     [1e+02, 4e+03]\n",
      "  Non-zero RHS range        [1e+03, 1e+03]\n",
      "No problems detected\n",
      "\n",
      " Iteration    Simulation       Bound         Time (s)    Proc. ID   # Solves\n",
      "        1    1.021674e+05   4.026180e+03   0.000000e+00          1          8\n",
      "        2    3.738470e+04   3.560722e+04   0.000000e+00          1         16\n",
      "        3    5.634086e+04   3.729043e+04   0.000000e+00          1         24\n",
      "        4    2.639359e+04   3.794724e+04   0.000000e+00          1         32\n",
      "        5    4.482086e+04   3.800870e+04   0.000000e+00          1         40\n",
      "        6    2.662726e+04   3.800870e+04   0.000000e+00          1         48\n",
      "        7    2.424581e+04   3.800870e+04   0.000000e+00          1         56\n",
      "        8    4.482086e+04   3.800870e+04   0.000000e+00          1         64\n",
      "        9    2.424581e+04   3.800870e+04   1.600003e-02          1         72\n",
      "       10    5.634086e+04   3.800870e+04   1.600003e-02          1         80\n",
      "\n",
      "Terminating training\n",
      "  Status         : iteration_limit\n",
      "  Total time (s) : 1.600003e-02\n",
      "  Total solves   : 80\n",
      "  Best bound     :  3.800870e+04\n",
      "  Simulation CI  :  4.433880e+04 ± 1.478939e+04\n",
      "------------------------------------------------------------------------------\n"
     ]
    }
   ],
   "source": [
    "model = SDDP.LinearPolicyGraph(\n",
    "    stages = 3,\n",
    "    sense = :Min,\n",
    "    lower_bound = 0.0,\n",
    "    optimizer = HiGHS.Optimizer,\n",
    ") do subproblem, node\n",
    "    \n",
    "    T, S, N, cost, rho, generation_max, volume_initial, volume_max, turbine_max, demand, scenarios = unzip(data)\n",
    "    \n",
    "    model = Model()\n",
    "    set_silent(model)\n",
    "    demand = demand[node]\n",
    "    \n",
    "    @variable(subproblem, 0 <= volume <= volume_max, SDDP.State, initial_value = volume_initial)\n",
    "    @variable(subproblem, 0 <= thermal_generation[n=1:N] <= generation_max[n])\n",
    "    @variable(subproblem, 0 <= turbined <= turbine_max)\n",
    "    @variable(subproblem, spilled >= 0)\n",
    "\n",
    "    @variable(subproblem, inflow)\n",
    "    scenarios = scenarios[node]\n",
    "    K= length(scenarios)\n",
    "    P = (1/K)*ones(K)\n",
    "    SDDP.parameterize(subproblem, scenarios, P) do ω\n",
    "        return JuMP.fix(inflow, ω)\n",
    "    end\n",
    "\n",
    "    @constraint(subproblem, volume.out == volume.in + conv*(inflow - turbined - spilled))\n",
    "    @constraint(subproblem, sum(thermal_generation) + turbined*rho == demand)\n",
    "\n",
    "    @stageobjective(subproblem, sum(cost[n] * thermal_generation[n] for n = 1:N))\n",
    "end\n",
    "\n",
    "SDDP.train(model; iteration_limit = 10)"
   ]
  }
 ],
 "metadata": {
  "@webio": {
   "lastCommId": null,
   "lastKernelId": null
  },
  "kernelspec": {
   "display_name": "Julia 1.8.1",
   "language": "julia",
   "name": "julia-1.8"
  },
  "language_info": {
   "file_extension": ".jl",
   "mimetype": "application/julia",
   "name": "julia",
   "version": "1.8.1"
  },
  "toc": {
   "base_numbering": 1,
   "nav_menu": {},
   "number_sections": true,
   "sideBar": true,
   "skip_h1_title": false,
   "title_cell": "Table of Contents",
   "title_sidebar": "Contents",
   "toc_cell": false,
   "toc_position": {},
   "toc_section_display": true,
   "toc_window_display": false
  }
 },
 "nbformat": 4,
 "nbformat_minor": 5
}
