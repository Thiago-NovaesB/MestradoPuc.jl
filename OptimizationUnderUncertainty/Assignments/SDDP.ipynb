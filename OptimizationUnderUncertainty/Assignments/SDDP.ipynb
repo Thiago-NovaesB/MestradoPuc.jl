{
 "cells": [
  {
   "cell_type": "code",
   "execution_count": 1,
   "id": "9322b126",
   "metadata": {
    "ExecuteTime": {
     "end_time": "2022-11-05T23:47:43.045000-03:00",
     "start_time": "2022-11-06T02:47:33.443Z"
    }
   },
   "outputs": [],
   "source": [
    "using LinearAlgebra\n",
    "using JuMP\n",
    "using HiGHS\n",
    "using SDDP\n",
    "using Statistics\n",
    "using Plots\n",
    "using Random"
   ]
  },
  {
   "cell_type": "code",
   "execution_count": 2,
   "id": "b14941e1",
   "metadata": {},
   "outputs": [],
   "source": [
    "const conv = (30*24*60*60)/1e6;"
   ]
  },
  {
   "cell_type": "code",
   "execution_count": 3,
   "id": "2e3ea049",
   "metadata": {
    "ExecuteTime": {
     "end_time": "2022-11-06T00:23:50.675000-03:00",
     "start_time": "2022-11-06T03:23:50.669Z"
    }
   },
   "outputs": [
    {
     "data": {
      "text/plain": [
       "unzip (generic function with 1 method)"
      ]
     },
     "execution_count": 3,
     "metadata": {},
     "output_type": "execute_result"
    }
   ],
   "source": [
    "struct Data\n",
    "    T::Int\n",
    "    S::Int\n",
    "    N::Int\n",
    "    cost::Vector{Float64}\n",
    "    rho::Float64\n",
    "    generation_max::Vector{Float64}\n",
    "    volume_initial::Float64\n",
    "    volume_max::Float64\n",
    "    turbine_max::Float64\n",
    "    demand::Vector{Float64}\n",
    "    scenarios::Vector{Vector{Float64}}\n",
    "    scenarios_repeat::Array\n",
    "end\n",
    "\n",
    "data = Data(3, #T\n",
    "           2, #S\n",
    "           5, #N\n",
    "           [10,20,40,80,500], #cost\n",
    "           0.96, #rho\n",
    "           [100,150,200,250,1000], #generation_max\n",
    "           2050, #volume_initial\n",
    "           4100, #volume_max\n",
    "           1500, #turbine_max\n",
    "           [1000,1000,1000], #demand\n",
    "           [[150],[450,300],[771,213]], #scenarios\n",
    "           [[150.0], [[450.0, 300.0]], [[771.0, 213.0],[771.0, 213.0]]] #scenarios_repeat\n",
    "           );\n",
    "\n",
    "function unzip(data::Data)\n",
    "    T = data.T\n",
    "    S = data.S\n",
    "    N = data.N\n",
    "    cost = data.cost\n",
    "    rho = data.rho\n",
    "    generation_max = data.generation_max\n",
    "    volume_initial = data.volume_initial\n",
    "    volume_max = data.volume_max\n",
    "    turbine_max = data.turbine_max\n",
    "    demand = data.demand\n",
    "    scenarios = data.scenarios\n",
    "    scenarios_repeat = data.scenarios_repeat\n",
    "    \n",
    "    return T, S, N, cost, rho, generation_max, volume_initial, volume_max, turbine_max, demand, scenarios, scenarios_repeat\n",
    "end"
   ]
  },
  {
   "cell_type": "code",
   "execution_count": 4,
   "id": "e0415183",
   "metadata": {
    "ExecuteTime": {
     "end_time": "2022-11-06T00:23:51.149000-03:00",
     "start_time": "2022-11-06T03:23:51.144Z"
    }
   },
   "outputs": [
    {
     "data": {
      "text/plain": [
       "create_paths (generic function with 1 method)"
      ]
     },
     "execution_count": 4,
     "metadata": {},
     "output_type": "execute_result"
    }
   ],
   "source": [
    "function tree(node,S)\n",
    "    return [(node...,s) for s in 1:S]\n",
    "end\n",
    "\n",
    "function create_paths(T, S)\n",
    "    temp = Int.(Tuple([1, (zeros(T-1).+S)...]))\n",
    "    paths = []\n",
    "    foreach(path->push!(paths,Tuple(path)),CartesianIndices(temp))\n",
    "    return paths\n",
    "end"
   ]
  },
  {
   "cell_type": "markdown",
   "id": "c3234c89",
   "metadata": {},
   "source": [
    "## 1) Implement and solve the deterministic equivalent for the hydrothermal scheduling problem in Section 6."
   ]
  },
  {
   "cell_type": "code",
   "execution_count": 5,
   "id": "adf9b74e",
   "metadata": {
    "ExecuteTime": {
     "end_time": "2022-11-06T00:23:52.142000-03:00",
     "start_time": "2022-11-06T03:23:52.112Z"
    }
   },
   "outputs": [
    {
     "data": {
      "text/plain": [
       "deterministic_equivalent (generic function with 1 method)"
      ]
     },
     "execution_count": 5,
     "metadata": {},
     "output_type": "execute_result"
    }
   ],
   "source": [
    "function deterministic_equivalent(data::Data)\n",
    "    \n",
    "    model = Model(HiGHS.Optimizer)\n",
    "    set_silent(model)\n",
    "    \n",
    "    T, S, N, cost, rho, generation_max, volume_initial, volume_max, turbine_max, demand, scenarios, scenarios_repeat = unzip(data)\n",
    "    \n",
    "    idxs = create_paths.(1:T,S)\n",
    "    idxs_vol = create_paths.(1:T+1,S)\n",
    "    \n",
    "    volume = model[:volume] = []\n",
    "    omega = model[:omega] = []\n",
    "    turbined = model[:turbined] = []\n",
    "    thermal_generation = model[:thermal_generation] = []\n",
    "    spilled = model[:spilled] = []\n",
    "    \n",
    "    @variable(model, objective_stage[t in 1:T], base_name=\"obj\", lower_bound = 0)\n",
    "    for (t, idx) in enumerate(idxs_vol)\n",
    "        push!(volume, @variable(model, [i in idx], base_name=\"volume_$t\", lower_bound = 0, upper_bound =  data.volume_max))\n",
    "    end\n",
    "    for (t, idx) in enumerate(idxs)\n",
    "        push!(omega, @variable(model, [idx], base_name=\"omega_$t\", lower_bound = 0))\n",
    "        push!(turbined, @variable(model, [idx], base_name=\"turbined_$t\", lower_bound = 0))\n",
    "        push!(thermal_generation, @variable(model, [idx, 1:N], base_name=\"thermal_generation_$t\", lower_bound = 0))\n",
    "        push!(spilled, @variable(model, [idx], base_name=\"spilled_$t\", lower_bound = 0))\n",
    "    end\n",
    "\n",
    "    @constraint(model, volume[1][(1,)] == data.volume_initial)\n",
    "    for t = 1:T, scen in idxs[t]\n",
    "        s = scen[t]\n",
    "        inflow = scenarios[t][s]\n",
    "        obj = sum(cost[n]*thermal_generation[t][scen,n] for n in 1:N)\n",
    "        @constraint(model, omega[t][scen] == obj)\n",
    "        @constraint(model, turbined[t][scen]*rho + sum(thermal_generation[t][scen,n] for n in 1:N) == demand[t])\n",
    "        @constraint(model, turbined[t][scen] <= data.turbine_max)\n",
    "        @constraint(model, [n in 1:N], thermal_generation[t][scen,n] <= data.generation_max[n])\n",
    "        for node in tree(scen,S)\n",
    "            @constraint(model, volume[t+1][node] == volume[t][scen] + conv*(inflow - turbined[t][scen] - spilled[t][scen]))\n",
    "        end\n",
    "        @constraint(model, objective_stage[t] == 1/length(idxs[t]).*sum([omega[t]...]))\n",
    "    end\n",
    "    @objective(model, Min, sum(objective_stage));\n",
    "    return model\n",
    "end"
   ]
  },
  {
   "cell_type": "code",
   "execution_count": 6,
   "id": "b070967e",
   "metadata": {
    "ExecuteTime": {
     "end_time": "2022-11-06T00:23:53.570000-03:00",
     "start_time": "2022-11-06T03:23:52.621Z"
    },
    "scrolled": true
   },
   "outputs": [
    {
     "data": {
      "text/plain": [
       "38008.69629629629"
      ]
     },
     "execution_count": 6,
     "metadata": {},
     "output_type": "execute_result"
    }
   ],
   "source": [
    "model = deterministic_equivalent(data)\n",
    "optimize!(model)\n",
    "objective_value(model)"
   ]
  },
  {
   "cell_type": "markdown",
   "id": "aadedfe8",
   "metadata": {},
   "source": [
    "## 2) Implement the nested Benders decomposition also detailed in Section 6."
   ]
  },
  {
   "cell_type": "code",
   "execution_count": 7,
   "id": "622f98ef",
   "metadata": {
    "ExecuteTime": {
     "end_time": "2022-11-06T00:23:53.759000-03:00",
     "start_time": "2022-11-06T03:23:53.755Z"
    }
   },
   "outputs": [
    {
     "data": {
      "text/plain": [
       "create_subproblem (generic function with 1 method)"
      ]
     },
     "execution_count": 7,
     "metadata": {},
     "output_type": "execute_result"
    }
   ],
   "source": [
    "struct Cut\n",
    "    pi::Union{Float64,Array{Float64}}\n",
    "    Q::Float64\n",
    "    v::Union{Float64,Array{Float64}}\n",
    "end\n",
    "\n",
    "struct FCF\n",
    "    cuts::Array{Cut}\n",
    "    stage::Int64\n",
    "end\n",
    "\n",
    "function create_subproblem(data::Data, volume_in::Float64, FCF::FCF, inflow::Float64)\n",
    "    \n",
    "    T, S, N, cost, rho, generation_max, volume_initial, volume_max, turbine_max, demand, scenarios, scenarios_repeat = unzip(data)\n",
    "    \n",
    "    model = Model()\n",
    "    set_silent(model)\n",
    "\n",
    "    @variable(model, 0 <= thermal_generation[n=1:N] <= generation_max[n])\n",
    "    @variable(model, 0  <= turbined <= turbine_max)\n",
    "    @variable(model, spilled >= 0)\n",
    "    @variable(model, 0 <= volume_out <= volume_max)\n",
    "    @variable(model, dual_fisher)\n",
    "    \n",
    "    @constraint(model, fisher, dual_fisher == volume_in)\n",
    "    @constraint(model, volume_out == dual_fisher + conv*(inflow - turbined - spilled))\n",
    "    @constraint(model, sum(thermal_generation) + turbined*rho == demand[FCF.stage])  \n",
    "    model[:omega_t] = omega_t = @variable(model, base_name = \"omega_$(FCF.stage)\")\n",
    "    for cut in FCF.cuts\n",
    "        @constraint(model, omega_t >= sum(cut.pi .* (volume_out .- cut.v)) + cut.Q)\n",
    "    end\n",
    "\n",
    "    @objective(model,Min, sum(cost[n] * thermal_generation[n] for n = 1:N) + omega_t)\n",
    "    \n",
    "    return model\n",
    "end"
   ]
  },
  {
   "cell_type": "code",
   "execution_count": 9,
   "id": "bd5328ac",
   "metadata": {
    "ExecuteTime": {
     "end_time": "2022-11-06T01:05:22.622000-03:00",
     "start_time": "2022-11-06T04:05:22.608Z"
    }
   },
   "outputs": [
    {
     "data": {
      "text/plain": [
       "nested_benders_decomposition (generic function with 1 method)"
      ]
     },
     "execution_count": 9,
     "metadata": {},
     "output_type": "execute_result"
    }
   ],
   "source": [
    "function nested_benders_decomposition(data; maxiter = maxiter)\n",
    "    T, S, N, cost, rho, generation_max, volume_initial, volume_max, turbine_max, demand, scenarios, scenarios_repeat = unzip(data)\n",
    "    iter = 1\n",
    "    FCFs = FCF[FCF(Cut[Cut(zeros(3)...)],t) for t = 1:length(scenarios)]\n",
    "    \n",
    "    K = length.(scenarios)\n",
    "    idxs = create_paths.(1:T,K)\n",
    "    while iter <= maxiter\n",
    "        vs = [[] for t = 1:T]\n",
    "        pis = [[] for t = 1:T]\n",
    "        Qs = [[] for t = 1:T]\n",
    "        us = [[] for t = 1:T]\n",
    "        for t = 1:T, (k,St) in enumerate(scenarios_repeat[t])\n",
    "            pi = 0.0\n",
    "            Q = 0.0\n",
    "            u = 0.0\n",
    "            for inflow in St\n",
    "                volume = (t == 1 ? volume_initial : vs[t-1][k])\n",
    "                model = create_subproblem(data, volume, FCFs[t], inflow)\n",
    "                set_optimizer(model, HiGHS.Optimizer)\n",
    "                optimize!(model)\n",
    "                push!(vs[t], value(model[:volume_out]))\n",
    "                pi += dual(constraint_by_name(model, \"fisher\"))\n",
    "                Q += objective_value(model)\n",
    "                u += objective_value(model) - value(variable_by_name(model, \"omega_$(t)\"))\n",
    "            end\n",
    "            push!(pis[t], pi/length(St))\n",
    "            push!(Qs[t],Q/length(St))\n",
    "            push!(us[t],u/length(St))\n",
    "        end\n",
    "        global UB = sum(mean.(us))\n",
    "\n",
    "        for t = T:-1:2, (k,St) in enumerate(scenarios_repeat[t])\n",
    "            cut = Cut(pis[t][k],Qs[t][k],vs[t-1][k])\n",
    "            push!(FCFs[t-1].cuts,cut)\n",
    "        end\n",
    "\n",
    "        ω_1 = scenarios[1][1]\n",
    "        model = create_subproblem(data,volume_initial,FCFs[1],ω_1)\n",
    "        set_optimizer(model, HiGHS.Optimizer)\n",
    "        optimize!(model)\n",
    "        global LB = objective_value(model)\n",
    "\n",
    "        iter = iter + 1\n",
    "    end\n",
    "    return LB, UB\n",
    "end"
   ]
  },
  {
   "cell_type": "code",
   "execution_count": 10,
   "id": "932fc2e9",
   "metadata": {
    "ExecuteTime": {
     "end_time": "2022-11-06T01:05:23.136000-03:00",
     "start_time": "2022-11-06T04:05:22.795Z"
    },
    "scrolled": true
   },
   "outputs": [
    {
     "name": "stdout",
     "output_type": "stream",
     "text": [
      "LB = 38008.6962962963\n",
      "UB = 38008.6962962963\n"
     ]
    }
   ],
   "source": [
    "LB,UB = nested_benders_decomposition(data, maxiter = 10);\n",
    "@show LB;\n",
    "@show UB;"
   ]
  },
  {
   "cell_type": "markdown",
   "id": "99b89415",
   "metadata": {},
   "source": [
    "## 3) Implement the same model in the SDDP.jl package."
   ]
  },
  {
   "cell_type": "code",
   "execution_count": 11,
   "id": "1ba1bfc5",
   "metadata": {
    "ExecuteTime": {
     "end_time": "2022-11-06T13:11:44.505000-03:00",
     "start_time": "2022-11-06T16:11:44.299Z"
    }
   },
   "outputs": [
    {
     "name": "stdout",
     "output_type": "stream",
     "text": [
      "------------------------------------------------------------------------------\n",
      "                      SDDP.jl (c) Oscar Dowson, 2017-21\n",
      "\n",
      "Problem\n",
      "  Nodes           : 3\n",
      "  State variables : 1\n",
      "  Scenarios       : 4.00000e+00\n",
      "  Existing cuts   : false\n",
      "  Subproblem structure                      : (min, max)\n",
      "    Variables                               : (11, 11)\n",
      "    VariableRef in MOI.LessThan{Float64}    : (7, 8)\n",
      "    VariableRef in MOI.GreaterThan{Float64} : (9, 9)\n",
      "    AffExpr in MOI.EqualTo{Float64}         : (2, 2)\n",
      "Options\n",
      "  Solver          : serial mode\n",
      "  Risk measure    : SDDP.Expectation()\n",
      "  Sampling scheme : SDDP.InSampleMonteCarlo\n",
      "\n",
      "Numerical stability report\n",
      "  Non-zero Matrix range     [1e+00, 3e+00]\n",
      "  Non-zero Objective range  [1e+00, 5e+02]\n",
      "  Non-zero Bounds range     [1e+02, 4e+03]\n",
      "  Non-zero RHS range        [1e+03, 1e+03]\n",
      "No problems detected\n",
      "\n",
      " Iteration    Simulation       Bound         Time (s)    Proc. ID   # Solves\n",
      "        1    4.336101e+04   4.026180e+03   2.068000e+00          1          8\n",
      "        2    5.279468e+04   3.560722e+04   2.140000e+00          1         16\n",
      "        3    5.041043e+04   3.638590e+04   2.141000e+00          1         24\n",
      "        4    2.424581e+04   3.795028e+04   2.142000e+00          1         32\n",
      "        5    2.424581e+04   3.795028e+04   2.261000e+00          1         40\n",
      "        6    5.797657e+04   3.800870e+04   2.262000e+00          1         48\n",
      "        7    2.662726e+04   3.800870e+04   2.263000e+00          1         56\n",
      "        8    5.634086e+04   3.800870e+04   2.265000e+00          1         64\n",
      "        9    4.482086e+04   3.800870e+04   2.266000e+00          1         72\n",
      "       10    4.482086e+04   3.800870e+04   2.267000e+00          1         80\n",
      "\n",
      "Terminating training\n",
      "  Status         : iteration_limit\n",
      "  Total time (s) : 2.267000e+00\n",
      "  Total solves   : 80\n",
      "  Best bound     :  3.800870e+04\n",
      "  Simulation CI  :  4.256441e+04 ± 8.079957e+03\n",
      "------------------------------------------------------------------------------\n"
     ]
    }
   ],
   "source": [
    "model = SDDP.LinearPolicyGraph(\n",
    "    stages = 3,\n",
    "    sense = :Min,\n",
    "    lower_bound = 0.0,\n",
    "    optimizer = HiGHS.Optimizer,\n",
    ") do subproblem, node\n",
    "    \n",
    "    T, S, N, cost, rho, generation_max, volume_initial, volume_max, turbine_max, demand, scenarios, scenarios_repeat = unzip(data)\n",
    "    \n",
    "    model = Model()\n",
    "    demand = demand[node]\n",
    "    \n",
    "    @variable(subproblem, 0 <= volume <= volume_max, SDDP.State, initial_value = volume_initial)\n",
    "    @variable(subproblem, 0 <= thermal_generation[n=1:N] <= generation_max[n])\n",
    "    @variable(subproblem, 0 <= turbined <= turbine_max)\n",
    "    @variable(subproblem, spilled >= 0)\n",
    "    @variable(subproblem, inflow)\n",
    "    scen = scenarios[node]\n",
    "    K = length(scen)\n",
    "    P = (1/K)*ones(K)\n",
    "    SDDP.parameterize(subproblem, scen, P) do ω\n",
    "        return JuMP.fix(inflow, ω)\n",
    "    end\n",
    "\n",
    "    @constraint(subproblem, volume.out == volume.in + conv*(inflow - turbined - spilled))\n",
    "    @constraint(subproblem, sum(thermal_generation) + turbined*rho == demand)\n",
    "\n",
    "    @stageobjective(subproblem, sum(cost[n] * thermal_generation[n] for n = 1:N))\n",
    "end\n",
    "\n",
    "SDDP.train(model; iteration_limit = 10)"
   ]
  }
 ],
 "metadata": {
  "@webio": {
   "lastCommId": null,
   "lastKernelId": null
  },
  "kernelspec": {
   "display_name": "Julia 1.8.1",
   "language": "julia",
   "name": "julia-1.8"
  },
  "language_info": {
   "file_extension": ".jl",
   "mimetype": "application/julia",
   "name": "julia",
   "version": "1.8.1"
  },
  "toc": {
   "base_numbering": 1,
   "nav_menu": {},
   "number_sections": true,
   "sideBar": true,
   "skip_h1_title": false,
   "title_cell": "Table of Contents",
   "title_sidebar": "Contents",
   "toc_cell": false,
   "toc_position": {},
   "toc_section_display": true,
   "toc_window_display": false
  }
 },
 "nbformat": 4,
 "nbformat_minor": 5
}
