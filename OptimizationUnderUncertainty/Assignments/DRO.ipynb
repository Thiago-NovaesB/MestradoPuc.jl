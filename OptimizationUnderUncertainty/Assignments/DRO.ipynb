{
 "cells": [
  {
   "cell_type": "code",
   "execution_count": 1,
   "id": "1c77d2a9",
   "metadata": {},
   "outputs": [],
   "source": [
    "using JuMP\n",
    "using HiGHS"
   ]
  },
  {
   "cell_type": "markdown",
   "id": "6465ba63",
   "metadata": {},
   "source": [
    "## 1) Formulate a DRO model for the newsvendor problem. Assume a known expected demand of 100 and a support set of [50,150] to build the ambiguity set. Develop and solve the single level problem."
   ]
  },
  {
   "cell_type": "markdown",
   "id": "4c718411",
   "metadata": {},
   "source": [
    "$$\n",
    "\\begin{aligned}\n",
    "    &\\min && cx + max_{q \\geq 0} \\Sigma_s q_s Q(x,d_s) \\\\\n",
    "    & st && 0 \\leq x \\leq u \\\\\n",
    "        &&& \\Sigma_s q_s = 1\\\\\n",
    "        &&& \\Sigma_s q_sd_s = \\bar{d}\\\\\n",
    "        &&& Q(x,d) =\n",
    "     \\begin{aligned}[t]\n",
    "        &\\min && -qy-rz \\\\\n",
    "            & st && y \\leq d \\\\\n",
    "            &&& y+z \\leq x\\\\\n",
    "            &&& y, z \\geq 0\\\\\n",
    "     \\end{aligned}\\\\\n",
    "\\end{aligned}\n",
    "$$"
   ]
  },
  {
   "cell_type": "markdown",
   "id": "4efd5083",
   "metadata": {},
   "source": [
    "$$\n",
    "\\begin{aligned}\n",
    "    &\\min && cx + D(x,d) \\\\\n",
    "    & st && 0 \\leq x \\leq u \\\\\n",
    "        &&& D(x,d) =\n",
    "     \\begin{aligned}[t]\n",
    "        &\\min && \\lambda +\\mu \\bar{d} \\\\\n",
    "            & st && y \\leq d \\\\\n",
    "            &&& \\mu d_s +\\lambda \\geq -qy_s - rz_s\\\\\n",
    "            &&& y_s+z_s \\leq x\\\\\n",
    "            &&& y_s, z_s \\geq 0\\\\\n",
    "            &&& \\lambda, \\mu \\\\\n",
    "     \\end{aligned}\\\\\n",
    "\\end{aligned}\n",
    "$$"
   ]
  },
  {
   "cell_type": "markdown",
   "id": "1090b9d3",
   "metadata": {},
   "source": [
    "$$\n",
    "\\begin{aligned}\n",
    "    &\\min && cx + \\lambda +\\mu \\bar{d} \\\\\n",
    "    & st && 0 \\leq x \\leq u \\\\\n",
    "        &&& y \\leq d \\\\\n",
    "        &&& \\mu d_s +\\lambda \\geq -qy_s - rz_s\\\\\n",
    "        &&& y_s+z_s \\leq x\\\\\n",
    "        &&& y_s, z_s \\geq 0\\\\\n",
    "        &&& \\lambda, \\mu \\\\\n",
    "\\end{aligned}\n",
    "$$"
   ]
  },
  {
   "cell_type": "code",
   "execution_count": 4,
   "id": "b3c67a3c",
   "metadata": {},
   "outputs": [
    {
     "data": {
      "text/plain": [
       "newsboy_optimal (generic function with 1 method)"
      ]
     },
     "execution_count": 4,
     "metadata": {},
     "output_type": "execute_result"
    }
   ],
   "source": [
    "struct NewsboyData\n",
    "    u::Float64\n",
    "    c::Float64\n",
    "    q::Float64\n",
    "    r::Float64\n",
    "    d::Vector{Float64}\n",
    "    d_mean::Float64\n",
    "end\n",
    "\n",
    "function get_newsboy_data(data::NewsboyData)\n",
    "    u = data.u\n",
    "    c = data.c\n",
    "    q = data.q\n",
    "    r = data.r\n",
    "    d = data.d\n",
    "    d_mean = data.d_mean\n",
    "    return u, c, q, r, d, d_mean\n",
    "end\n",
    "\n",
    "function newsboy_optimal(data::NewsboyData)\n",
    "    \n",
    "    u, c, q, r, d, d_mean = get_newsboy_data(data)\n",
    "    S = length(d)\n",
    "    \n",
    "    model = Model(HiGHS.Optimizer)\n",
    "    MOI.set(model, JuMP.MOI.Silent(), true)\n",
    "    @variable(model, 0<=x<=u)\n",
    "    @variable(model, 0<=y[s=1:S]<=d[s])\n",
    "    @variable(model, 0<=z[1:S])\n",
    "    @variable(model, mu)\n",
    "    @variable(model, lambda)\n",
    "\n",
    "    @constraint(model,[s = 1:S], y[s] + z[s] <= x)\n",
    "    @constraint(model,[s = 1:S], mu*d[s] + lambda ≥ -q * y[s] - r * z[s])\n",
    "\n",
    "    @objective(model, Min,c*x + lambda + mu*d_mean)\n",
    "\n",
    "    optimize!(model)\n",
    "    return objective_value(model), value(model[:x])\n",
    "end"
   ]
  },
  {
   "cell_type": "code",
   "execution_count": 5,
   "id": "b3589530",
   "metadata": {},
   "outputs": [
    {
     "data": {
      "text/plain": [
       "(-1250.0, 150.0)"
      ]
     },
     "execution_count": 5,
     "metadata": {},
     "output_type": "execute_result"
    }
   ],
   "source": [
    "data = NewsboyData(150,10,25,5,collect(50:150),100)\n",
    "obj1, x = newsboy_optimal(data)"
   ]
  },
  {
   "cell_type": "markdown",
   "id": "9b3d6bd2",
   "metadata": {},
   "source": [
    "## 2) Formulate a DRO model for the farmer's problem. Assume a choose expected productivity and associated support set to build the ambiguity set. Develop and solve the single level problem."
   ]
  },
  {
   "cell_type": "markdown",
   "id": "e5bc8d3b",
   "metadata": {},
   "source": [
    "$$\n",
    "\\begin{aligned}\n",
    "    &\\min && 150a_1 + 230a_2 + 260a_3 + max_{q \\geq 0} \\Sigma_s q_s Q(a,s)  \\\\\n",
    "    & st && a_1+a_2+a_3 = 500\\\\\n",
    "        &&& 0 \\leq a_1, a_2, a_3 \\\\\n",
    "        &&& \\Sigma_s q_s = 1\\\\\n",
    "        &&& \\Sigma_s q_sd_s = \\bar{d}\\\\\n",
    "\\end{aligned}\n",
    "$$\n",
    "\n",
    "$$\n",
    "\\begin{aligned}\n",
    "   Q(a,s) = &\\min && 238c_1 + 210c_2 - 170v_1 - 150v_2 - l_3   \\\\\n",
    "    & st && p_1 + c_1 - v_1 \\geq 200\\\\\n",
    "        &&& p_2 + c_2 - v_2 \\geq 240\\\\\n",
    "        &&& l_3 \\leq 36p_3\\\\\n",
    "        &&& l_3 \\leq 10(p_3-6000) + 36*6000\\\\\n",
    "        &&& p_1 = a_1s_1\\\\\n",
    "        &&& p_2 = a_2s_2\\\\\n",
    "        &&& p_3 = a_3s_3\\\\\n",
    "        &&& 0 \\leq p_1, p_2, p_3\\\\\n",
    "        &&& 0 \\leq c_1, c_2, v_1, v_2\\\\\n",
    "        &&& 0 \\leq l_3\n",
    "\\end{aligned}\n",
    "$$"
   ]
  },
  {
   "cell_type": "markdown",
   "id": "f828298f",
   "metadata": {},
   "source": [
    "$$\n",
    "\\begin{aligned}\n",
    "    &\\min && 150a_1 + 230a_2 + 260a_3 + D(a,s)  \\\\\n",
    "    & st && a_1+a_2+a_3 = 500\\\\\n",
    "        &&& 0 \\leq a_1, a_2, a_3 \\\\\n",
    "\\end{aligned}\n",
    "$$\n",
    "\n",
    "$$\n",
    "\\begin{aligned}\n",
    "   D(a,s) = &\\min && \\lambda +\\mu \\bar{d}   \\\\\n",
    "    & st && p_1 + c_1 - v_1 \\geq 200\\\\\n",
    "        &&& p_2 + c_2 - v_2 \\geq 240\\\\\n",
    "        &&& l_3 \\leq 36p_3\\\\\n",
    "        &&& l_3 \\leq 10(p_3-6000) + 36*6000\\\\\n",
    "        &&& p_1 = a_1s_1\\\\\n",
    "        &&& p_2 = a_2s_2\\\\\n",
    "        &&& p_3 = a_3s_3\\\\\n",
    "        &&& 0 \\leq p_1, p_2, p_3\\\\\n",
    "        &&& 0 \\leq c_1, c_2, v_1, v_2\\\\\n",
    "        &&& 0 \\leq l_3\\\\\n",
    "        &&& \\mu s_1 +\\lambda \\geq 238c_1 + 210c_2 - 170v_1 - 150v_2 - l_3\\\\\n",
    "        &&& \\mu s_2 +\\lambda \\geq 238c_1 + 210c_2 - 170v_1 - 150v_2 - l_3\\\\\n",
    "        &&& \\mu s_3 +\\lambda \\geq 238c_1 + 210c_2 - 170v_1 - 150v_2 - l_3\\\\\n",
    "        &&& \\lambda, \\mu\\\\\n",
    "\\end{aligned}\n",
    "$$"
   ]
  },
  {
   "cell_type": "markdown",
   "id": "2d0d8db2",
   "metadata": {},
   "source": [
    "$$\n",
    "\\begin{aligned}\n",
    "    &\\min && 150a_1 + 230a_2 + 260a_3 + \\lambda +\\mu \\bar{d} \\\\\n",
    "    & st && a_1+a_2+a_3 = 500\\\\\n",
    "        &&& 0 \\leq a_1, a_2, a_3 \\\\\n",
    "        &&& p_1 + c_1 - v_1 \\geq 200\\\\\n",
    "        &&& p_2 + c_2 - v_2 \\geq 240\\\\\n",
    "        &&& l_3 \\leq 36p_3\\\\\n",
    "        &&& l_3 \\leq 10(p_3-6000) + 36*6000\\\\\n",
    "        &&& p_1 = a_1s_1\\\\\n",
    "        &&& p_2 = a_2s_2\\\\\n",
    "        &&& p_3 = a_3s_3\\\\\n",
    "        &&& 0 \\leq p_1, p_2, p_3\\\\\n",
    "        &&& 0 \\leq c_1, c_2, v_1, v_2\\\\\n",
    "        &&& 0 \\leq l_3\\\\\n",
    "        &&& \\mu s_1 +\\lambda \\geq 238c_1 + 210c_2 - 170v_1 - 150v_2 - l_3\\\\\n",
    "        &&& \\mu s_2 +\\lambda \\geq 238c_1 + 210c_2 - 170v_1 - 150v_2 - l_3\\\\\n",
    "        &&& \\mu s_3 +\\lambda \\geq 238c_1 + 210c_2 - 170v_1 - 150v_2 - l_3\\\\\n",
    "        &&& \\lambda, \\mu\\\\\n",
    "\\end{aligned}\n",
    "$$"
   ]
  },
  {
   "cell_type": "code",
   "execution_count": 14,
   "id": "dc80bc1d",
   "metadata": {},
   "outputs": [
    {
     "data": {
      "text/plain": [
       "farmer_optimal (generic function with 1 method)"
      ]
     },
     "metadata": {},
     "output_type": "display_data"
    }
   ],
   "source": [
    "function farmer_optimal()\n",
    "    \n",
    "    model = Model(HiGHS.Optimizer)\n",
    "    MOI.set(model, JuMP.MOI.Silent(), true)\n",
    "    mean = [2.5, 3, 20]\n",
    "    rate = [2 2.5 3\n",
    "            2.4 3 3.6\n",
    "            16 20 24]\n",
    "    \n",
    "    @variable(model, 0<=a[1:3])\n",
    "    @variable(model, 0<=c[1:2,1:3])\n",
    "    @variable(model, 0<=v[1:2,1:3])\n",
    "    @variable(model, 0<=l[1:3])\n",
    "    @variable(model, mu[1:3])\n",
    "    @variable(model, lambda)\n",
    "    \n",
    "    \n",
    "    @expression(model,p[i=1:3,j=1:3], a[i]*rate[i,j])\n",
    "    \n",
    "    \n",
    "    @constraint(model, sum(a) <= 500)\n",
    "    @constraint(model, [i=1:3], p[1,i] + c[1,i] - v[1,i] >= 200 )\n",
    "    @constraint(model, [i=1:3], p[2,i] + c[2,i] - v[2,i] >= 240 )\n",
    "    @constraint(model, [i=1:3], l[i] <= 36*p[3,i] )\n",
    "    @constraint(model, [i=1:3], l[i] <= 10*(p[3,i]-6000) + 36*6000)\n",
    "    \n",
    "    @constraint(model, [i=1:3], sum(mu.*rate[:,i]) + lambda >=\n",
    "        238*c[1,i] + 210*c[2,i] - 170*v[1,i] - 150*v[2,i] - l[i])\n",
    "    \n",
    "    \n",
    "    @objective(model, Min, 150a[1] + 230a[2] + 260a[3] + lambda + sum(mu.*mean))\n",
    "\n",
    "    optimize!(model)\n",
    "    return objective_value(model), value.(model[:a])\n",
    "end"
   ]
  },
  {
   "cell_type": "code",
   "execution_count": 15,
   "id": "8bffa9ea",
   "metadata": {},
   "outputs": [
    {
     "data": {
      "text/plain": [
       "(-108250.0, [150.0, 100.0, 250.0])"
      ]
     },
     "metadata": {},
     "output_type": "display_data"
    }
   ],
   "source": [
    "farmer_optimal()"
   ]
  },
  {
   "cell_type": "code",
   "execution_count": null,
   "id": "4e623eda",
   "metadata": {},
   "outputs": [],
   "source": []
  }
 ],
 "metadata": {
  "kernelspec": {
   "display_name": "Julia 1.6.1",
   "language": "julia",
   "name": "julia-1.6"
  },
  "language_info": {
   "file_extension": ".jl",
   "mimetype": "application/julia",
   "name": "julia",
   "version": "1.6.1"
  }
 },
 "nbformat": 4,
 "nbformat_minor": 5
}
