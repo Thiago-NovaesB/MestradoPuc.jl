{
 "cells": [
  {
   "cell_type": "markdown",
   "id": "6db3acbe",
   "metadata": {},
   "source": [
    "## Import Packages"
   ]
  },
  {
   "cell_type": "code",
   "execution_count": null,
   "id": "283ed7a3",
   "metadata": {},
   "outputs": [],
   "source": [
    "using JuMP;\n",
    "using Plots;\n",
    "using HiGHS;\n",
    "using CSV;\n",
    "using DataFrames;"
   ]
  },
  {
   "cell_type": "markdown",
   "id": "e7a73a50",
   "metadata": {},
   "source": [
    "## Load Data"
   ]
  },
  {
   "cell_type": "code",
   "execution_count": 3,
   "id": "bf23a52d",
   "metadata": {},
   "outputs": [
    {
     "ename": "LoadError",
     "evalue": "ArgumentError: \"MER_T07_01.csv\" is not a valid file or doesn't exist",
     "output_type": "error",
     "traceback": [
      "ArgumentError: \"MER_T07_01.csv\" is not a valid file or doesn't exist",
      "",
      "Stacktrace:",
      " [1] CSV.Context(source::CSV.Arg, header::CSV.Arg, normalizenames::CSV.Arg, datarow::CSV.Arg, skipto::CSV.Arg, footerskip::CSV.Arg, transpose::CSV.Arg, comment::CSV.Arg, ignoreemptyrows::CSV.Arg, ignoreemptylines::CSV.Arg, select::CSV.Arg, drop::CSV.Arg, limit::CSV.Arg, buffer_in_memory::CSV.Arg, threaded::CSV.Arg, ntasks::CSV.Arg, tasks::CSV.Arg, rows_to_check::CSV.Arg, lines_to_check::CSV.Arg, missingstrings::CSV.Arg, missingstring::CSV.Arg, delim::CSV.Arg, ignorerepeated::CSV.Arg, quoted::CSV.Arg, quotechar::CSV.Arg, openquotechar::CSV.Arg, closequotechar::CSV.Arg, escapechar::CSV.Arg, dateformat::CSV.Arg, dateformats::CSV.Arg, decimal::CSV.Arg, truestrings::CSV.Arg, falsestrings::CSV.Arg, stripwhitespace::CSV.Arg, type::CSV.Arg, types::CSV.Arg, typemap::CSV.Arg, pool::CSV.Arg, downcast::CSV.Arg, lazystrings::CSV.Arg, stringtype::CSV.Arg, strict::CSV.Arg, silencewarnings::CSV.Arg, maxwarnings::CSV.Arg, debug::CSV.Arg, parsingdebug::CSV.Arg, validate::CSV.Arg, streaming::CSV.Arg)",
      "   @ CSV C:\\Users\\thiag\\.julia\\packages\\CSV\\cHirL\\src\\context.jl:236",
      " [2] #File#25",
      "   @ C:\\Users\\thiag\\.julia\\packages\\CSV\\cHirL\\src\\file.jl:221 [inlined]",
      " [3] File",
      "   @ C:\\Users\\thiag\\.julia\\packages\\CSV\\cHirL\\src\\file.jl:221 [inlined]",
      " [4] read(source::String, sink::Type; copycols::Bool, kwargs::Base.Pairs{Symbol, Union{}, Tuple{}, NamedTuple{(), Tuple{}}})",
      "   @ CSV C:\\Users\\thiag\\.julia\\packages\\CSV\\cHirL\\src\\CSV.jl:91",
      " [5] read(source::String, sink::Type)",
      "   @ CSV C:\\Users\\thiag\\.julia\\packages\\CSV\\cHirL\\src\\CSV.jl:88",
      " [6] top-level scope",
      "   @ In[3]:1",
      " [7] eval",
      "   @ .\\boot.jl:373 [inlined]",
      " [8] include_string(mapexpr::typeof(REPL.softscope), mod::Module, code::String, filename::String)",
      "   @ Base .\\loading.jl:1196"
     ]
    }
   ],
   "source": [
    "data = CSV.read(\"MER_T07_01.csv\", DataFrame);\n",
    "YYYYMM = data[!,\"YYYYMM\"]\n",
    "index = mod.(YYYYMM,100) .!= 13 \n",
    "Value = data[!,\"Value\"]\n",
    "y = parse.(Float64,Value[index][1:588])\n",
    "y_insample = y[1:120]\n",
    "y_outofsample =y[121:132]\n",
    "n = length(y_insample)"
   ]
  },
  {
   "cell_type": "code",
   "execution_count": 5,
   "id": "67632ea6",
   "metadata": {},
   "outputs": [
    {
     "name": "stdout",
     "output_type": "stream",
     "text": [
      "C:\\Users\\thiag\n"
     ]
    }
   ],
   "source": [
    ";cd"
   ]
  },
  {
   "cell_type": "code",
   "execution_count": null,
   "id": "e64bd0af",
   "metadata": {},
   "outputs": [],
   "source": []
  }
 ],
 "metadata": {
  "kernelspec": {
   "display_name": "Julia 1.8.1",
   "language": "julia",
   "name": "julia-1.8"
  },
  "language_info": {
   "file_extension": ".jl",
   "mimetype": "application/julia",
   "name": "julia",
   "version": "1.7.2"
  }
 },
 "nbformat": 4,
 "nbformat_minor": 5
}
