{
 "cells": [
  {
   "cell_type": "code",
   "execution_count": 3,
   "id": "3d68f495",
   "metadata": {},
   "outputs": [],
   "source": [
    "using JuMP\n",
    "using HiGHS"
   ]
  },
  {
   "cell_type": "markdown",
   "id": "15c23950",
   "metadata": {},
   "source": [
    "<ol>\n",
    "  <li></li>\n",
    "  <li>OK</li>\n",
    "  <li></li>\n",
    "  <li>OK</li>\n",
    "  <li>OK</li>\n",
    "  <li>OK</li>\n",
    "  <li>OK</li>\n",
    "  <li>OK</li>\n",
    "  <li>OK</li>\n",
    "  <li>OK</li>\n",
    "  <li>OK</li>\n",
    "  <li>OK</li>\n",
    "  <li>OK</li>\n",
    "  <li>OK</li>\n",
    "  <li>OK</li>\n",
    "  <li>OK</li>\n",
    "  <li>OK</li>\n",
    "  <li>OK</li>\n",
    "</ol>"
   ]
  },
  {
   "cell_type": "markdown",
   "id": "4afb992b",
   "metadata": {},
   "source": [
    "## Problema 1"
   ]
  },
  {
   "cell_type": "markdown",
   "id": "d2d6b31e",
   "metadata": {},
   "source": [
    "a) Problema da mochila"
   ]
  },
  {
   "attachments": {
    "image.png": {
     "image/png": "[encoded data removed]"
    }
   },
   "cell_type": "markdown",
   "id": "777a3468",
   "metadata": {},
   "source": [
    "b) ![image.png](attachment:image.png)\n",
    "$x^*=[0,1,1]$ e $z^*=7$"
   ]
  },
  {
   "cell_type": "markdown",
   "id": "df1ebf04",
   "metadata": {},
   "source": [
    "c) O problema relaxado perde as restrições de integralidade:\n",
    "$$\n",
    "\\begin{aligned}\n",
    "    &\\max && 6x_1 +4x_2 + 3x_3 \\\\\n",
    "    & st && 6x_1 +5x_2 + 5x_3 \\leq 10\\\\\n",
    "        &&& x_1 \\in [0,1] \\\\\n",
    "        &&& x_2 \\in [0,1] \\\\\n",
    "        &&& x_3 \\in [0,1] \\\\\n",
    "\\end{aligned}\n",
    "$$\n",
    "\n",
    "Agora podemos usar uma certa \"densidade de ganho\":\n",
    "$$\n",
    "\\begin{aligned}\n",
    "    &\\max && y_1 +\\frac{4}{5}y_2 + \\frac{3}{5}y_3 \\\\\n",
    "    & st && y_1 +y_2 + y_3 \\leq 10\\\\\n",
    "        &&& y_1 \\in [0,6] \\\\\n",
    "        &&& y_2 \\in [0,5] \\\\\n",
    "        &&& y_3 \\in [0,5] \\\\\n",
    "\\end{aligned}\n",
    "$$\n",
    "Agora, usando ordem de mérito temos $y^*=[6,4,0]$ que equivale à $x^*=[1,\\frac{4}{5},0]$ e $UB=9.2$"
   ]
  },
  {
   "cell_type": "markdown",
   "id": "6e00ee24",
   "metadata": {},
   "source": [
    "d) $gap = UB - z^* = 9.2 - 7 = 2.2$"
   ]
  },
  {
   "cell_type": "markdown",
   "id": "9d8a30a1",
   "metadata": {},
   "source": []
  },
  {
   "cell_type": "markdown",
   "id": "13735d17",
   "metadata": {},
   "source": []
  },
  {
   "cell_type": "markdown",
   "id": "00b20a48",
   "metadata": {},
   "source": []
  },
  {
   "cell_type": "markdown",
   "id": "997bcf57",
   "metadata": {},
   "source": []
  },
  {
   "cell_type": "markdown",
   "id": "2ad4c928",
   "metadata": {},
   "source": [
    "## Problema 2"
   ]
  },
  {
   "cell_type": "markdown",
   "id": "bbe074d0",
   "metadata": {},
   "source": [
    "a) \n",
    "$$\n",
    "\\begin{aligned}\n",
    "    &\\min && \\Sigma_{i \\in U}c_ig_i + \\Sigma_{c \\in J^C}z_cI_c \\\\\n",
    "    & st && \\Sigma_{j \\in U_i}c_j + \\Sigma_{l \\in \\delta^0(i)}f_l +\\Sigma_{c \\in \\Delta^0(i)}f_c - \\Sigma_{l \\in \\delta^d(i)}f_l -\\Sigma_{c \\in \\Delta^d(i)}f_c = d_ih & \\forall i \\in B\\\\\n",
    "        &&& -F_lh \\leq f_l \\leq F_lh & \\forall l \\in L^{Ex}\\\\\n",
    "        &&& -F_cz_ch \\leq f_c \\leq F_cz_ch & \\forall c \\in L^{C}\\\\\n",
    "        &&& 0 \\leq g_i \\leq P_ih & \\forall i \\in U\\\\\n",
    "        &&& z_c \\in \\{0,1 \\} & \\forall c \\in L^{C}\\\\\n",
    "\\end{aligned}\n",
    "$$"
   ]
  },
  {
   "cell_type": "markdown",
   "id": "6fd478ef",
   "metadata": {},
   "source": [
    "b) \n",
    "$$\n",
    "\\begin{aligned}\n",
    "    &\\min && \\Sigma_{i \\in U}c_ig_i + \\Sigma_{c \\in J^C}z_cI_c \\\\\n",
    "    & st && \\Sigma_{j \\in U_i}c_j + \\Sigma_{l \\in \\delta^0(i)}f_l +\\Sigma_{c \\in \\Delta^0(i)}f_c - \\Sigma_{l \\in \\delta^d(i)}f_l -\\Sigma_{c \\in \\Delta^d(i)}f_c = d_ih & \\forall i \\in B\\\\\n",
    "        &&& f_l = \\frac{1}{x_l}(\\theta_{o(l)} - \\theta_{d(l)}) & \\forall l \\in L^{Ex}\\\\\n",
    "        &&& f_c = \\frac{z_c}{x_c}(\\theta_{o(c)} - \\theta_{d(c)}) & \\forall c \\in L^{C}\\\\\n",
    "        &&& -F_lh \\leq f_l \\leq F_lh & \\forall l \\in L^{Ex}\\\\\n",
    "        &&& -F_cz_ch \\leq f_c \\leq F_cz_ch & \\forall c \\in L^{C}\\\\\n",
    "        &&& 0 \\leq g_i \\leq P_ih & \\forall i \\in U\\\\\n",
    "        &&& z_c \\in \\{0,1 \\} & \\forall c \\in L^{C}\\\\\n",
    "\\end{aligned}\n",
    "$$"
   ]
  },
  {
   "cell_type": "markdown",
   "id": "de06c55a",
   "metadata": {},
   "source": [
    "c) \n",
    "$$\n",
    "\\begin{aligned}\n",
    "    &\\min && \\Sigma_{i \\in U}c_ig_i + \\Sigma_{c \\in J^C}z_cI_c \\\\\n",
    "    & st && \\Sigma_{j \\in U_i}c_j + \\Sigma_{l \\in \\delta^0(i)}f_l +\\Sigma_{c \\in \\Delta^0(i)}f_c - \\Sigma_{l \\in \\delta^d(i)}f_l -\\Sigma_{c \\in \\Delta^d(i)}f_c = d_ih & \\forall i \\in B\\\\\n",
    "        &&& f_l = \\frac{1}{x_l}(\\theta_{o(l)} - \\theta_{d(l)}) & \\forall l \\in L^{Ex}\\\\\n",
    "        &&& f_c = \\frac{z_k}{x_c}(\\theta_{o(c)} - \\theta_{d(c)}) & \\forall c \\in L^{C,Conj}_k, k \\in K^{Conj}\\\\\n",
    "        &&& -F_lh \\leq f_l \\leq F_lh & \\forall l \\in L^{Ex}\\\\\n",
    "        &&& -F_cz_kh \\leq f_c \\leq F_cz_kh & \\forall c \\in L^{C,Conj}_k, k \\in K^{Conj}\\\\\n",
    "        &&& 0 \\leq g_i \\leq P_ih & \\forall i \\in U\\\\\n",
    "        &&& z_c \\in \\{0,1 \\} & \\forall c \\in L^{C}\\\\\n",
    "\\end{aligned}\n",
    "$$"
   ]
  },
  {
   "cell_type": "markdown",
   "id": "4e3a6806",
   "metadata": {},
   "source": [
    "c) \n",
    "$$\n",
    "\\begin{aligned}\n",
    "    &\\min && \\Sigma_{i \\in U}c_ig_i + \\Sigma_{c \\in J^C}z_cI_c \\\\\n",
    "    & st && \\Sigma_{j \\in U_i}c_j + \\Sigma_{l \\in \\delta^0(i)}f_l +\\Sigma_{c \\in \\Delta^0(i)}f_c - \\Sigma_{l \\in \\delta^d(i)}f_l -\\Sigma_{c \\in \\Delta^d(i)}f_c = d_ih & \\forall i \\in B\\\\\n",
    "        &&& f_l = \\frac{1}{x_l}(\\theta_{o(l)} - \\theta_{d(l)}) & \\forall l \\in L^{Ex}\\\\\n",
    "        &&& f_c = \\frac{z_c}{x_c}(\\theta_{o(c)} - \\theta_{d(c)}) & \\forall c \\in L^{C}\\\\\n",
    "        &&& \\Sigma_{c \\in L^{CME}_k} z_c = 1 & \\forall k \\in K^{ME}\\\\\n",
    "        &&& -F_lh \\leq f_l \\leq F_lh & \\forall l \\in L^{Ex}\\\\\n",
    "        &&& -F_cz_ch \\leq f_c \\leq F_cz_ch & \\forall c \\in L^{C}\\\\\n",
    "        &&& 0 \\leq g_i \\leq P_ih & \\forall i \\in U\\\\\n",
    "        &&& z_c \\in \\{0,1 \\} & \\forall c \\in L^{C}\\\\\n",
    "\\end{aligned}\n",
    "$$"
   ]
  },
  {
   "cell_type": "markdown",
   "id": "3d9b44db",
   "metadata": {},
   "source": [
    "e) \n",
    "$$\n",
    "\\begin{aligned}\n",
    "    &\\min && \\Sigma_{i \\in U}c_ig_i + \\Sigma_{c \\in J^C}z_cI_c \\\\\n",
    "    & st && \\Sigma_{j \\in U_i}c_j + \\Sigma_{l \\in \\delta^0(i)}f_l +\\Sigma_{c \\in \\Delta^0(i)}f_c - \\Sigma_{l \\in \\delta^d(i)}f_l -\\Sigma_{c \\in \\Delta^d(i)}f_c = d_ih & \\forall i \\in B\\\\\n",
    "        &&& f_l = \\frac{1}{x_l}(\\theta_{o(l)} - \\theta_{d(l)}) & \\forall l \\in L^{Ex}\\\\\n",
    "        &&& f_c = \\frac{z_k}{x_c}(\\theta_{o(c)} - \\theta_{d(c)}) & \\forall c \\in L^{C,Conj}_k, k \\in K^{Conj}\\\\\n",
    "        &&& \\Sigma_{k \\in K^{ME}} z_k = 1 \\\\\n",
    "        &&& -F_lh \\leq f_l \\leq F_lh & \\forall l \\in L^{Ex}\\\\\n",
    "        &&& -F_cz_kh \\leq f_c \\leq F_cz_kh & \\forall c \\in L^{C,Conj}_k, k \\in K^{Conj}\\\\\n",
    "        &&& 0 \\leq g_i \\leq P_ih & \\forall i \\in U\\\\\n",
    "        &&& z_c \\in \\{0,1 \\} & \\forall c \\in L^{C}\\\\\n",
    "\\end{aligned}\n",
    "$$"
   ]
  },
  {
   "cell_type": "markdown",
   "id": "e76c9f76",
   "metadata": {},
   "source": [
    "## Problema 3"
   ]
  },
  {
   "cell_type": "markdown",
   "id": "6e80b418",
   "metadata": {},
   "source": [
    "## Problema 4"
   ]
  },
  {
   "cell_type": "markdown",
   "id": "bbac7e7e",
   "metadata": {},
   "source": [
    "Nesta questão $z_i$ representara uma varaivel binaria que vale 1 se o investimento $i$ for escolhido e 0 se ele não for escolhido. $w_j$ sera utilizada para modelar a escolha de um grupo."
   ]
  },
  {
   "cell_type": "markdown",
   "id": "ae971e77",
   "metadata": {},
   "source": [
    "a) $$x_1 + x_2 + x_3 + x_4 + x_5 + x_6 + x_7 \\leq K$$"
   ]
  },
  {
   "cell_type": "markdown",
   "id": "6a891868",
   "metadata": {},
   "source": [
    "b) $$x_1 + x_2 + x_3 + x_4 + x_5 + x_6 + x_7 \\geq 1$$"
   ]
  },
  {
   "cell_type": "markdown",
   "id": "9f8ebe02",
   "metadata": {},
   "source": [
    "c) $$x_1 + x_3 \\leq 1$$"
   ]
  },
  {
   "cell_type": "markdown",
   "id": "3c4076b8",
   "metadata": {},
   "source": [
    "d) $$x_2 \\geq x_4$$"
   ]
  },
  {
   "cell_type": "markdown",
   "id": "50d49dab",
   "metadata": {},
   "source": [
    "e) $$x_1 + x_5 \\geq 1$$"
   ]
  },
  {
   "cell_type": "markdown",
   "id": "b22f2e09",
   "metadata": {},
   "source": [
    "f) $$w_1 \\leq z_1 $$\n",
    "$$w_1 \\leq z_2 $$\n",
    "$$w_1 \\leq z_3 $$\n",
    "$$w_2 \\leq z_2 $$\n",
    "$$w_2 \\leq z_4 $$\n",
    "$$w_2 \\leq z_5 $$\n",
    "$$w_2 \\leq z_6 $$\n",
    "$$w_1 + w_2 \\geq 1 $$"
   ]
  },
  {
   "cell_type": "markdown",
   "id": "39f8c654",
   "metadata": {},
   "source": [
    "## Problema 5"
   ]
  },
  {
   "cell_type": "markdown",
   "id": "3f0d4720",
   "metadata": {},
   "source": [
    "a) Começamos com $u=zx_1+(1-z)x_2$, onde $z$ é binária. Assim $z$ irá escolher entre $x_1$ e $x_2$. Para garantir que esse escolha será correta precisamos adicionar $zx_1 \\leq x_2$ e $(1-z)x_2 \\leq x_1$. Desta forma $z$ irá precisar zerar a maior das duas variáveis para ser viável. Basta simplesmente linearizar os produtos (Descrito melhor na questão 16). Por fim para $y_1=zx_1$ e $y_2=(1-z)x_2$ temos: <br>\n",
    "$$u=y_1+y_2$$ <br>\n",
    "$$y_1 \\leq x_2$$ <br>\n",
    "$$y_2 \\leq x_1$$ <br>\n",
    "Linearização de $y_1=zx_1$: <br>\n",
    "$$y_1 \\leq zC_1$$ <br>\n",
    "$$y_1 \\leq x_1$$ <br>\n",
    "$$y_1 \\geq x_1 - C_1(1-z)$$ <br>\n",
    "$$y_1 \\geq 0$$ <br>\n",
    "Linearização de $y_2=(1-z)x_2$: <br>\n",
    "$$y_2 \\leq (1-z)C_2$$ <br>\n",
    "$$y_2 \\leq x_2$$ <br>\n",
    "$$y_2 \\geq x_2 - zC_2$$ <br>\n",
    "$$y_2 \\geq 0$$ <br>"
   ]
  },
  {
   "cell_type": "markdown",
   "id": "1d4a00d7",
   "metadata": {},
   "source": [
    "b) Perceba que o problema é equivalente à $v = max(x_1 - x_2,x_2 - x_1)$, então podemos aplicar a mesma estrategia do item anterior. Começamos com $v=z(x_1 - x_2)+(1-z)(x_2 - x_1)$, onde $z$ é binária. Assim $z$ irá escolher entre $x_1 - x_2$ e $x_2 - x_1$. Usando a mesma ideia de (a) com $y_1 = zx_1$ e $y_2 = zx_2$ temos: <br>\n",
    "$$v=2y_1+2y_2+x_2-x_1$$ <br>\n",
    "$$y_1 - y_2 \\leq x_2$$ <br>\n",
    "$$x_2 + y_2 - y_1 \\leq 2x_1$$ <br>\n",
    "Linearização de $y_1 = zx_1$: <br>\n",
    "$$y_1 \\leq zC_1$$ <br>\n",
    "$$y_1 \\leq x_1$$ <br>\n",
    "$$y_1 \\geq x_1 - C_1(1-z)$$ <br>\n",
    "$$y_1 \\geq 0$$ <br>\n",
    "Linearização de $y_2 = zx_2$$: <br>\n",
    "$$y_2 \\leq (1-z)C_2$$ <br>\n",
    "$$y_2 \\leq x_2$$ <br>\n",
    "$$y_2 \\geq x_2 - zC_2$$ <br>\n",
    "$$y_2 \\geq 0$$ <br>"
   ]
  },
  {
   "cell_type": "markdown",
   "id": "c217d623",
   "metadata": {},
   "source": [
    "c) Para começar podemos construir hiperplanos em $\\mathbb{R}^n$ para isolar o ponto $x^*$. Sendo eles:\n",
    "$$ x_i \\geq x^*_i + \\delta \\forall i \\in {1, 2..., n}$$\n",
    "$$ x_i \\leq x^*_i - \\delta \\forall i \\in {1, 2..., n}$$\n",
    "\n",
    "Onde $\\delta \\in ]0,1]$, pode ser escolhido como 0.5, por exemplo. Mas escolher igual a 1 gera uma relaxação mais apertada. Pela restrição de integraldiade, $x^*$ é o unico ponto excluido por todas essas restrições. Qualquer outro ponto pode violar pelo menos uma delas. Agora basta garantir que pelo menos 1 delas estara ativa, introduzindo variaveis binarias temos:\n",
    "\n",
    "$$ x_i \\geq x^*_i + \\delta - M z_i^+ \\forall i \\in {1, 2..., n}$$\n",
    "$$ x_i \\leq x^*_i - \\delta + M z_i^-\\forall i \\in {1, 2..., n}$$\n",
    "$$\\Sigma z_i^+ + \\Sigma z_i^- \\leq 2n-1  $$\n",
    "\n",
    "As duas primeiras restrições são relaxadas quando o respectivo $z$ vale 1, para isso é necessario extimar um BigM. A ultima restrição diz que pelo menos uma das restrições deve permacenar ativa, isso exclui apenas $x^*$."
   ]
  },
  {
   "cell_type": "markdown",
   "id": "89bcb991",
   "metadata": {},
   "source": [
    "## Problema 6"
   ]
  },
  {
   "cell_type": "markdown",
   "id": "45244f96",
   "metadata": {},
   "source": [
    "a) Sendo $x$ a quantidade de armarios, $y$ a quantiade de berços, $z$ a variavel de decisão de expansão e $C$ o custo de expandir:\n",
    "$$\n",
    "\\begin{aligned}\n",
    "    &\\max && 4x +3y - Cz \\\\\n",
    "    & st && (2-z)x +(1-0.9z)y \\leq 4\\\\\n",
    "        &&& (1-0.6z)x +(2-z)y \\leq 4\\\\\n",
    "        &&& z \\in \\{ 0,1\\} \n",
    "\\end{aligned}\n",
    "$$"
   ]
  },
  {
   "cell_type": "markdown",
   "id": "47777d48",
   "metadata": {},
   "source": [
    "b) Neste caso, como so temos 2 possibilidades, resolver cada uma delas é mais simples que linearizar os produtos. Com $z=0$, o valor otimo é $\\frac{28}{3}$. Com $z=1$, o valor otimo é $\\frac{85}{4}-C$. Resolvendo $\\frac{85}{4}-C = \\frac{28}{3}$, temos $C=11.92$"
   ]
  },
  {
   "cell_type": "markdown",
   "id": "943e618b",
   "metadata": {},
   "source": [
    "## Problema 7"
   ]
  },
  {
   "cell_type": "markdown",
   "id": "78cbcba7",
   "metadata": {},
   "source": [
    "Sendo $w$ o vetor de custo de investimento e $M$ uma constante suficientemente grande\n",
    "$$\n",
    "\\begin{aligned}\n",
    "    &\\max && c^Tx-w^Tz \\\\\n",
    "    & st && A_ix \\leq b_i + (1-z_i)M & \\forall i \\in {1,2...,K}\\\\\n",
    "        &&& \\Sigma_{i=1}^K z_i = 1\\\\\n",
    "\\end{aligned}\n",
    "$$"
   ]
  },
  {
   "cell_type": "markdown",
   "id": "7a258146",
   "metadata": {},
   "source": [
    "## Problema 8"
   ]
  },
  {
   "attachments": {
    "image.png": {
     "image/png": "[encoded data removed]"
    }
   },
   "cell_type": "markdown",
   "id": "fe3a36a9",
   "metadata": {},
   "source": [
    "Todas as 16 possibilidades foram avaliadas para cada uma das restrições. Uma intercessão foi feita para as ultimas 3, obtendo uma mesma tabela verdade.\n",
    "![image.png](attachment:image.png)"
   ]
  },
  {
   "cell_type": "markdown",
   "id": "ad6df984",
   "metadata": {},
   "source": [
    "## Problema 9"
   ]
  },
  {
   "cell_type": "markdown",
   "id": "59cb5ba2",
   "metadata": {},
   "source": [
    "$$\n",
    "\\begin{aligned}\n",
    "    &\\min && \\Sigma_{ij \\in A} c_{ij}x_{ij}  \\\\\n",
    "    & st && \\Sigma_j x_{ij} - \\Sigma_j x_{ji} = 1 & i=s\\\\\n",
    "        &&& \\Sigma_j x_{ij} - \\Sigma_j x_{ji} = -1& i=t\\\\\n",
    "        &&& \\Sigma_j x_{ij} - \\Sigma_j x_{ji} = 0 & otherwise\\\\\n",
    "        &&& x_{ij} \\in \\{ 0,1\\} & \\forall ij \\in A\n",
    "\\end{aligned}\n",
    "$$"
   ]
  },
  {
   "cell_type": "markdown",
   "id": "5af3bae9",
   "metadata": {},
   "source": [
    "$ij$ representa a aresta de conexão dos vértice $i$ para vértice $j$. $A$ é o conjunto de arrestas. $s$ é o ponto de partica e $t$ o ponto de chegada. $x_{ij}$ é 1 se a aresta foi usada e 0 caso contrario. Sendo assim, a primeira restrição indica que o vértice de partida deve ter uma saida a mais que entradas. A segunda restrição indica que o vértice de chegada deve ter uma saida a menos que entradas. A terceira restrição indica que os outros vértices devem ter o mesmo numero de saidas e entradas. "
   ]
  },
  {
   "cell_type": "markdown",
   "id": "0ac4c55a",
   "metadata": {},
   "source": [
    "A matriz do problema possui $n$ linhas e $n^2$ colunas, onde $n$ é o numero de vértices. Analisando as restrições é facil ver que as colunas são nulas ou possuem exatamente um numero $1$ e um numero $-1$. Usando esses fator vamos mostrar que ela é totalmente unimodular.\n",
    "Lembrando que queremos mostrar que qualquer submatrix quadrada não tem inversa ou é unimodular. Como os coeficiente da matriz são 0, 1 ou -1, basta mostrar que as submatrizes tem determinante 0 (não tem inversa), 1 (unimodular) ou -1 (unimodular)."
   ]
  },
  {
   "cell_type": "markdown",
   "id": "ee65dd52",
   "metadata": {},
   "source": [
    "Relembrando a definição de determinante. Seja um funcional linear em matrizes quadradas com as seguintes propriedades:\n",
    "<ol>\n",
    "  <li>$F(x_1, ... ,x_i, ...,x_j, ...,x_n) = -F(x_1, ... ,x_j, ...,x_i, ...,x_n)$ Troca linhas ou colunas muda o sinal</li>\n",
    "  <li>$F(x_1, ... ,kx_i, ...,x_n) = kF(x_1, ..., x_i, ...,x_n)$ Multiplicar uma linha ou coluna por um numero, multiplica o funcional</li>\n",
    "  <li>$F(x_1, ... ,x_i, ...,x_j, ...,x_n) = F(x_1, ... ,x_i + kx_j, ...,x_j, ...,x_n)$ Somar multiplos de uma linha ou coluna, respectivamente, em outra linha ou coluna, não altera o funcional</li>\n",
    "</ol>\n"
   ]
  },
  {
   "cell_type": "markdown",
   "id": "7a64fb2d",
   "metadata": {},
   "source": [
    "Esse funcional é unico e chamamos ele de determinante (Algebra Linear - Elon Lages, IMPA.)"
   ]
  },
  {
   "cell_type": "markdown",
   "id": "023708fc",
   "metadata": {},
   "source": [
    "Com essas propriedades, podemos construir um algoritmo para calcular o determinante:\n",
    "<ol>\n",
    "  <li>Escalone a matriz até ficar triangular, anotando as operações</li>\n",
    "  <li>O determinante da matriz triangular é o produto da diagonal principal</li>\n",
    "  <li>Usando as anotações das operações durante o escalonamento e as propriedades do determinante, recupere o determinante da matriz original</li>\n",
    "</ol>"
   ]
  },
  {
   "cell_type": "markdown",
   "id": "7a2f27d9",
   "metadata": {},
   "source": [
    "A matriz de nosso interesse so possui 1 e -1 para serem eliminados no escalonamento. Como cada coluna so possui no maximo um 1 e um -1, ao somar uma linha na outra, teremos as operações 0+0, 1+0, -1+0 e -1+1. Todas essas operações produzem 0, 1 ou -1. Ou seja, podemos escalonar a matriz apenas somando linhas umas nas outras (não altera o determinante) ou trocar linhas de lugar (muda o sinal do determinante), sem criar nenhum numero diferente de 0,1 e -1. Ao final do escalonamento, a diagonal principal contera apenas 0, 1 e -1. Ou seja o determinante sera 0, 1 ou -1. No maximo o sinal devera ser trocado (devido a trocas de linhas durante o escalonamento), mas permanecera como 0, 1 ou -1. Logo a matriz do problema é totalmente unimodular."
   ]
  },
  {
   "cell_type": "markdown",
   "id": "a987bb4b",
   "metadata": {},
   "source": [
    "Em relação ao algoritmo, como as matriz é totalmente unimodular, todas as bases usadas ao longo do simplex são unimodulares, ou seja, vão produzir uma solução inteira (pois o RHS é inteiro). Logo podemos relaxar as restrições de integralidade."
   ]
  },
  {
   "cell_type": "markdown",
   "id": "d197014b",
   "metadata": {},
   "source": [
    "## Problema 10"
   ]
  },
  {
   "cell_type": "markdown",
   "id": "01ea22e1",
   "metadata": {},
   "source": [
    "Seja $x_{ij}$ uma variavel binaria que vale $1$ se uma rainha esta na linha $i$, coluna $j$ e $0$ caso contrario. Como esse é um problema de viabilidade, a função objetivo e o sentivo da otimização são irrelevantes, podemos escolher por exemplo minimizar $0$.\n"
   ]
  },
  {
   "cell_type": "markdown",
   "id": "c6ecec15",
   "metadata": {},
   "source": [
    "Para cada coluna, pode existir no maximo 1 rainha:\n",
    "$$\n",
    "\\Sigma_{i=1}^N x_{ij} \\leq 1 \\quad \\forall j \\in {1,2..,N}\n",
    "$$"
   ]
  },
  {
   "cell_type": "markdown",
   "id": "a478e1d7",
   "metadata": {},
   "source": [
    "Para cada linha, pode existir no maximo 1 rainha:\n",
    "$$\n",
    "\\Sigma_{j=1}^N x_{ij} \\leq 1 \\quad \\forall i \\in {1,2..,N}\n",
    "$$"
   ]
  },
  {
   "cell_type": "markdown",
   "id": "74ef4182",
   "metadata": {},
   "source": [
    "Para as diagonais, podemos construir os conjuntos auxiliares de diagonais noroete -> sudeste:\n",
    "$$ \n",
    "d_k^- = \\{ (i,j) | i+j=k \\quad \\forall i \\in {1,2...,N}\\forall j \\in {1,2...,N} \\}\n",
    "$$\n",
    "E diagonais sudoeste->nordeste:\n",
    "$$ \n",
    "d_k^+ = \\{ (i,j) | i-j=k \\quad \\forall i \\in {1,2...,N}\\forall j \\in {1,2...,N} \\}\n",
    "$$\n",
    "\n",
    "Sendo assim temos:\n",
    "$$\n",
    "\\Sigma_{i,j \\in d_k^-} x_{ij} \\leq 1 \\quad \\forall k \\in {3,4..,2N-1}\n",
    "$$\n",
    "$$\n",
    "\\Sigma_{i,j \\in d_k^+} x_{ij} \\leq 1 \\quad \\forall k \\in {2-N,1-N..,2N-2}\n",
    "$$"
   ]
  },
  {
   "cell_type": "markdown",
   "id": "4de41764",
   "metadata": {},
   "source": [
    "## Problema 11"
   ]
  },
  {
   "cell_type": "markdown",
   "id": "c24db76b",
   "metadata": {},
   "source": [
    "a) Se PI é inviavel, $z=-\\infty$, logo a desigualdade é trivial. Se PI tem solução $x^*$, $x^*$ pertence a $T$, pois $x^*$ pertence a $X$ e $X$ esta contido em $T$. Além disso, $f(x^*) \\geq c(x^*)$, logo $z^R \\geq f(x^*) \\geq c(x^*) = z$. Se PI é ilimitado, PR também sera ilimitado por contar a mesma direção extrema."
   ]
  },
  {
   "cell_type": "markdown",
   "id": "f61739db",
   "metadata": {},
   "source": [
    "b) Como o conjunto viavel de $P_1$ esta contido no conjunto viavel de $P_2$ e eles possuem a mesma função objetivo, temos que $P_2$ é uma relaxação de $P_2$, logo pelo item (a) temos a conclusão desejada."
   ]
  },
  {
   "cell_type": "markdown",
   "id": "d06900bb",
   "metadata": {},
   "source": [
    "c) Se PR é inviavel, $z^R = -\\infty$, logo $z \\leq z^R = -\\infty$, o que implica que $z = -\\infty$, logo PI é inviavel."
   ]
  },
  {
   "cell_type": "markdown",
   "id": "be61d386",
   "metadata": {},
   "source": [
    "d) Pela propridade da relaxação temos que $z^R \\geq z$, por hipotese do enunciado $f(x^*) = c(x^*)$, logo: $c(x^*) = f(x^*) = z^R \\geq z  \\geq c(x^*)$. Logo $z = c(x^*)$, o que implica que x^* também é ponto otimo de PI."
   ]
  },
  {
   "cell_type": "markdown",
   "id": "991587a3",
   "metadata": {},
   "source": [
    "## Problema 12"
   ]
  },
  {
   "cell_type": "markdown",
   "id": "99252d60",
   "metadata": {},
   "source": [
    "Assumindo que problemas de maximização inviáveis tem valor ótimo menos infinito e problemas de maximização ilimitados tem valor ótimo infinito (Usando reta real extendida). Quando o primeiro problema é inviável, $z$ é menos infinito, então teremos $z(u) \\geq z$. Em outros casos, perceba que para todo $x$ viável no primeiro problema temos $z \\geq c^Tx$. Como o segundo problema tem menos restrições, para todo $x$ viável no primeiro problema ele também é viável no segundo problema. Temos que $z(u) \\geq c^Tx + u^T(b-Ax)$. Como estamos supondo que $x$ é viável, então $b-Ax$ tem todas as coordenadas não negativas, como por hipótese $u$ tem todas as coordenadas não negativas, $u^T(b-Ax)$ é não negativo. Sendo assim, se o primeiro problema é ilimitado, o segundo também é e vale $z(u) \\geq z$. Se o primeiro problema tem solução ótimo $x^*$, então temos $z(u) \\geq c^Tx^* + u^T(b-Ax^*) \\geq c^Tx^* = z$.    "
   ]
  },
  {
   "cell_type": "markdown",
   "id": "132136ff",
   "metadata": {},
   "source": [
    "## Problema 13"
   ]
  },
  {
   "cell_type": "markdown",
   "id": "cee7df44",
   "metadata": {},
   "source": [
    "Perceba que (D) é um problema de programação linear e que seu dual, chamado aqui de (P), é $max\\{c^Tx | Ax \\leq b x \\in \\mathbb{R}^n_+\\}$. Perceba também que (P) é uma relaxação de (PI), uma vez que a única diferença entre eles é que (P) possui variáveis reais e que (PI) possui variáveis inteiras. Por dualidade forte da programação linear, temos que $z_D = z_P$. Por ser relaxação, temos que $z_P \\geq z_{PI}$, então $z_D = z_P \\geq z_{PI}$. Além disso como (D) é um problema de minimização, se ele é ilimitado, $z_D = - \\infty$, então $z_{PI} = - \\infty$, mas como (PI) é um problema de maximização, isso significa ser inviável. "
   ]
  },
  {
   "cell_type": "markdown",
   "id": "aa3997be",
   "metadata": {},
   "source": [
    "## Problema 14"
   ]
  },
  {
   "cell_type": "markdown",
   "id": "ec10e867",
   "metadata": {},
   "source": [
    "A única diferença entrer $P_1$ e $P_2$ está nas restrições, sendo assim, basta mostrar que o conjunto viável de $P_1$ está contido em $P_2$. Mais precisamente, a diferença é que em $P_1$ temos $Ax=b$ e em $P_2$ temos $u^TAx=u^Tb$, que é equivalente à $u^T(Ax-b)=0$, que claramente é verdade quando $Ax=b$. Sendo assim, $P_2$ é relaxação de $P_1$. "
   ]
  },
  {
   "cell_type": "markdown",
   "id": "9f99bcbd",
   "metadata": {},
   "source": [
    "## Problema 15"
   ]
  },
  {
   "cell_type": "markdown",
   "id": "fa523958",
   "metadata": {},
   "source": [
    "Para aproximar a função, podemos usar as retas tangentes, neste caso, da um ponto $n_i$, a reta tangente à $n_i$ é $y=\\frac{x}{n_i}+(log(n_i)-1)$. Como queremos minimizar, podemos incluir restrições da forma $y \\geq \\frac{x}{n_i}+(log(n_i)-1)$. Caso a função fosse convexa, isso bastaria, mas como ela é concava, é necessario poder desativar todas as retas menos uma. Sendo assim, tomando um $M$ suficientemente grande e $z_i$ binaria: $y \\geq \\frac{x}{n_i}+(log(n_i)-1) - Mz_i \\quad \\forall i \\in \\{ 1,2...,K\\}$, $\\Sigma_{i=1}^K z_i = 1$ e $min (y)$."
   ]
  },
  {
   "cell_type": "markdown",
   "id": "75e71277",
   "metadata": {},
   "source": [
    "## Problema 16"
   ]
  },
  {
   "cell_type": "markdown",
   "id": "1da4d5eb",
   "metadata": {},
   "source": [
    "Sendo $lb_x$ e $ub_x$ os bounds de $x$, podemos discretizar fazendo: $x = lb_x + \\Sigma_{n=1}^N \\frac{ub_x-lb_x}{N} w_i$, onde $w_i$ são binarias. Temos então $xy = ylb_x + \\Sigma_{i=1}^N \\frac{ub_x-lb_x}{N} yw_i$.\n",
    "Agora so existem produtos entre varaiveis continuas e binarias, podemos usar a mesma tecnica para todas."
   ]
  },
  {
   "cell_type": "markdown",
   "id": "f68c2164",
   "metadata": {},
   "source": [
    "O produto $yz$, podemos inserir $t$ e um numero suficientemente grande $M$:\n",
    "$-M(1-z) \\leq t-y \\leq M(1-z)$ e $-Mz \\leq t \\leq Mz$."
   ]
  },
  {
   "cell_type": "markdown",
   "id": "9c24d8d7",
   "metadata": {},
   "source": [
    "O produto $yw_i$, podemos inserir $r_i$ e um numero suficientemente grande $M$:\n",
    "$-M(1-w_i) \\leq r_i-y \\leq M(1-w_i)$ e $-Mw_i \\leq r_i \\leq Mw_i$ $\\forall i \\in \\{ 1,2...,N\\}$."
   ]
  },
  {
   "cell_type": "markdown",
   "id": "b46f9d06",
   "metadata": {},
   "source": [
    "## Problema 17"
   ]
  },
  {
   "cell_type": "markdown",
   "id": "b74843e5",
   "metadata": {},
   "source": [
    "Seja $x_{ijk}$ binária com $x_{ijk} = 1$ se número $k$ está na linha $i$ e coluna $j$ e $x_{ijk} = 0$ caso contrário.\n",
    "Cada célula precisa de um número:\n",
    "$$\n",
    "\\Sigma_{k=1}^9 x_{ijk} = 1 \\quad \\forall i \\in {1,...,9}, j \\in {1,...,9}\n",
    "$$\n",
    "Cada linha precisa conter um exemplar de cada numero:\n",
    "$$\n",
    "\\Sigma_{j=1}^9 x_{ijk} = 1 \\quad \\forall i \\in {1,...,9}, k \\in {1,...,9}\n",
    "$$\n",
    "Cada coluna precisa conter um exemplar de cada numero:\n",
    "$$\n",
    "\\Sigma_{i=1}^9 x_{ijk} = 1 \\quad \\forall j \\in {1,...,9}, k \\in {1,...,9}\n",
    "$$\n",
    "Blocos 3x3 precisam conter um exemplar de cada numero:\n",
    "$$\n",
    "\\Sigma_{i=3b_i-2}^{3b_i}\\Sigma_{j=3b_j-2}^{3b_j} x_{ijk} = 1 \\quad \\forall b_i \\in {1,2,3}, b_j \\in {1,2,3}, k \\in {1,...,9}\n",
    "$$\n",
    "Valores inicais num conjunto $P$:\n",
    "$$\n",
    "x_{ijk} = 1 \\quad \\forall ijk \\in P\n",
    "$$"
   ]
  },
  {
   "cell_type": "code",
   "execution_count": 16,
   "id": "25cb69ce",
   "metadata": {},
   "outputs": [
    {
     "data": {
      "text/plain": [
       "9×9 Matrix{Int64}:\n",
       " 6  7  5  4  1  8  9  3  2\n",
       " 4  3  9  5  2  7  6  8  1\n",
       " 2  1  8  3  6  9  7  5  4\n",
       " 8  9  7  2  5  4  1  6  3\n",
       " 3  5  2  6  9  1  4  7  8\n",
       " 1  6  4  8  7  3  5  2  9\n",
       " 9  2  3  7  4  6  8  1  5\n",
       " 7  8  1  9  3  5  2  4  6\n",
       " 5  4  6  1  8  2  3  9  7"
      ]
     },
     "execution_count": 16,
     "metadata": {},
     "output_type": "execute_result"
    }
   ],
   "source": [
    "model = Model(HiGHS.Optimizer)\n",
    "set_silent(model)\n",
    "@variable(model, x[1:9,1:9,1:9], Bin)\n",
    "@constraint(model, [i = 1:9, j = 1:9], sum(x[i,j,:]) == 1)\n",
    "@constraint(model, [i = 1:9, k = 1:9], sum(x[i,:,k]) == 1)\n",
    "@constraint(model, [j= 1:9, k = 1:9], sum(x[:,j,k]) == 1)\n",
    "@constraint(model, [bi = 1:3, bj = 1:3, k = 1:9], sum(x[i,j,k] for i = 3bi-2:3bi, j = 3bj-2:3bj) == 1)\n",
    "P =\n",
    "[\n",
    "0 0 0 0 1 0 9 0 2\n",
    "0 3 0 0 0 7 0 8 0\n",
    "0 0 0 3 6 0 7 0 0\n",
    "0 0 0 2 0 0 1 0 3\n",
    "0 5 0 0 0 0 0 7 0\n",
    "1 0 4 0 0 3 0 0 0\n",
    "0 0 3 0 4 6 0 0 0\n",
    "0 8 0 9 0 0 0 4 0\n",
    "5 0 6 0 8 0 0 0 0\n",
    "];\n",
    "P = [(i,j,k) for i in 1:9, j in 1:9, k in 1:9 if P[i,j] == k]\n",
    "@constraint(model, [(i,j,k) in P], x[i,j,k] == 1)\n",
    "optimize!(model)\n",
    "x = value.(x)\n",
    "sol = zeros(Int, 9, 9)\n",
    "for i in 1:9, j in 1:9, k in 1:9\n",
    "    if round(Int, x[i, j, k]) == 1\n",
    "        sol[i, j] = k\n",
    "    end\n",
    "end\n",
    "sol"
   ]
  },
  {
   "cell_type": "markdown",
   "id": "550e10f9",
   "metadata": {},
   "source": [
    "## Problema 18"
   ]
  },
  {
   "cell_type": "markdown",
   "id": "b75da734",
   "metadata": {},
   "source": [
    "O TSP pede como solução um ciclo. A MST tem como solução uma arvore, vamos ver então como é possivel a partir da arvore do MST, gerar um ciclo para o TSP:\n",
    "<ol>\n",
    "  <li>Remova um vértice $i$ do grafo e resolva MST, obtendo a arvore T.</li>\n",
    "  <li>Devolva o vértice removido para o grafo e escolha outros 2 vértices distintos $j$ e $k$. Adicione na arvore T arestas $ij$ e $ik$, obtendo o grafo G.</li>\n",
    "  <li>Começando por $i$, percorra os vertices pelas arestas possiveis, sempre que seja necessario, \"pule\" um vértice ja visitado. Assim obtera um caminho. </li>\n",
    "  <li>Volte para o vértice $i$, obtendo um caminho</li>\n",
    "</ol>\n",
    "Ao final desses passos, visitamos todos os vértives, uma vez que todos os vértives estavam conexos pela arvore e pelas arestas adicionais. Sendo assim é uma solução viavel TSP. Vale ainda destacar, que essa heuristica é mais poderosa quando os pesos das arestas obedecem a desigualdade triangular, uma vez que os custos dos \"pulos\" terão um \"upper bound\", ou seja, as arestas usadas no caminho que não pertencem a arvore são majoradas pela propria arvore."
   ]
  },
  {
   "cell_type": "code",
   "execution_count": null,
   "id": "5e82d5f2",
   "metadata": {},
   "outputs": [],
   "source": []
  }
 ],
 "metadata": {
  "kernelspec": {
   "display_name": "Julia 1.8.1",
   "language": "julia",
   "name": "julia-1.8"
  },
  "language_info": {
   "file_extension": ".jl",
   "mimetype": "application/julia",
   "name": "julia",
   "version": "1.8.1"
  }
 },
 "nbformat": 4,
 "nbformat_minor": 5
}
