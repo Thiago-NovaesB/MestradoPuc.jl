{
 "cells": [
  {
   "cell_type": "markdown",
   "id": "27e2d085",
   "metadata": {},
   "source": [
    "<ol>\n",
    "  <li></li>\n",
    "  <li></li>\n",
    "  <li></li>\n",
    "  <li>OK</li>\n",
    "  <li>OK</li>\n",
    "  <li>OK</li>\n",
    "  <li>OK</li>\n",
    "  <li>OK</li>\n",
    "  <li>OK</li>\n",
    "  <li>OK</li>\n",
    "  <li>OK</li>\n",
    "  <li>OK</li>\n",
    "  <li>OK</li>\n",
    "  <li>OK</li>\n",
    "  <li></li>\n",
    "  <li></li>\n",
    "  <li></li>\n",
    "  <li>OK</li>\n",
    "</ol>"
   ]
  },
  {
   "cell_type": "markdown",
   "id": "4afb992b",
   "metadata": {},
   "source": [
    "## Problema 4"
   ]
  },
  {
   "cell_type": "markdown",
   "id": "bbac7e7e",
   "metadata": {},
   "source": [
    "Nesta questão $z_i$ representara uma varaivel binaria que vale 1 se o investimento $i$ for escolhido e 0 se ele não for escolhido. $w_j$ sera utilizada para modelar a escolha de um grupo."
   ]
  },
  {
   "cell_type": "markdown",
   "id": "ae971e77",
   "metadata": {},
   "source": [
    "a) $$x_1 + x_2 + x_3 + x_4 + x_5 + x_6 + x_7 \\leq K$$"
   ]
  },
  {
   "cell_type": "markdown",
   "id": "6a891868",
   "metadata": {},
   "source": [
    "b) $$x_1 + x_2 + x_3 + x_4 + x_5 + x_6 + x_7 \\geq 1$$"
   ]
  },
  {
   "cell_type": "markdown",
   "id": "9f8ebe02",
   "metadata": {},
   "source": [
    "c) $$x_1 + x_3 \\leq 1$$"
   ]
  },
  {
   "cell_type": "markdown",
   "id": "3c4076b8",
   "metadata": {},
   "source": [
    "d) $$x_2 \\geq x_4$$"
   ]
  },
  {
   "cell_type": "markdown",
   "id": "50d49dab",
   "metadata": {},
   "source": [
    "e) $$x_1 + x_5 \\geq 1$$"
   ]
  },
  {
   "cell_type": "markdown",
   "id": "b22f2e09",
   "metadata": {},
   "source": [
    "f) $$w_1 \\leq z_1 $$\n",
    "$$w_1 \\leq z_2 $$\n",
    "$$w_1 \\leq z_3 $$\n",
    "$$w_2 \\leq z_2 $$\n",
    "$$w_2 \\leq z_4 $$\n",
    "$$w_2 \\leq z_5 $$\n",
    "$$w_2 \\leq z_6 $$\n",
    "$$w_1 + w_2 \\geq 1 $$"
   ]
  },
  {
   "cell_type": "markdown",
   "id": "39f8c654",
   "metadata": {},
   "source": [
    "## Problema 5"
   ]
  },
  {
   "cell_type": "markdown",
   "id": "3f0d4720",
   "metadata": {},
   "source": [
    "a) Começamos com $u=zx_1+(1-z)x_2$, onde $z$ é binária. Assim $z$ irá escolher entre $x_1$ e $x_2$. Para garantir que esse escolha será correta precisamos adicionar $zx_1 \\leq x_2$ e $(1-z)x_2 \\leq x_1$. Desta forma $z$ irá precisar zerar a maior das duas variáveis para ser viável. Basta simplesmente linearizar os produtos (Descrito melhor na questão 16). Por fim para $y_1=zx_1$ e $y_2=(1-z)x_2$ temos: <br>\n",
    "$$u=y_1+y_2$$ <br>\n",
    "$$y_1 \\leq x_2$$ <br>\n",
    "$$y_2 \\leq x_1$$ <br>\n",
    "Linearização de $y_1=zx_1$: <br>\n",
    "$$y_1 \\leq zC_1$$ <br>\n",
    "$$y_1 \\leq x_1$$ <br>\n",
    "$$y_1 \\geq x_1 - C_1(1-z)$$ <br>\n",
    "$$y_1 \\geq 0$$ <br>\n",
    "Linearização de $y_2=(1-z)x_2$: <br>\n",
    "$$y_2 \\leq (1-z)C_2$$ <br>\n",
    "$$y_2 \\leq x_2$$ <br>\n",
    "$$y_2 \\geq x_2 - zC_2$$ <br>\n",
    "$$y_2 \\geq 0$$ <br>"
   ]
  },
  {
   "cell_type": "markdown",
   "id": "1d4a00d7",
   "metadata": {},
   "source": [
    "b) Perceba que o problema é equivalente à $v = max(x_1 - x_2,x_2 - x_1)$, então podemos aplicar a mesma estrategia do item anterior. Começamos com $v=z(x_1 - x_2)+(1-z)(x_2 - x_1)$, onde $z$ é binária. Assim $z$ irá escolher entre $x_1 - x_2$ e $x_2 - x_1$. Usando a mesma ideia de (a) com $y_1 = zx_1$ e $y_2 = zx_2$ temos: <br>\n",
    "$$v=2y_1+2y_2+x_2-x_1$$ <br>\n",
    "$$y_1 - y_2 \\leq x_2$$ <br>\n",
    "$$x_2 + y_2 - y_1 \\leq 2x_1$$ <br>\n",
    "Linearização de $y_1 = zx_1$: <br>\n",
    "$$y_1 \\leq zC_1$$ <br>\n",
    "$$y_1 \\leq x_1$$ <br>\n",
    "$$y_1 \\geq x_1 - C_1(1-z)$$ <br>\n",
    "$$y_1 \\geq 0$$ <br>\n",
    "Linearização de $y_2 = zx_2$$: <br>\n",
    "$$y_2 \\leq (1-z)C_2$$ <br>\n",
    "$$y_2 \\leq x_2$$ <br>\n",
    "$$y_2 \\geq x_2 - zC_2$$ <br>\n",
    "$$y_2 \\geq 0$$ <br>"
   ]
  },
  {
   "cell_type": "markdown",
   "id": "c217d623",
   "metadata": {},
   "source": [
    "c) Para começar podemos construir hiperplanos em $\\mathbb{R}^n$ para isolar o ponto $x^*$. Sendo eles:\n",
    "$$ x_i \\geq x^*_i + \\delta \\forall i \\in {1, 2..., n}$$\n",
    "$$ x_i \\leq x^*_i - \\delta \\forall i \\in {1, 2..., n}$$\n",
    "\n",
    "Onde $\\delta \\in ]0,1]$, pode ser escolhido como 0.5, por exemplo. Mas escolher igual a 1 gera uma relaxação mais apertada. Pela restrição de integraldiade, $x^*$ é o unico ponto excluido por todas essas restrições. Qualquer outro ponto pode violar pelo menos uma delas. Agora basta garantir que pelo menos 1 delas estara ativa, introduzindo variaveis binarias temos:\n",
    "\n",
    "$$ x_i \\geq x^*_i + \\delta - M z_i^+ \\forall i \\in {1, 2..., n}$$\n",
    "$$ x_i \\leq x^*_i - \\delta + M z_i^-\\forall i \\in {1, 2..., n}$$\n",
    "$$\\Sigma z_i^+ + \\Sigma z_i^- \\leq 2n-1  $$\n",
    "\n",
    "As duas primeiras restrições são relaxadas quando o respectivo $z$ vale 1, para isso é necessario extimar um BigM. A ultima restrição diz que pelo menos uma das restrições deve permacenar ativa, isso exclui apenas $x^*$."
   ]
  },
  {
   "cell_type": "markdown",
   "id": "89bcb991",
   "metadata": {},
   "source": [
    "## Problema 6"
   ]
  },
  {
   "cell_type": "markdown",
   "id": "45244f96",
   "metadata": {},
   "source": [
    "a) Sendo $x$ a quantidade de armarios, $y$ a quantiade de berços, $z$ a variavel de decisão de expansão e $C$ o custo de expandir:\n",
    "$$\n",
    "\\begin{aligned}\n",
    "    &\\max && 4x +3y - Cz \\\\\n",
    "    & st && (2-z)x +(1-0.9z)y \\leq 4\\\\\n",
    "        &&& (1-0.6z)x +(2-z)y \\leq 4\\\\\n",
    "        &&& z \\in \\{ 0,1\\} \n",
    "\\end{aligned}\n",
    "$$"
   ]
  },
  {
   "cell_type": "markdown",
   "id": "47777d48",
   "metadata": {},
   "source": [
    "b) Neste caso, como so temos 2 possibilidades, resolver cada uma delas é mais simples que linearizar os produtos. Com $z=0$, o valor otimo é $\\frac{28}{3}$. Com $z=1$, o valor otimo é $\\frac{85}{4}-C$. Resolvendo $\\frac{85}{4}-C = \\frac{28}{3}$, temos $C=11.92$"
   ]
  },
  {
   "cell_type": "markdown",
   "id": "943e618b",
   "metadata": {},
   "source": [
    "## Problema 7"
   ]
  },
  {
   "cell_type": "markdown",
   "id": "78cbcba7",
   "metadata": {},
   "source": [
    "Sendo $w$ o vetor de custo de investimento e $M$ uma constante suficientemente grande\n",
    "$$\n",
    "\\begin{aligned}\n",
    "    &\\max && c^Tx-w^Tz \\\\\n",
    "    & st && A_ix \\leq b_i + (1-z_i)M & \\forall i \\in {1,2...,K}\\\\\n",
    "        &&& \\Sigma_{i=1}^K z_i = 1\\\\\n",
    "\\end{aligned}\n",
    "$$"
   ]
  },
  {
   "cell_type": "markdown",
   "id": "7a258146",
   "metadata": {},
   "source": [
    "## Problema 8"
   ]
  },
  {
   "attachments": {
    "image.png": {
     "image/png": "[encoded data removed]"
    }
   },
   "cell_type": "markdown",
   "id": "fe3a36a9",
   "metadata": {},
   "source": [
    "Todas as 16 possibilidades foram avaliadas para cada uma das restrições. Uma intercessão foi feita para as ultimas 3, obtendo uma mesma tabela verdade.\n",
    "![image.png](attachment:image.png)"
   ]
  },
  {
   "cell_type": "markdown",
   "id": "ad6df984",
   "metadata": {},
   "source": [
    "## Problema 9"
   ]
  },
  {
   "cell_type": "markdown",
   "id": "59cb5ba2",
   "metadata": {},
   "source": [
    "$$\n",
    "\\begin{aligned}\n",
    "    &\\min && \\Sigma_{ij \\in A} c_{ij}x_{ij}  \\\\\n",
    "    & st && \\Sigma_j x_{ij} - \\Sigma_j x_{ji} = 1 & i=s\\\\\n",
    "        &&& \\Sigma_j x_{ij} - \\Sigma_j x_{ji} = -1& i=t\\\\\n",
    "        &&& \\Sigma_j x_{ij} - \\Sigma_j x_{ji} = 0 & otherwise\\\\\n",
    "        &&& x_{ij} \\in \\{ 0,1\\} & \\forall ij \\in A\n",
    "\\end{aligned}\n",
    "$$"
   ]
  },
  {
   "cell_type": "markdown",
   "id": "5af3bae9",
   "metadata": {},
   "source": [
    "$ij$ representa a aresta de conexão dos vértice $i$ para vértice $j$. $A$ é o conjunto de arrestas. $s$ é o ponto de partica e $t$ o ponto de chegada. $x_{ij}$ é 1 se a aresta foi usada e 0 caso contrario. Sendo assim, a primeira restrição indica que o vértice de partida deve ter uma saida a mais que entradas. A segunda restrição indica que o vértice de chegada deve ter uma saida a menos que entradas. A terceira restrição indica que os outros vértices devem ter o mesmo numero de saidas e entradas. "
   ]
  },
  {
   "cell_type": "markdown",
   "id": "0ac4c55a",
   "metadata": {},
   "source": [
    "A matriz do problema possui $n$ linhas e $n^2$ colunas, onde $n$ é o numero de vértices. Analisando as restrições é facil ver que as colunas são nulas ou possuem exatamente um numero $1$ e um numero $-1$. Usando esses fator vamos mostrar que ela é totalmente unimodular.\n",
    "Lembrando que queremos mostrar que qualquer submatrix quadrada não tem inversa ou é unimodular. Como os coeficiente da matriz são 0, 1 ou -1, basta mostrar que as submatrizes tem determinante 0 (não tem inversa), 1 (unimodular) ou -1 (unimodular)."
   ]
  },
  {
   "cell_type": "markdown",
   "id": "ee65dd52",
   "metadata": {},
   "source": [
    "Relembrando a definição de determinante. Seja um funcional linear em matrizes quadradas com as seguintes propriedades:\n",
    "<ol>\n",
    "  <li>$F(x_1, ... ,x_i, ...,x_j, ...,x_n) = -F(x_1, ... ,x_j, ...,x_i, ...,x_n)$ Troca linhas ou colunas muda o sinal</li>\n",
    "  <li>$F(x_1, ... ,kx_i, ...,x_n) = kF(x_1, ..., x_i, ...,x_n)$ Multiplicar uma linha ou coluna por um numero, multiplica o funcional</li>\n",
    "  <li>$F(x_1, ... ,x_i, ...,x_j, ...,x_n) = F(x_1, ... ,x_i + kx_j, ...,x_j, ...,x_n)$ Somar multiplos de uma linha ou coluna, respectivamente, em outra linha ou coluna, não altera o funcional</li>\n",
    "</ol>\n"
   ]
  },
  {
   "cell_type": "markdown",
   "id": "7a64fb2d",
   "metadata": {},
   "source": [
    "Esse funcional é unico e chamamos ele de determinante (Algebra Linear - Elon Lages, IMPA.)"
   ]
  },
  {
   "cell_type": "markdown",
   "id": "023708fc",
   "metadata": {},
   "source": [
    "Com essas propriedades, podemos construir um algoritmo para calcular o determinante:\n",
    "<ol>\n",
    "  <li>Escalone a matriz até ficar triangular, anotando as operações</li>\n",
    "  <li>O determinante da matriz triangular é o produto da diagonal principal</li>\n",
    "  <li>Usando as anotações das operações durante o escalonamento e as propriedades do determinante, recupere o determinante da matriz original</li>\n",
    "</ol>"
   ]
  },
  {
   "cell_type": "markdown",
   "id": "7a2f27d9",
   "metadata": {},
   "source": [
    "A matriz de nosso interesse so possui 1 e -1 para serem eliminados no escalonamento. Como cada coluna so possui no maximo um 1 e um -1, ao somar uma linha na outra, teremos as operações 0+0, 1+0, -1+0 e -1+1. Todas essas operações produzem 0, 1 ou -1. Ou seja, podemos escalonar a matriz apenas somando linhas umas nas outras (não altera o determinante) ou trocar linhas de lugar (muda o sinal do determinante), sem criar nenhum numero diferente de 0,1 e -1. Ao final do escalonamento, a diagonal principal contera apenas 0, 1 e -1. Ou seja o determinante sera 0, 1 ou -1. No maximo o sinal devera ser trocado (devido a trocas de linhas durante o escalonamento), mas permanecera como 0, 1 ou -1. Logo a matriz do problema é totalmente unimodular."
   ]
  },
  {
   "cell_type": "markdown",
   "id": "a987bb4b",
   "metadata": {},
   "source": [
    "Em relação ao algoritmo, como as matriz é totalmente unimodular, todas as bases usadas ao longo do simplex são unimodulares, ou seja, vão produzir uma solução inteira (pois o RHS é inteiro). Logo podemos relaxar as restrições de integralidade."
   ]
  },
  {
   "cell_type": "markdown",
   "id": "d197014b",
   "metadata": {},
   "source": [
    "## Problema 10"
   ]
  },
  {
   "cell_type": "markdown",
   "id": "e476c7e4",
   "metadata": {},
   "source": [
    "Seja $x_{ij}$ uma variavel binaria que vale $1$ se uma rainha esta na linha $i$, coluna $j$ e $0$ caso contrario. Como esse é um problema de viabilidade, a função objetivo e o sentivo da otimização são irrelevantes, podemos escolher por exemplo minimizar $0$.\n"
   ]
  },
  {
   "cell_type": "markdown",
   "id": "f8732f6c",
   "metadata": {},
   "source": [
    "Para cada coluna, pode existir no maximo 1 rainha:\n",
    "$$\n",
    "\\Sigma_{i=1}^N x_{ij} \\leq 1 \\quad \\forall j \\in {1,2..,N}\n",
    "$$"
   ]
  },
  {
   "attachments": {},
   "cell_type": "markdown",
   "id": "1fc5e905",
   "metadata": {},
   "source": [
    "Para cada linha, pode existir no maximo 1 rainha:\n",
    "$$\n",
    "\\Sigma_{j=1}^N x_{ij} \\leq 1 \\quad \\forall i \\in {1,2..,N}\n",
    "$$"
   ]
  },
  {
   "cell_type": "markdown",
   "id": "d3ce0c04",
   "metadata": {},
   "source": [
    "Para as diagonais, podemos construir os conjuntos auxiliares de diagonais noroete -> sudeste:\n",
    "$$ \n",
    "d_k^- = \\{ (i,j) | i+j=k \\quad \\forall i \\in {1,2...,N}\\forall j \\in {1,2...,N} \\}\n",
    "$$\n",
    "E diagonais sudoeste->nordeste:\n",
    "$$ \n",
    "d_k^+ = \\{ (i,j) | i-j=k \\quad \\forall i \\in {1,2...,N}\\forall j \\in {1,2...,N} \\}\n",
    "$$\n",
    "\n",
    "Sendo assim temos:\n",
    "$$\n",
    "\\Sigma_{i,j \\in d_k^-} x_{ij} \\leq 1 \\quad \\forall k \\in {3,4..,2N-1}\n",
    "$$\n",
    "$$\n",
    "\\Sigma_{i,j \\in d_k^+} x_{ij} \\leq 1 \\quad \\forall k \\in {2-N,1-N..,2N-2}\n",
    "$$"
   ]
  },
  {
   "cell_type": "markdown",
   "id": "61c3b4c9",
   "metadata": {},
   "source": [
    "## Problema 11"
   ]
  },
  {
   "cell_type": "markdown",
   "id": "c24db76b",
   "metadata": {},
   "source": [
    "a) Se PI é inviavel, $z=-\\infty$, logo a desigualdade é trivial. Se PI tem solução $x^*$, $x^*$ pertence a $T$, pois $x^*$ pertence a $X$ e $X$ esta contido em $T$. Além disso, $f(x^*) \\geq c(x^*)$, logo $z^R \\geq f(x^*) \\geq c(x^*) = z$. Se PI é ilimitado, PR também sera ilimitado por contar a mesma direção extrema."
   ]
  },
  {
   "cell_type": "markdown",
   "id": "f61739db",
   "metadata": {},
   "source": [
    "b) Como o conjunto viavel de $P_1$ esta contido no conjunto viavel de $P_2$ e eles possuem a mesma função objetivo, temos que $P_2$ é uma relaxação de $P_2$, logo pelo item (a) temos a conclusão desejada."
   ]
  },
  {
   "cell_type": "markdown",
   "id": "d06900bb",
   "metadata": {},
   "source": [
    "c) Se PR é inviavel, $z^R = -\\infty$, logo $z \\leq z^R = -\\infty$, o que implica que $z = -\\infty$, logo PI é inviavel."
   ]
  },
  {
   "cell_type": "markdown",
   "id": "be61d386",
   "metadata": {},
   "source": [
    "d) Pela propridade da relaxação temos que $z^R \\geq z$, por hipotese do enunciado $f(x^*) = c(x^*)$, logo: $c(x^*) = f(x^*) = z^R \\geq z  \\geq c(x^*)$. Logo $z = c(x^*)$, o que implica que x^* também é ponto otimo de PI."
   ]
  },
  {
   "cell_type": "markdown",
   "id": "991587a3",
   "metadata": {},
   "source": [
    "## Problema 12"
   ]
  },
  {
   "cell_type": "markdown",
   "id": "99252d60",
   "metadata": {},
   "source": [
    "Assumindo que problemas de maximização inviáveis tem valor ótimo menos infinito e problemas de maximização ilimitados tem valor ótimo infinito (Usando reta real extendida). Quando o primeiro problema é inviável, $z$ é menos infinito, então teremos $z(u) \\geq z$. Em outros casos, perceba que para todo $x$ viável no primeiro problema temos $z \\geq c^Tx$. Como o segundo problema tem menos restrições, para todo $x$ viável no primeiro problema ele também é viável no segundo problema. Temos que $z(u) \\geq c^Tx + u^T(b-Ax)$. Como estamos supondo que $x$ é viável, então $b-Ax$ tem todas as coordenadas não negativas, como por hipótese $u$ tem todas as coordenadas não negativas, $u^T(b-Ax)$ é não negativo. Sendo assim, se o primeiro problema é ilimitado, o segundo também é e vale $z(u) \\geq z$. Se o primeiro problema tem solução ótimo $x^*$, então temos $z(u) \\geq c^Tx^* + u^T(b-Ax^*) \\geq c^Tx^* = z$.    "
   ]
  },
  {
   "cell_type": "markdown",
   "id": "132136ff",
   "metadata": {},
   "source": [
    "## Problema 13"
   ]
  },
  {
   "cell_type": "markdown",
   "id": "cee7df44",
   "metadata": {},
   "source": [
    "Perceba que (D) é um problema de programação linear e que seu dual, chamado aqui de (P), é $max\\{c^Tx | Ax \\leq b x \\in \\mathbb{R}^n_+\\}$. Perceba também que (P) é uma relaxação de (PI), uma vez que a única diferença entre eles é que (P) possui variáveis reais e que (PI) possui variáveis inteiras. Por dualidade forte da programação linear, temos que $z_D = z_P$. Por ser relaxação, temos que $z_P \\geq z_{PI}$, então $z_D = z_P \\geq z_{PI}$. Além disso como (D) é um problema de minimização, se ele é ilimitado, $z_D = - \\infty$, então $z_{PI} = - \\infty$, mas como (PI) é um problema de maximização, isso significa ser inviável. "
   ]
  },
  {
   "cell_type": "markdown",
   "id": "aa3997be",
   "metadata": {},
   "source": [
    "## Problema 14"
   ]
  },
  {
   "cell_type": "markdown",
   "id": "ec10e867",
   "metadata": {},
   "source": [
    "A única diferença entrer $P_1$ e $P_2$ está nas restrições, sendo assim, basta mostrar que o conjunto viável de $P_1$ está contido em $P_2$. Mais precisamente, a diferença é que em $P_1$ temos $Ax=b$ e em $P_2$ temos $u^TAx=u^Tb$, que é equivalente à $u^T(Ax-b)=0$, que claramente é verdade quando $Ax=b$. Sendo assim, $P_2$ é relaxação de $P_1$. "
   ]
  },
  {
   "cell_type": "markdown",
   "id": "d3ff1da4",
   "metadata": {},
   "source": [
    "## Problema 15"
   ]
  },
  {
   "cell_type": "markdown",
   "id": "35d7c9b7",
   "metadata": {},
   "source": []
  },
  {
   "cell_type": "markdown",
   "id": "9c650dea",
   "metadata": {},
   "source": []
  },
  {
   "cell_type": "markdown",
   "id": "45825fab",
   "metadata": {},
   "source": []
  },
  {
   "cell_type": "markdown",
   "id": "7e322884",
   "metadata": {},
   "source": [
    "## Problema 18"
   ]
  },
  {
   "cell_type": "markdown",
   "id": "7c523814",
   "metadata": {},
   "source": [
    "O TSP pede como solução um ciclo. A MST tem como solução uma arvore, vamos ver então como é possivel a partir da arvore do MST, gerar um ciclo para o TSP:\n",
    "<ol>\n",
    "  <li>Remova um vértice $i$ do grafo e resolva MST, obtendo a arvore T.</li>\n",
    "  <li>Devolva o vértice removido para o grafo e escolha outros 2 vértices distintos $j$ e $k$. Adicione na arvore T arestas $ij$ e $ik$, obtendo o grafo G.</li>\n",
    "  <li>Começando por $i$, percorra os vertices pelas arestas possiveis, sempre que seja necessario, \"pule\" um vértice ja visitado. Assim obtera um caminho. </li>\n",
    "  <li>Volte para o vértice $i$, obtendo um caminho</li>\n",
    "</ol>\n",
    "Ao final desses passos, visitamos todos os vértives, uma vez que todos os vértives estavam conexos pela arvore e pelas arestas adicionais. Sendo assim é uma solução viavel TSP. Vale ainda destacar, que essa heuristica é mais poderosa quando os pesos das arestas obedecem a desigualdade triangular, uma vez que os custos dos \"pulos\" terão um \"upper bound\", ou seja, as arestas usadas no caminho que não pertencem a arvore são majoradas pela propria arvore."
   ]
  },
  {
   "cell_type": "code",
   "execution_count": null,
   "id": "08d1d360",
   "metadata": {},
   "outputs": [],
   "source": []
  }
 ],
 "metadata": {
  "kernelspec": {
   "display_name": "Julia 1.8.1",
   "language": "julia",
   "name": "julia-1.8"
  },
  "language_info": {
   "file_extension": ".jl",
   "mimetype": "application/julia",
   "name": "julia",
   "version": "1.8.1"
  }
 },
 "nbformat": 4,
 "nbformat_minor": 5
}
