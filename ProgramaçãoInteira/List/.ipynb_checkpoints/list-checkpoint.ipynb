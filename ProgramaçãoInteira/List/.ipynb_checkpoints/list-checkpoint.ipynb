{
 "cells": [
  {
   "cell_type": "code",
   "execution_count": null,
   "id": "7f9e60f6",
   "metadata": {},
   "outputs": [],
   "source": []
  },
  {
   "cell_type": "markdown",
   "id": "ad6df984",
   "metadata": {},
   "source": [
    "## Problema 9"
   ]
  },
  {
   "cell_type": "markdown",
   "id": "5da656f6",
   "metadata": {},
   "source": []
  },
  {
   "cell_type": "markdown",
   "id": "f00b294e",
   "metadata": {},
   "source": [
    "## Problema 12"
   ]
  },
  {
   "cell_type": "markdown",
   "id": "99252d60",
   "metadata": {},
   "source": [
    "Assumindo que problemas de maximização inviáveis tem valor ótimo menos infinito e problemas de maximização ilimitados tem valor ótimo infinito (Usando reta real extendida). Quando o primeiro problema é inviável, $z$ é menos infinito, então teremos $z(u) \\geq z$. Em outros casos, perceba que para todo $x$ viável no primeiro problema temos $z \\geq c^Tx$. Como o segundo problema tem menos restrições, para todo $x$ viável no primeiro problema ele também é viável no segundo problema. Temos que $z(u) \\geq c^Tx + u^T(b-Ax)$. Como estamos supondo que $x$ é viável, então $b-Ax$ tem todas as coordenadas não negativas, como por hipótese $u$ tem todas as coordenadas não negativas, $u^T(b-Ax)$ é não negativo. Sendo assim, se o primeiro problema é ilimitado, o segundo também é e vale $z(u) \\geq z$. Se o primeiro problema tem solução ótimo $x^*$, então temos $z(u) \\geq c^Tx^* + u^T(b-Ax^*) \\geq c^Tx^* = z$.    "
   ]
  },
  {
   "cell_type": "markdown",
   "id": "132136ff",
   "metadata": {},
   "source": [
    "## Problema 13"
   ]
  },
  {
   "cell_type": "markdown",
   "id": "cee7df44",
   "metadata": {},
   "source": [
    "Perceba que (D) é um problema de programação linear e que seu dual, chamado aqui de P, é $max\\{c^Tx | Ax \\leq b x \\in \\mathbb{R}^n_+\\}$. Perceba também que (P) é uma relaxação de (PI), uma vez que a única diferença entre eles é que (P) possui variáveis reais e que (PI) possui variáveis inteiras. Por dualidade forte da programação linear, temos que $z_D = z_P$. Por ser relaxação, temos que $z_P \\geq z_{PI}$, então $z_D = z_P \\geq z_{PI}$. Além disso como (D) é um problema de minimização, se ele é ilimitado, $z_D = - \\infty$, então $z_{PI} = - \\infty$, mas como (PI) é um problema de maximização, isso significa ser inviável. "
   ]
  },
  {
   "cell_type": "markdown",
   "id": "aa3997be",
   "metadata": {},
   "source": [
    "## Problema 14"
   ]
  },
  {
   "cell_type": "markdown",
   "id": "ec10e867",
   "metadata": {},
   "source": [
    "A única diferença entrer $P_1$ e $P_2$ está nas restrições, sendo assim, basta mostrar que o conjunto viável de $P_1$ está contido em $P_2$. Mais precisamente, a diferença é que em $P_1$ temos $Ax=b$ e em $P_2$ temos $u^TAx=u^Tb$, que é equivalente à $u^T(Ax-b)=0$, que claramente é verdade quando $Ax=b$. Sendo assim, $P_2$ é relaxação de $P_1$. "
   ]
  },
  {
   "cell_type": "markdown",
   "id": "988bbf52",
   "metadata": {},
   "source": []
  }
 ],
 "metadata": {
  "kernelspec": {
   "display_name": "Julia 1.8.1",
   "language": "julia",
   "name": "julia-1.8"
  },
  "language_info": {
   "file_extension": ".jl",
   "mimetype": "application/julia",
   "name": "julia",
   "version": "1.8.1"
  }
 },
 "nbformat": 4,
 "nbformat_minor": 5
}
