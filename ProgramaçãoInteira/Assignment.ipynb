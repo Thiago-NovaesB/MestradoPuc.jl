{
 "cells": [
  {
   "cell_type": "markdown",
   "id": "1e7f2c47",
   "metadata": {},
   "source": [
    "Seja o problema de atribuição de tarefas:\n",
    "$$\n",
    "\\begin{aligned}\n",
    "    &\\min && \\sum_{ij} c_{ij}x_{ij}\\\\\n",
    "    & st && \\sum_{i} x_{ij} = 1 & \\forall j\\\\\n",
    "        &&& \\sum_{j} x_{ij} = 1 & \\forall i\\\\\n",
    "        &&& x_{ij} \\in \\{0,1\\} & \\forall ij\\\\\n",
    "\\end{aligned}\n",
    "$$"
   ]
  },
  {
   "cell_type": "markdown",
   "id": "3f028fbd",
   "metadata": {},
   "source": [
    "As soluções desse problema são equivalente a escolher qual maquina vai realizar qual tarefa. Sendo $N$ o numero de maquinas e tarefas, podemos escolher dentre $N$ maquinas para realizar a primeira tarefa. para a segunda tarefa, teremos $N-1$ maquinas para escolher. Sendo assim temos $N!$ soluçoes viaveis."
   ]
  },
  {
   "cell_type": "markdown",
   "id": "84e5eaf6",
   "metadata": {},
   "source": [
    "Por exemplo, para $N=3$ as soluções possiveis são:\n",
    "$$\n",
    "\\begin{bmatrix}\n",
    "1 & 0 & 0\\\\\n",
    "0 & 1 & 0\\\\\n",
    "0 & 0 & 1\\\\\n",
    "\\end{bmatrix},\n",
    "\\begin{bmatrix}\n",
    "1 & 0 & 0\\\\\n",
    "0 & 0 & 1\\\\\n",
    "0 & 1 & 0\\\\\n",
    "\\end{bmatrix},\n",
    "\\begin{bmatrix}\n",
    "0 & 1 & 0\\\\\n",
    "1 & 0 & 0\\\\\n",
    "0 & 0 & 1\\\\\n",
    "\\end{bmatrix},\n",
    "\\begin{bmatrix}\n",
    "0 & 0 & 1\\\\\n",
    "1 & 0 & 0\\\\\n",
    "0 & 1 & 0\\\\\n",
    "\\end{bmatrix},\n",
    "\\begin{bmatrix}\n",
    "0 & 1 & 0\\\\\n",
    "0 & 0 & 1\\\\\n",
    "1 & 0 & 0\\\\\n",
    "\\end{bmatrix},\n",
    "\\begin{bmatrix}\n",
    "0 & 0 & 1\\\\\n",
    "0 & 1 & 0\\\\\n",
    "1 & 0 & 0\\\\\n",
    "\\end{bmatrix}\n",
    "$$"
   ]
  },
  {
   "cell_type": "markdown",
   "id": "138f7373",
   "metadata": {},
   "source": [
    "Chamaremos esses elementos de $X^k$, onde $k$ vai de $1$ até $N!$"
   ]
  },
  {
   "cell_type": "markdown",
   "id": "72949c18",
   "metadata": {},
   "source": [
    "Seja agora a relaxação:\n",
    "$$\n",
    "\\begin{aligned}\n",
    "    &\\min && \\sum_{ij} c_{ij}x_{ij}\\\\\n",
    "    & st && \\sum_{i} x_{ij} = 1 & \\forall j\\\\\n",
    "        &&& \\sum_{j} x_{ij} = 1 & \\forall i\\\\\n",
    "        &&& x_{ij} \\in [0,1] & \\forall ij\\\\\n",
    "\\end{aligned}\n",
    "$$"
   ]
  },
  {
   "cell_type": "markdown",
   "id": "50de2fbe",
   "metadata": {},
   "source": [
    "Começaremos mostrando que o conjunto dos pontos viaveis do problema relaxado é igual ao conjunto das combinações convexas dos pontos viaveis do problema original"
   ]
  },
  {
   "cell_type": "markdown",
   "id": "2c89ecbf",
   "metadata": {},
   "source": [
    "## combinação convexa dos pontos viaveis $\\rightarrow$ ponto viavel do problema relaxado"
   ]
  },
  {
   "cell_type": "markdown",
   "id": "7e023065",
   "metadata": {},
   "source": [
    "Seja $Z = \\sum_{k} \\alpha_k X^k$, onde $\\sum_{k} \\alpha_k = 1$ e $\\alpha_k \\geq 0$<br>\n",
    "$\\sum_{i} Z_{ij} = \\sum_{i}\\sum_{k} \\alpha_k X_{ij}^k = \\sum_{k}\\sum_{i}  \\alpha_k X_{ij}^k = \\sum_{k}\\alpha_k\\sum_{i}  X_{ij}^k = \\sum_{k}\\alpha_k = 1 \\forall j$<br>\n",
    "$\\sum_{j} Z_{ij} = \\sum_{j}\\sum_{k} \\alpha_k X_{ij}^k = \\sum_{k}\\sum_{j}  \\alpha_k X_{ij}^k = \\sum_{k}\\alpha_k\\sum_{j}  X_{ij}^k = \\sum_{k}\\alpha_k = 1 \\forall i$<br>\n",
    "$Z_{ij} = \\sum_{k} \\alpha_k X_{ij}^k \\leq \\sum_{k} \\alpha_k = 1 \\forall ij$<br>\n",
    "$Z_{ij} = \\sum_{k} \\alpha_k X_{ij}^k \\geq \\sum_{k} 0 = 0 \\forall ij$<br>"
   ]
  },
  {
   "cell_type": "markdown",
   "id": "cfc7fbba",
   "metadata": {},
   "source": [
    "## ponto viavel do problema relaxado $\\rightarrow$  combinação convexa dos pontos viaveis"
   ]
  },
  {
   "cell_type": "markdown",
   "id": "a35b1d25",
   "metadata": {},
   "source": [
    "???"
   ]
  },
  {
   "cell_type": "markdown",
   "id": "5f98b755",
   "metadata": {},
   "source": [
    "## Sendo assim, os vertices do problema relaxado, são os pontos viaveis do problema original."
   ]
  },
  {
   "cell_type": "code",
   "execution_count": null,
   "id": "eb36c670",
   "metadata": {},
   "outputs": [],
   "source": []
  }
 ],
 "metadata": {
  "kernelspec": {
   "display_name": "Julia 1.8.1",
   "language": "julia",
   "name": "julia-1.8"
  },
  "language_info": {
   "file_extension": ".jl",
   "mimetype": "application/julia",
   "name": "julia",
   "version": "1.8.1"
  }
 },
 "nbformat": 4,
 "nbformat_minor": 5
}
